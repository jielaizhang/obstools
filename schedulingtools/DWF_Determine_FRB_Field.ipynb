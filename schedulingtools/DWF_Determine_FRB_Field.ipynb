{
 "cells": [
  {
   "cell_type": "markdown",
   "metadata": {},
   "source": [
    "# Intro\n",
    "\n",
    "To find a list of FRBs that are within RA and DEC range.\n",
    "\n",
    "After FRBs are found, you can check more carefully co-visibility at:  \n",
    "- Parks   : https://www.parkes.atnf.csiro.au/observing/utilities/coord.php  \n",
    "- General : http://catserver.ing.iac.es/staralt/index.php "
   ]
  },
  {
   "cell_type": "markdown",
   "metadata": {},
   "source": [
    "# Set Conditions"
   ]
  },
  {
   "cell_type": "code",
   "execution_count": 2,
   "metadata": {},
   "outputs": [],
   "source": [
    "RAmax,RAmin     = ['04:30:00','01:30:00']\n",
    "DECmax,DECmin   = ['-10:00:00','-90:00:00']\n",
    "\n",
    "# FRBcat file\n",
    "f='/Users/jielaizhang/Swinburne University/MMA - General/'\\\n",
    "  'DWF/2020_ObservingPrep/Scheduling/frbcat_20200806.csv'"
   ]
  },
  {
   "cell_type": "markdown",
   "metadata": {},
   "source": [
    "# Run Code Below"
   ]
  },
  {
   "cell_type": "code",
   "execution_count": 3,
   "metadata": {},
   "outputs": [],
   "source": [
    "import astropy.io.ascii as ascii\n",
    "import pandas as pd\n",
    "# Jielai's modules\n",
    "from misc.radec import hms2deg, dms2deg"
   ]
  },
  {
   "cell_type": "code",
   "execution_count": 4,
   "metadata": {},
   "outputs": [],
   "source": [
    "def degify_radec(frbcat):\n",
    "    ra_col  = hms2deg(frbcat['rop_raj'])\n",
    "    dec_col = dms2deg(frbcat['rop_decj'])\n",
    "    frbcat_radecdeg = frbcat\n",
    "    frbcat_radecdeg['rop_raj_deg']  = ra_col\n",
    "    frbcat_radecdeg['rop_decj_deg'] = dec_col\n",
    "    return frbcat_radecdeg"
   ]
  },
  {
   "cell_type": "code",
   "execution_count": 5,
   "metadata": {},
   "outputs": [],
   "source": [
    "frbcat = d=pd.read_csv(f)"
   ]
  },
  {
   "cell_type": "code",
   "execution_count": 6,
   "metadata": {},
   "outputs": [],
   "source": [
    "[RAmax_deg,RAmin_deg]    = hms2deg([RAmax,RAmin])\n",
    "[DECmax_deg,DECmin_deg]  = dms2deg([DECmax,DECmin])\n",
    "frbcat_radecdeg = degify_radec(frbcat)"
   ]
  },
  {
   "cell_type": "code",
   "execution_count": 7,
   "metadata": {},
   "outputs": [],
   "source": [
    "frb_RADECright = frbcat_radecdeg[(frbcat_radecdeg['rop_raj_deg']>RAmin_deg) & \n",
    "                                 (frbcat_radecdeg['rop_raj_deg']<RAmax_deg) &\n",
    "                                 (frbcat_radecdeg['rop_decj_deg']>DECmin_deg) &\n",
    "                                 (frbcat_radecdeg['rop_decj_deg']<DECmax_deg)\n",
    "                                ]"
   ]
  },
  {
   "cell_type": "markdown",
   "metadata": {},
   "source": [
    "# The Output you wanted:"
   ]
  },
  {
   "cell_type": "code",
   "execution_count": 10,
   "metadata": {},
   "outputs": [
    {
     "name": "stdout",
     "output_type": "stream",
     "text": [
      "RAmax:  04:30:00 \n",
      "RAmin:  01:30:00 \n",
      "DECmax:  -10:00:00 \n",
      "DECmin:  -90:00:00\n"
     ]
    },
    {
     "data": {
      "text/html": [
       "<div>\n",
       "<style scoped>\n",
       "    .dataframe tbody tr th:only-of-type {\n",
       "        vertical-align: middle;\n",
       "    }\n",
       "\n",
       "    .dataframe tbody tr th {\n",
       "        vertical-align: top;\n",
       "    }\n",
       "\n",
       "    .dataframe thead th {\n",
       "        text-align: right;\n",
       "    }\n",
       "</style>\n",
       "<table border=\"1\" class=\"dataframe\">\n",
       "  <thead>\n",
       "    <tr style=\"text-align: right;\">\n",
       "      <th></th>\n",
       "      <th>frb_name</th>\n",
       "      <th>utc</th>\n",
       "      <th>telescope</th>\n",
       "      <th>rop_raj</th>\n",
       "      <th>rop_decj</th>\n",
       "      <th>rop_gl</th>\n",
       "      <th>rop_gb</th>\n",
       "      <th>rmp_dm</th>\n",
       "      <th>rmp_width</th>\n",
       "      <th>rmp_snr</th>\n",
       "      <th>rop_raj_deg</th>\n",
       "      <th>rop_decj_deg</th>\n",
       "    </tr>\n",
       "  </thead>\n",
       "  <tbody>\n",
       "    <tr>\n",
       "      <td>97</td>\n",
       "      <td>FRB171213</td>\n",
       "      <td>2017/12/13 14:22:40.467</td>\n",
       "      <td>ASKAP</td>\n",
       "      <td>03:39</td>\n",
       "      <td>-10:56</td>\n",
       "      <td>198.800</td>\n",
       "      <td>-47.5000</td>\n",
       "      <td>158.6&amp;plusmn0.2</td>\n",
       "      <td>1.50</td>\n",
       "      <td>25.1</td>\n",
       "      <td>54.750000</td>\n",
       "      <td>-10.933333</td>\n",
       "    </tr>\n",
       "    <tr>\n",
       "      <td>98</td>\n",
       "      <td>FRB171116</td>\n",
       "      <td>2017/11/16 14:59:33.305</td>\n",
       "      <td>ASKAP</td>\n",
       "      <td>03:31.0</td>\n",
       "      <td>-17:14</td>\n",
       "      <td>206.300</td>\n",
       "      <td>-51.9000</td>\n",
       "      <td>618.5&amp;plusmn0.5</td>\n",
       "      <td>3.20</td>\n",
       "      <td>11.8</td>\n",
       "      <td>52.750000</td>\n",
       "      <td>-17.233333</td>\n",
       "    </tr>\n",
       "    <tr>\n",
       "      <td>99</td>\n",
       "      <td>FRB180119</td>\n",
       "      <td>2018/01/19 12:24:30.747</td>\n",
       "      <td>ASKAP</td>\n",
       "      <td>03:29.3</td>\n",
       "      <td>-12:44</td>\n",
       "      <td>199.500</td>\n",
       "      <td>-50.4000</td>\n",
       "      <td>402.7&amp;plusmn0.7</td>\n",
       "      <td>2.70</td>\n",
       "      <td>15.9</td>\n",
       "      <td>52.325000</td>\n",
       "      <td>-12.733333</td>\n",
       "    </tr>\n",
       "    <tr>\n",
       "      <td>100</td>\n",
       "      <td>FRB171216</td>\n",
       "      <td>2017/12/16 17:59:10.822</td>\n",
       "      <td>ASKAP</td>\n",
       "      <td>03:28</td>\n",
       "      <td>-57:04</td>\n",
       "      <td>271.200</td>\n",
       "      <td>-49.3000</td>\n",
       "      <td>203.1&amp;plusmn0.5</td>\n",
       "      <td>1.90</td>\n",
       "      <td>8.0</td>\n",
       "      <td>52.000000</td>\n",
       "      <td>-57.066667</td>\n",
       "    </tr>\n",
       "    <tr>\n",
       "      <td>101</td>\n",
       "      <td>FRB090625</td>\n",
       "      <td>2009/06/25 21:53:51.379</td>\n",
       "      <td>parkes</td>\n",
       "      <td>03:07:47</td>\n",
       "      <td>-29:55:36</td>\n",
       "      <td>226.444</td>\n",
       "      <td>-60.0303</td>\n",
       "      <td>899.55&amp;plusmn0.01</td>\n",
       "      <td>1.92</td>\n",
       "      <td>30.0</td>\n",
       "      <td>46.945833</td>\n",
       "      <td>-29.926667</td>\n",
       "    </tr>\n",
       "    <tr>\n",
       "      <td>102</td>\n",
       "      <td>FRB170707</td>\n",
       "      <td>2017/07/07 06:17:34.354</td>\n",
       "      <td>ASKAP</td>\n",
       "      <td>02:59</td>\n",
       "      <td>-57:16</td>\n",
       "      <td>275.000</td>\n",
       "      <td>-52.4000</td>\n",
       "      <td>235.2&amp;plusmn0.6</td>\n",
       "      <td>3.50</td>\n",
       "      <td>9.5</td>\n",
       "      <td>44.750000</td>\n",
       "      <td>-57.266667</td>\n",
       "    </tr>\n",
       "  </tbody>\n",
       "</table>\n",
       "</div>"
      ],
      "text/plain": [
       "      frb_name                      utc telescope   rop_raj   rop_decj  \\\n",
       "97   FRB171213  2017/12/13 14:22:40.467     ASKAP     03:39     -10:56   \n",
       "98   FRB171116  2017/11/16 14:59:33.305     ASKAP   03:31.0     -17:14   \n",
       "99   FRB180119  2018/01/19 12:24:30.747     ASKAP   03:29.3     -12:44   \n",
       "100  FRB171216  2017/12/16 17:59:10.822     ASKAP     03:28     -57:04   \n",
       "101  FRB090625  2009/06/25 21:53:51.379    parkes  03:07:47  -29:55:36   \n",
       "102  FRB170707  2017/07/07 06:17:34.354     ASKAP     02:59     -57:16   \n",
       "\n",
       "      rop_gl   rop_gb             rmp_dm  rmp_width  rmp_snr  rop_raj_deg  \\\n",
       "97   198.800 -47.5000    158.6&plusmn0.2       1.50     25.1    54.750000   \n",
       "98   206.300 -51.9000    618.5&plusmn0.5       3.20     11.8    52.750000   \n",
       "99   199.500 -50.4000    402.7&plusmn0.7       2.70     15.9    52.325000   \n",
       "100  271.200 -49.3000    203.1&plusmn0.5       1.90      8.0    52.000000   \n",
       "101  226.444 -60.0303  899.55&plusmn0.01       1.92     30.0    46.945833   \n",
       "102  275.000 -52.4000    235.2&plusmn0.6       3.50      9.5    44.750000   \n",
       "\n",
       "     rop_decj_deg  \n",
       "97     -10.933333  \n",
       "98     -17.233333  \n",
       "99     -12.733333  \n",
       "100    -57.066667  \n",
       "101    -29.926667  \n",
       "102    -57.266667  "
      ]
     },
     "execution_count": 10,
     "metadata": {},
     "output_type": "execute_result"
    }
   ],
   "source": [
    "print('RAmax: ',RAmax,'\\nRAmin: ',RAmin,'\\nDECmax: ',DECmax,'\\nDECmin: ', DECmin)\n",
    "frb_RADECright"
   ]
  },
  {
   "cell_type": "code",
   "execution_count": null,
   "metadata": {},
   "outputs": [],
   "source": []
  }
 ],
 "metadata": {
  "kernelspec": {
   "display_name": "Python 3",
   "language": "python",
   "name": "python3"
  },
  "language_info": {
   "codemirror_mode": {
    "name": "ipython",
    "version": 3
   },
   "file_extension": ".py",
   "mimetype": "text/x-python",
   "name": "python",
   "nbconvert_exporter": "python",
   "pygments_lexer": "ipython3",
   "version": "3.7.4"
  }
 },
 "nbformat": 4,
 "nbformat_minor": 2
}
