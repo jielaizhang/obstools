{
 "cells": [
  {
   "cell_type": "code",
   "execution_count": 3,
   "metadata": {},
   "outputs": [],
   "source": [
    "from datetime import datetime\n",
    "import pytz\n",
    "from pytz import timezone\n",
    "from pytz import common_timezones\n",
    "from matplotlib import cm\n",
    "import plotly.figure_factory as ff\n",
    "import numpy as np"
   ]
  },
  {
   "cell_type": "code",
   "execution_count": 9,
   "metadata": {},
   "outputs": [],
   "source": [
    "def get_Gantt_Params(Schedule_Text,in_fmt='%Y-%m-%d %H:%M:%S',out_tz='UTC',debug=False):\n",
    "\n",
    "    # How many scopes are listed\n",
    "    List_Scopes = set([x.split(',')[0] for x in Schedule_Text.split(';') if x])\n",
    "    no_scopes   = len(List_Scopes)\n",
    "    row_number  = no_scopes-1\n",
    "    \n",
    "    # How many Resources are listed (and hence how many colors needed)\n",
    "    List_Rsrcs   = set([x.split(',')[4] for x in Schedule_Text.split(';') if x])\n",
    "    no_Rsrcs     = len(List_Rsrcs)\n",
    "    color_number = -1\n",
    "    intervals    = np.linspace(0, 1, no_Rsrcs)\n",
    "    cm_          = [cm.rainbow(x) for x in intervals]\n",
    "    \n",
    "    # Set output timezone and format\n",
    "    output_tz   = timezone(out_tz)\n",
    "    out_fmt     = '%Y-%m-%d %H:%M:%S'\n",
    "    \n",
    "    # Initiate outputs\n",
    "    Gantt_Entries  = []\n",
    "    Gantt_Annots   = []\n",
    "    Track_Scopes   = set([])\n",
    "    Track_Rsrcs    = set([])\n",
    "    RowInfo_Dict   = {}\n",
    "    ColorInfo_Dict = {}\n",
    "\n",
    "    for line in Schedule_Text.split(';'):\n",
    "        # Catch empty lines\n",
    "        if len(line) > 0:\n",
    "            # Get Entry info\n",
    "            scope,start,end,in_tz,rsrc,label = line.split(',')\n",
    "            input_tz                         = timezone(in_tz)\n",
    "\n",
    "            # Figure out what row is this line plotted on gantt chart\n",
    "            if scope not in Track_Scopes:\n",
    "                RowInfo_Dict[scope]=row_number\n",
    "                row_number -= 1\n",
    "                Track_Scopes.add(scope)\n",
    "                \n",
    "            # Figure out if a new color is needed, if yes, then add. \n",
    "            if rsrc not in Track_Rsrcs:\n",
    "                color_number += 1\n",
    "                ColorInfo_Dict[rsrc]=cm2rgbstring(cm_[color_number])\n",
    "                if debug:\n",
    "                    print('DEBUG: COLORINFO_DICT added: ',ColorInfo_Dict[rsrc])\n",
    "                Track_Rsrcs.add(rsrc)\n",
    "                \n",
    "            # Get inverse of the color for this rsrc\n",
    "            inv_c=invert_color(ColorInfo_Dict[rsrc],debug=debug)\n",
    "\n",
    "            # Convert times to datetime with right input timezone information\n",
    "            start_pytz = datetime.strptime(start,in_fmt).replace(tzinfo=input_tz) \n",
    "            end_pytz   = datetime.strptime(end,in_fmt).replace(tzinfo=input_tz) \n",
    "\n",
    "            # Convert times to ouptut timezone\n",
    "            start_out   = start_pytz.astimezone(output_tz)\n",
    "            end_out     = end_pytz.astimezone(output_tz)\n",
    "            midtime_out = start_out+(end_out-start_out)/2\n",
    "\n",
    "            # Get times to string for gantt dictionary\n",
    "            s = start_out.strftime('%Y-%m-%d %H:%M:%S')\n",
    "            e = end_out.strftime('%Y-%m-%d %H:%M:%S')\n",
    "            m = midtime_out.strftime('%Y-%m-%d %H:%M:%S')\n",
    "\n",
    "            # Get Gantt Dictionary\n",
    "            d    = dict(Task=scope, \n",
    "                        Start=s, \n",
    "                        Finish=e, \n",
    "                        Resource=rsrc)\n",
    "            d_a  = dict(x=m,\n",
    "                        y=RowInfo_Dict[scope],\n",
    "                        text=label, \n",
    "                        showarrow=False, \n",
    "                        font=dict(color=inv_c)\n",
    "                       )\n",
    "            if debug:\n",
    "                print('DEBUG: Inverse Color: ',inv_c)\n",
    "            Gantt_Entries.append(d)\n",
    "            Gantt_Annots.append(d_a)\n",
    "             \n",
    "    return Gantt_Entries,ColorInfo_Dict,Gantt_Annots,List_Scopes\n",
    "\n",
    "def invert_color(c,debug=False):\n",
    "    if debug:\n",
    "        print('DEBUGGING invert_color')\n",
    "        print(c)\n",
    "    a=[int(x) for x in c.split('(')[1].split(')')[0].split(',')]\n",
    "    b = [255-x for x in a]\n",
    "    if debug:\n",
    "        print(b)\n",
    "    inverted_color = f'rgb( {b[0]},{b[1]},{b[2]})'\n",
    "    return inverted_color\n",
    "\n",
    "\n",
    "def cm2rgbstring(c):\n",
    "    rgbstring=f'rgb( {int(c[0]*255)},{int(c[1]*255)},{int(c[2]*255)})'\n",
    "    return rgbstring\n",
    "\n",
    "def rename_scope_to_scope_rsrc(Schedule_Text):\n",
    "    \n",
    "    New_Schedule_Text=''\n",
    "        \n",
    "    # Re-name Gantt \"Task\" from scope to scope_rsrc\n",
    "    # Read in only non-empty lines\n",
    "    for line in [x for x in Schedule_Text.split(';') if x]:\n",
    "        scope,start,end,in_tz,rsrc,label = line.split(',')\n",
    "        new_scope = scope+'-'+rsrc\n",
    "        new_line  = ','.join([new_scope,start,end,in_tz,rsrc,label])\n",
    "        New_Schedule_Text = ';'.join([New_Schedule_Text,new_line])\n",
    "        \n",
    "    return New_Schedule_Text\n",
    "\n",
    "def format_schedule_2types(Schedule_Text):\n",
    "    \n",
    "    # List all Scopes\n",
    "    List_Scopes = set([x.split(',')[0] for x in Schedule_Text.split(';') if x])\n",
    "    \n",
    "    # List all resources (color code of gantt chart)\n",
    "    List_Rsrcs   = set([x.split(',')[4] for x in Schedule_Text.split(';') if x])\n",
    "     \n",
    "    # Initiate empty schedule texts by scope and by resource\n",
    "    schedule_text_byscope = ''\n",
    "    schedule_text_byrsrc  = ''\n",
    "    \n",
    "    # Create by scope list\n",
    "    for scope in List_Scopes:\n",
    "        entries_for_this_scope = ';'.join([x for x in Schedule_Text.split(';') if (scope in x)])\n",
    "        schedule_text_byscope  = ';'.join([schedule_text_byscope,entries_for_this_scope])\n",
    "    \n",
    "    # Create by rsrc list\n",
    "    for rsrc in List_Rsrcs:\n",
    "        entries_for_this_rsrc = ';'.join([x for x in Schedule_Text.split(';') if (rsrc in x)])\n",
    "        schedule_text_byrsrc  = ';'.join([schedule_text_byrsrc,entries_for_this_rsrc])\n",
    "    \n",
    "    # Rename both schedule lists so that \"Task\" is scope_rsrc and not just scope\n",
    "    schedule_text_byscope = rename_scope_to_scope_rsrc(schedule_text_byscope)\n",
    "    schedule_text_byrsrc  = rename_scope_to_scope_rsrc(schedule_text_byrsrc)\n",
    "    \n",
    "    return schedule_text_byscope,schedule_text_byrsrc"
   ]
  },
  {
   "cell_type": "code",
   "execution_count": 11,
   "metadata": {},
   "outputs": [],
   "source": [
    "def Plot_Visibility_2types(Schedule_Text,in_fmt='%Y-%m-%d %H:%M:%S',out_tz='UTC',debug=False):\n",
    "    \n",
    "    schedule_text1,schedule_text2=format_schedule_2types(Schedule_Text)\n",
    "    \n",
    "    Plot_Visibility(schedule_text1,in_fmt='%Y-%m-%d %H:%M:%S',out_tz=out_tz,debug=debug)\n",
    "    \n",
    "    Plot_Visibility(schedule_text2,in_fmt='%Y-%m-%d %H:%M:%S',out_tz=out_tz,debug=debug)\n",
    "    \n",
    "    \n",
    "def Plot_Visibility(Schedule_Text,in_fmt='%Y-%m-%d %H:%M:%S',out_tz='UTC',debug=False):\n",
    "    Gantt_Entries,colors,Gantt_Annots,List_Scopes = get_Gantt_Params(Schedule_Text,\n",
    "                                                                     in_fmt='%Y-%m-%d %H:%M:%S',\n",
    "                                                                     out_tz=out_tz,\n",
    "                                                                     debug=debug)\n",
    "    if debug:\n",
    "        print(colors)\n",
    "\n",
    "    No_Lines = len(List_Scopes)+1\n",
    "\n",
    "    fig = ff.create_gantt(Gantt_Entries, colors=colors, index_col='Resource', title='DWF Schedule',\n",
    "                          show_colorbar=True, showgrid_x=True, showgrid_y=True, group_tasks=True,\n",
    "                          bar_width=0.4,height=60*No_Lines) \n",
    "    fig.update_traces(opacity=0.5)\n",
    "    fig['layout']['annotations'] = Gantt_Annots\n",
    "    fig.show()\n",
    "    \n",
    "def Plot_Schedule(Schedule_Text,in_fmt='%Y-%m-%d %H:%M:%S',out_tz='UTC',debug=False):\n",
    "    Gantt_Entries,colors,Gantt_Annots,List_Scopes = get_Gantt_Params(Schedule_Text,\n",
    "                                                                     in_fmt='%Y-%m-%d %H:%M:%S',\n",
    "                                                                     out_tz=out_tz,\n",
    "                                                                     debug=debug)\n",
    "    \n",
    "    # Overwite colors output from get_Gantt_Params\n",
    "    colors = dict(Neutrinos  = 'rgb(  0,   0,   0)',\n",
    "                  Gamma      = 'rgb(  0,   0, 150)',\n",
    "                  XRay       = 'rgb(  0,   0, 250)',\n",
    "                  UVXRay     = 'rgb(  0,   50, 250)',\n",
    "                  UV         = 'rgb(  0, 100, 250)',\n",
    "                  Vis        = 'rgb(  0, 200,   0)',\n",
    "                  Radio      = 'rgb(250,   0,   0)')\n",
    "    \n",
    "    if debug:\n",
    "        print(colors)\n",
    "\n",
    "    No_Lines = len(List_Scopes)+1\n",
    "\n",
    "    fig = ff.create_gantt(Gantt_Entries, colors=colors, index_col='Resource', title='DWF Schedule',\n",
    "                          show_colorbar=True, showgrid_x=True, showgrid_y=True, group_tasks=True,\n",
    "                          bar_width=0.4,height=50*No_Lines) \n",
    "    fig['layout']['annotations'] = Gantt_Annots\n",
    "    fig.show()"
   ]
  },
  {
   "cell_type": "markdown",
   "metadata": {},
   "source": [
    "# Schedule Plot"
   ]
  },
  {
   "cell_type": "code",
   "execution_count": 12,
   "metadata": {},
   "outputs": [
    {
     "data": {
      "application/vnd.plotly.v1+json": {
       "config": {
        "plotlyServerURL": "https://plot.ly"
       },
       "data": [
        {
         "fill": "toself",
         "fillcolor": "rgb(0, 200, 0)",
         "hoverinfo": "name",
         "legendgroup": "rgb(0, 200, 0)",
         "mode": "none",
         "name": "Vis",
         "type": "scatter",
         "x": [
          "2020-09-13 04:30:00",
          "2020-09-13 05:00:00",
          "2020-09-13 05:00:00",
          "2020-09-13 04:30:00",
          "2020-09-13 04:30:00",
          "2020-09-14 04:30:00",
          "2020-09-14 05:00:00",
          "2020-09-14 05:00:00",
          "2020-09-14 04:30:00",
          "2020-09-14 04:30:00",
          "2020-09-15 04:30:00",
          "2020-09-15 05:00:00",
          "2020-09-15 05:00:00",
          "2020-09-15 04:30:00",
          "2020-09-15 04:30:00",
          "2020-09-17 04:30:00",
          "2020-09-17 05:00:00",
          "2020-09-17 05:00:00",
          "2020-09-17 04:30:00",
          "2020-09-17 04:30:00",
          "2020-09-18 04:30:00",
          "2020-09-18 05:00:00",
          "2020-09-18 05:00:00",
          "2020-09-18 04:30:00",
          "2020-09-18 04:30:00",
          "2020-09-19 04:30:00",
          "2020-09-19 05:00:00",
          "2020-09-19 05:00:00",
          "2020-09-19 04:30:00",
          "2020-09-19 04:30:00",
          "2020-09-13 05:05:05",
          "2020-09-13 06:30:00",
          "2020-09-13 06:30:00",
          "2020-09-13 05:05:05",
          "2020-09-13 05:05:05",
          "2020-09-14 05:05:00",
          "2020-09-14 06:30:00",
          "2020-09-14 06:30:00",
          "2020-09-14 05:05:00",
          "2020-09-14 05:05:00",
          "2020-09-15 05:05:00",
          "2020-09-15 06:30:00",
          "2020-09-15 06:30:00",
          "2020-09-15 05:05:00",
          "2020-09-15 05:05:00",
          "2020-09-17 05:05:00",
          "2020-09-17 06:30:00",
          "2020-09-17 06:30:00",
          "2020-09-17 05:05:00",
          "2020-09-17 05:05:00",
          "2020-09-18 05:05:00",
          "2020-09-18 06:30:00",
          "2020-09-18 06:30:00",
          "2020-09-18 05:05:00",
          "2020-09-18 05:05:00",
          "2020-09-19 05:05:00",
          "2020-09-19 06:30:00",
          "2020-09-19 06:30:00",
          "2020-09-19 05:05:00",
          "2020-09-19 05:05:00",
          "2020-09-13 06:31:00",
          "2020-09-13 08:00:00",
          "2020-09-13 08:00:00",
          "2020-09-13 06:31:00",
          "2020-09-13 06:31:00",
          "2020-09-14 06:31:00",
          "2020-09-14 08:00:00",
          "2020-09-14 08:00:00",
          "2020-09-14 06:31:00",
          "2020-09-14 06:31:00",
          "2020-09-15 06:31:00",
          "2020-09-15 08:00:00",
          "2020-09-15 08:00:00",
          "2020-09-15 06:31:00",
          "2020-09-15 06:31:00",
          "2020-09-17 06:31:00",
          "2020-09-17 08:00:00",
          "2020-09-17 08:00:00",
          "2020-09-17 06:31:00",
          "2020-09-17 06:31:00",
          "2020-09-18 06:31:00",
          "2020-09-18 08:00:00",
          "2020-09-18 08:00:00",
          "2020-09-18 06:31:00",
          "2020-09-18 06:31:00",
          "2020-09-19 06:31:00",
          "2020-09-19 08:00:00",
          "2020-09-19 08:00:00",
          "2020-09-19 06:31:00",
          "2020-09-19 06:31:00",
          "2020-09-13 08:01:00",
          "2020-09-13 09:00:00",
          "2020-09-13 09:00:00",
          "2020-09-13 08:01:00",
          "2020-09-13 08:01:00",
          "2020-09-14 08:01:00",
          "2020-09-14 09:00:00",
          "2020-09-14 09:00:00",
          "2020-09-14 08:01:00",
          "2020-09-14 08:01:00",
          "2020-09-15 08:01:00",
          "2020-09-15 09:00:00",
          "2020-09-15 09:00:00",
          "2020-09-15 08:01:00",
          "2020-09-15 08:01:00",
          "2020-09-17 08:01:00",
          "2020-09-17 09:00:00",
          "2020-09-17 09:00:00",
          "2020-09-17 08:01:00",
          "2020-09-17 08:01:00",
          "2020-09-18 08:01:00",
          "2020-09-18 09:00:00",
          "2020-09-18 09:00:00",
          "2020-09-18 08:01:00",
          "2020-09-18 08:01:00",
          "2020-09-19 08:01:00",
          "2020-09-19 09:00:00",
          "2020-09-19 09:00:00",
          "2020-09-19 08:01:00",
          "2020-09-19 08:01:00",
          "2020-09-12 09:14:00",
          "2020-09-12 18:27:00",
          "2020-09-12 18:27:00",
          "2020-09-12 09:14:00",
          "2020-09-12 09:14:00",
          "2020-09-13 09:14:00",
          "2020-09-13 18:27:00",
          "2020-09-13 18:27:00",
          "2020-09-13 09:14:00",
          "2020-09-13 09:14:00",
          "2020-09-14 09:14:00",
          "2020-09-14 18:27:00",
          "2020-09-14 18:27:00",
          "2020-09-14 09:14:00",
          "2020-09-14 09:14:00",
          "2020-09-15 09:14:00",
          "2020-09-15 18:27:00",
          "2020-09-15 18:27:00",
          "2020-09-15 09:14:00",
          "2020-09-15 09:14:00",
          "2020-09-16 09:14:00",
          "2020-09-16 18:27:00",
          "2020-09-16 18:27:00",
          "2020-09-16 09:14:00",
          "2020-09-16 09:14:00",
          "2020-09-17 09:14:00",
          "2020-09-17 18:27:00",
          "2020-09-17 18:27:00",
          "2020-09-17 09:14:00",
          "2020-09-17 09:14:00",
          "2020-09-18 09:14:00",
          "2020-09-18 18:27:00",
          "2020-09-18 18:27:00",
          "2020-09-18 09:14:00",
          "2020-09-18 09:14:00",
          "2020-09-19 09:14:00",
          "2020-09-19 18:27:00",
          "2020-09-19 18:27:00",
          "2020-09-19 09:14:00",
          "2020-09-19 09:14:00",
          "2020-09-20 09:14:00",
          "2020-09-20 18:27:00",
          "2020-09-20 18:27:00",
          "2020-09-20 09:14:00",
          "2020-09-20 09:14:00",
          "2020-09-21 09:14:00",
          "2020-09-21 18:27:00",
          "2020-09-21 18:27:00",
          "2020-09-21 09:14:00",
          "2020-09-21 09:14:00",
          "2020-09-22 09:14:00",
          "2020-09-22 18:27:00",
          "2020-09-22 18:27:00",
          "2020-09-22 09:14:00",
          "2020-09-22 09:14:00",
          "2020-09-23 09:14:00",
          "2020-09-23 18:27:00",
          "2020-09-23 18:27:00",
          "2020-09-23 09:14:00",
          "2020-09-23 09:14:00",
          "2020-09-24 09:14:00",
          "2020-09-24 18:27:00",
          "2020-09-24 18:27:00",
          "2020-09-24 09:14:00",
          "2020-09-24 09:14:00",
          "2020-09-14 09:14:00",
          "2020-09-14 18:27:00",
          "2020-09-14 18:27:00",
          "2020-09-14 09:14:00",
          "2020-09-14 09:14:00",
          "2020-09-15 09:14:00",
          "2020-09-15 18:27:00",
          "2020-09-15 18:27:00",
          "2020-09-15 09:14:00",
          "2020-09-15 09:14:00",
          "2020-09-16 09:14:00",
          "2020-09-16 18:27:00",
          "2020-09-16 18:27:00",
          "2020-09-16 09:14:00",
          "2020-09-16 09:14:00",
          "2020-09-17 09:14:00",
          "2020-09-17 18:27:00",
          "2020-09-17 18:27:00",
          "2020-09-17 09:14:00",
          "2020-09-17 09:14:00",
          "2020-09-18 09:14:00",
          "2020-09-18 18:27:00",
          "2020-09-18 18:27:00",
          "2020-09-18 09:14:00",
          "2020-09-18 09:14:00",
          "2020-09-19 09:14:00",
          "2020-09-19 18:27:00",
          "2020-09-19 18:27:00",
          "2020-09-19 09:14:00"
         ],
         "y": [
          4.6,
          4.6,
          5.4,
          5.4,
          null,
          4.6,
          4.6,
          5.4,
          5.4,
          null,
          4.6,
          4.6,
          5.4,
          5.4,
          null,
          4.6,
          4.6,
          5.4,
          5.4,
          null,
          4.6,
          4.6,
          5.4,
          5.4,
          null,
          4.6,
          4.6,
          5.4,
          5.4,
          null,
          4.6,
          4.6,
          5.4,
          5.4,
          null,
          4.6,
          4.6,
          5.4,
          5.4,
          null,
          4.6,
          4.6,
          5.4,
          5.4,
          null,
          4.6,
          4.6,
          5.4,
          5.4,
          null,
          4.6,
          4.6,
          5.4,
          5.4,
          null,
          4.6,
          4.6,
          5.4,
          5.4,
          null,
          4.6,
          4.6,
          5.4,
          5.4,
          null,
          4.6,
          4.6,
          5.4,
          5.4,
          null,
          4.6,
          4.6,
          5.4,
          5.4,
          null,
          4.6,
          4.6,
          5.4,
          5.4,
          null,
          4.6,
          4.6,
          5.4,
          5.4,
          null,
          4.6,
          4.6,
          5.4,
          5.4,
          null,
          4.6,
          4.6,
          5.4,
          5.4,
          null,
          4.6,
          4.6,
          5.4,
          5.4,
          null,
          4.6,
          4.6,
          5.4,
          5.4,
          null,
          4.6,
          4.6,
          5.4,
          5.4,
          null,
          4.6,
          4.6,
          5.4,
          5.4,
          null,
          4.6,
          4.6,
          5.4,
          5.4,
          null,
          1.6,
          1.6,
          2.4,
          2.4,
          null,
          1.6,
          1.6,
          2.4,
          2.4,
          null,
          1.6,
          1.6,
          2.4,
          2.4,
          null,
          1.6,
          1.6,
          2.4,
          2.4,
          null,
          1.6,
          1.6,
          2.4,
          2.4,
          null,
          1.6,
          1.6,
          2.4,
          2.4,
          null,
          1.6,
          1.6,
          2.4,
          2.4,
          null,
          1.6,
          1.6,
          2.4,
          2.4,
          null,
          1.6,
          1.6,
          2.4,
          2.4,
          null,
          0.6,
          0.6,
          1.4,
          1.4,
          null,
          0.6,
          0.6,
          1.4,
          1.4,
          null,
          0.6,
          0.6,
          1.4,
          1.4,
          null,
          0.6,
          0.6,
          1.4,
          1.4,
          null,
          -0.4,
          -0.4,
          0.4,
          0.4,
          null,
          -0.4,
          -0.4,
          0.4,
          0.4,
          null,
          -0.4,
          -0.4,
          0.4,
          0.4,
          null,
          -0.4,
          -0.4,
          0.4,
          0.4,
          null,
          -0.4,
          -0.4,
          0.4,
          0.4,
          null,
          -0.4,
          -0.4,
          0.4,
          0.4
         ]
        },
        {
         "fill": "toself",
         "fillcolor": "rgb(0, 50, 250)",
         "hoverinfo": "name",
         "legendgroup": "rgb(0, 50, 250)",
         "mode": "none",
         "name": "UVXRay",
         "type": "scatter",
         "x": [
          "2020-09-14 06:00:00",
          "2020-09-14 08:00:00",
          "2020-09-14 08:00:00",
          "2020-09-14 06:00:00",
          "2020-09-14 06:00:00",
          "2020-09-15 06:00:00",
          "2020-09-15 08:00:00",
          "2020-09-15 08:00:00",
          "2020-09-15 06:00:00",
          "2020-09-15 06:00:00",
          "2020-09-18 06:00:00",
          "2020-09-18 08:00:00",
          "2020-09-18 08:00:00",
          "2020-09-18 06:00:00"
         ],
         "y": [
          2.6,
          2.6,
          3.4,
          3.4,
          null,
          2.6,
          2.6,
          3.4,
          3.4,
          null,
          2.6,
          2.6,
          3.4,
          3.4
         ]
        },
        {
         "fill": "toself",
         "fillcolor": "rgb(250, 0, 0)",
         "hoverinfo": "name",
         "legendgroup": "rgb(250, 0, 0)",
         "mode": "none",
         "name": "Radio",
         "type": "scatter",
         "x": [
          "2020-09-13 04:00:00",
          "2020-09-13 10:00:00",
          "2020-09-13 10:00:00",
          "2020-09-13 04:00:00",
          "2020-09-13 04:00:00",
          "2020-09-14 04:00:00",
          "2020-09-14 10:00:00",
          "2020-09-14 10:00:00",
          "2020-09-14 04:00:00",
          "2020-09-14 04:00:00",
          "2020-09-15 04:00:00",
          "2020-09-15 10:00:00",
          "2020-09-15 10:00:00",
          "2020-09-15 04:00:00",
          "2020-09-15 04:00:00",
          "2020-09-17 04:00:00",
          "2020-09-17 10:00:00",
          "2020-09-17 10:00:00",
          "2020-09-17 04:00:00",
          "2020-09-17 04:00:00",
          "2020-09-18 04:00:00",
          "2020-09-18 10:00:00",
          "2020-09-18 10:00:00",
          "2020-09-18 04:00:00",
          "2020-09-18 04:00:00",
          "2020-09-19 04:00:00",
          "2020-09-19 10:00:00",
          "2020-09-19 10:00:00",
          "2020-09-19 04:00:00"
         ],
         "y": [
          3.6,
          3.6,
          4.4,
          4.4,
          null,
          3.6,
          3.6,
          4.4,
          4.4,
          null,
          3.6,
          3.6,
          4.4,
          4.4,
          null,
          3.6,
          3.6,
          4.4,
          4.4,
          null,
          3.6,
          3.6,
          4.4,
          4.4,
          null,
          3.6,
          3.6,
          4.4,
          4.4
         ]
        },
        {
         "legendgroup": "rgb(0, 200, 0)",
         "marker": {
          "color": "rgb(0, 200, 0)",
          "opacity": 0,
          "size": 1
         },
         "mode": "markers",
         "name": "",
         "showlegend": false,
         "text": [
          null,
          null,
          null,
          null,
          null,
          null,
          null,
          null,
          null,
          null,
          null,
          null,
          null,
          null,
          null,
          null,
          null,
          null,
          null,
          null,
          null,
          null,
          null,
          null,
          null,
          null,
          null,
          null,
          null,
          null,
          null,
          null,
          null,
          null,
          null,
          null,
          null,
          null,
          null,
          null,
          null,
          null,
          null,
          null,
          null,
          null,
          null,
          null,
          null,
          null,
          null,
          null,
          null,
          null,
          null,
          null,
          null,
          null,
          null,
          null,
          null,
          null,
          null,
          null,
          null,
          null,
          null,
          null,
          null,
          null,
          null,
          null,
          null,
          null,
          null,
          null,
          null,
          null,
          null,
          null,
          null,
          null,
          null,
          null,
          null,
          null
         ],
         "type": "scatter",
         "x": [
          "2020-09-13 04:30:00",
          "2020-09-13 05:00:00",
          "2020-09-14 04:30:00",
          "2020-09-14 05:00:00",
          "2020-09-15 04:30:00",
          "2020-09-15 05:00:00",
          "2020-09-17 04:30:00",
          "2020-09-17 05:00:00",
          "2020-09-18 04:30:00",
          "2020-09-18 05:00:00",
          "2020-09-19 04:30:00",
          "2020-09-19 05:00:00",
          "2020-09-13 05:05:05",
          "2020-09-13 06:30:00",
          "2020-09-14 05:05:00",
          "2020-09-14 06:30:00",
          "2020-09-15 05:05:00",
          "2020-09-15 06:30:00",
          "2020-09-17 05:05:00",
          "2020-09-17 06:30:00",
          "2020-09-18 05:05:00",
          "2020-09-18 06:30:00",
          "2020-09-19 05:05:00",
          "2020-09-19 06:30:00",
          "2020-09-13 06:31:00",
          "2020-09-13 08:00:00",
          "2020-09-14 06:31:00",
          "2020-09-14 08:00:00",
          "2020-09-15 06:31:00",
          "2020-09-15 08:00:00",
          "2020-09-17 06:31:00",
          "2020-09-17 08:00:00",
          "2020-09-18 06:31:00",
          "2020-09-18 08:00:00",
          "2020-09-19 06:31:00",
          "2020-09-19 08:00:00",
          "2020-09-13 08:01:00",
          "2020-09-13 09:00:00",
          "2020-09-14 08:01:00",
          "2020-09-14 09:00:00",
          "2020-09-15 08:01:00",
          "2020-09-15 09:00:00",
          "2020-09-17 08:01:00",
          "2020-09-17 09:00:00",
          "2020-09-18 08:01:00",
          "2020-09-18 09:00:00",
          "2020-09-19 08:01:00",
          "2020-09-19 09:00:00",
          "2020-09-12 09:14:00",
          "2020-09-12 18:27:00",
          "2020-09-13 09:14:00",
          "2020-09-13 18:27:00",
          "2020-09-14 09:14:00",
          "2020-09-14 18:27:00",
          "2020-09-15 09:14:00",
          "2020-09-15 18:27:00",
          "2020-09-16 09:14:00",
          "2020-09-16 18:27:00",
          "2020-09-17 09:14:00",
          "2020-09-17 18:27:00",
          "2020-09-18 09:14:00",
          "2020-09-18 18:27:00",
          "2020-09-19 09:14:00",
          "2020-09-19 18:27:00",
          "2020-09-20 09:14:00",
          "2020-09-20 18:27:00",
          "2020-09-21 09:14:00",
          "2020-09-21 18:27:00",
          "2020-09-22 09:14:00",
          "2020-09-22 18:27:00",
          "2020-09-23 09:14:00",
          "2020-09-23 18:27:00",
          "2020-09-24 09:14:00",
          "2020-09-24 18:27:00",
          "2020-09-14 09:14:00",
          "2020-09-14 18:27:00",
          "2020-09-15 09:14:00",
          "2020-09-15 18:27:00",
          "2020-09-16 09:14:00",
          "2020-09-16 18:27:00",
          "2020-09-17 09:14:00",
          "2020-09-17 18:27:00",
          "2020-09-18 09:14:00",
          "2020-09-18 18:27:00",
          "2020-09-19 09:14:00",
          "2020-09-19 18:27:00"
         ],
         "y": [
          5,
          5,
          5,
          5,
          5,
          5,
          5,
          5,
          5,
          5,
          5,
          5,
          5,
          5,
          5,
          5,
          5,
          5,
          5,
          5,
          5,
          5,
          5,
          5,
          5,
          5,
          5,
          5,
          5,
          5,
          5,
          5,
          5,
          5,
          5,
          5,
          5,
          5,
          5,
          5,
          5,
          5,
          5,
          5,
          5,
          5,
          5,
          5,
          2,
          2,
          2,
          2,
          2,
          2,
          2,
          2,
          2,
          2,
          2,
          2,
          2,
          2,
          2,
          2,
          2,
          2,
          1,
          1,
          1,
          1,
          1,
          1,
          1,
          1,
          0,
          0,
          0,
          0,
          0,
          0,
          0,
          0,
          0,
          0,
          0,
          0
         ]
        },
        {
         "legendgroup": "rgb(0, 50, 250)",
         "marker": {
          "color": "rgb(0, 50, 250)",
          "opacity": 0,
          "size": 1
         },
         "mode": "markers",
         "name": "",
         "showlegend": false,
         "text": [
          null,
          null,
          null,
          null,
          null,
          null
         ],
         "type": "scatter",
         "x": [
          "2020-09-14 06:00:00",
          "2020-09-14 08:00:00",
          "2020-09-15 06:00:00",
          "2020-09-15 08:00:00",
          "2020-09-18 06:00:00",
          "2020-09-18 08:00:00"
         ],
         "y": [
          3,
          3,
          3,
          3,
          3,
          3
         ]
        },
        {
         "legendgroup": "rgb(250, 0, 0)",
         "marker": {
          "color": "rgb(250, 0, 0)",
          "opacity": 0,
          "size": 1
         },
         "mode": "markers",
         "name": "",
         "showlegend": false,
         "text": [
          null,
          null,
          null,
          null,
          null,
          null,
          null,
          null,
          null,
          null,
          null,
          null
         ],
         "type": "scatter",
         "x": [
          "2020-09-13 04:00:00",
          "2020-09-13 10:00:00",
          "2020-09-14 04:00:00",
          "2020-09-14 10:00:00",
          "2020-09-15 04:00:00",
          "2020-09-15 10:00:00",
          "2020-09-17 04:00:00",
          "2020-09-17 10:00:00",
          "2020-09-18 04:00:00",
          "2020-09-18 10:00:00",
          "2020-09-19 04:00:00",
          "2020-09-19 10:00:00"
         ],
         "y": [
          4,
          4,
          4,
          4,
          4,
          4,
          4,
          4,
          4,
          4,
          4,
          4
         ]
        }
       ],
       "layout": {
        "annotations": [
         {
          "font": {
           "color": "rgb( 128,255,0)"
          },
          "showarrow": false,
          "text": "N",
          "x": "2020-09-13 04:45:00",
          "y": 5
         },
         {
          "font": {
           "color": "rgb( 128,255,0)"
          },
          "showarrow": false,
          "text": "N",
          "x": "2020-09-14 04:45:00",
          "y": 5
         },
         {
          "font": {
           "color": "rgb( 128,255,0)"
          },
          "showarrow": false,
          "text": "N",
          "x": "2020-09-15 04:45:00",
          "y": 5
         },
         {
          "font": {
           "color": "rgb( 128,255,0)"
          },
          "showarrow": false,
          "text": "N",
          "x": "2020-09-17 04:45:00",
          "y": 5
         },
         {
          "font": {
           "color": "rgb( 128,255,0)"
          },
          "showarrow": false,
          "text": "N",
          "x": "2020-09-18 04:45:00",
          "y": 5
         },
         {
          "font": {
           "color": "rgb( 128,255,0)"
          },
          "showarrow": false,
          "text": "N",
          "x": "2020-09-19 04:45:00",
          "y": 5
         },
         {
          "font": {
           "color": "rgb( 128,255,0)"
          },
          "showarrow": false,
          "text": "F18",
          "x": "2020-09-13 05:47:32",
          "y": 5
         },
         {
          "font": {
           "color": "rgb( 128,255,0)"
          },
          "showarrow": false,
          "text": "F18",
          "x": "2020-09-14 05:47:30",
          "y": 5
         },
         {
          "font": {
           "color": "rgb( 128,255,0)"
          },
          "showarrow": false,
          "text": "F18",
          "x": "2020-09-15 05:47:30",
          "y": 5
         },
         {
          "font": {
           "color": "rgb( 128,255,0)"
          },
          "showarrow": false,
          "text": "F18",
          "x": "2020-09-17 05:47:30",
          "y": 5
         },
         {
          "font": {
           "color": "rgb( 128,255,0)"
          },
          "showarrow": false,
          "text": "F18",
          "x": "2020-09-18 05:47:30",
          "y": 5
         },
         {
          "font": {
           "color": "rgb( 128,255,0)"
          },
          "showarrow": false,
          "text": "F18",
          "x": "2020-09-19 05:47:30",
          "y": 5
         },
         {
          "font": {
           "color": "rgb( 128,255,0)"
          },
          "showarrow": false,
          "text": "F19",
          "x": "2020-09-13 07:15:30",
          "y": 5
         },
         {
          "font": {
           "color": "rgb( 128,255,0)"
          },
          "showarrow": false,
          "text": "F19",
          "x": "2020-09-14 07:15:30",
          "y": 5
         },
         {
          "font": {
           "color": "rgb( 128,255,0)"
          },
          "showarrow": false,
          "text": "F19",
          "x": "2020-09-15 07:15:30",
          "y": 5
         },
         {
          "font": {
           "color": "rgb( 128,255,0)"
          },
          "showarrow": false,
          "text": "F19",
          "x": "2020-09-17 07:15:30",
          "y": 5
         },
         {
          "font": {
           "color": "rgb( 128,255,0)"
          },
          "showarrow": false,
          "text": "F19",
          "x": "2020-09-18 07:15:30",
          "y": 5
         },
         {
          "font": {
           "color": "rgb( 128,255,0)"
          },
          "showarrow": false,
          "text": "F19",
          "x": "2020-09-19 07:15:30",
          "y": 5
         },
         {
          "font": {
           "color": "rgb( 128,255,0)"
          },
          "showarrow": false,
          "text": "E",
          "x": "2020-09-13 08:30:30",
          "y": 5
         },
         {
          "font": {
           "color": "rgb( 128,255,0)"
          },
          "showarrow": false,
          "text": "E",
          "x": "2020-09-14 08:30:30",
          "y": 5
         },
         {
          "font": {
           "color": "rgb( 128,255,0)"
          },
          "showarrow": false,
          "text": "E",
          "x": "2020-09-15 08:30:30",
          "y": 5
         },
         {
          "font": {
           "color": "rgb( 128,255,0)"
          },
          "showarrow": false,
          "text": "E",
          "x": "2020-09-17 08:30:30",
          "y": 5
         },
         {
          "font": {
           "color": "rgb( 128,255,0)"
          },
          "showarrow": false,
          "text": "E",
          "x": "2020-09-18 08:30:30",
          "y": 5
         },
         {
          "font": {
           "color": "rgb( 128,255,0)"
          },
          "showarrow": false,
          "text": "E",
          "x": "2020-09-19 08:30:30",
          "y": 5
         },
         {
          "font": {
           "color": "rgb( 127,1,76)"
          },
          "showarrow": false,
          "text": "",
          "x": "2020-09-13 07:00:00",
          "y": 4
         },
         {
          "font": {
           "color": "rgb( 127,1,76)"
          },
          "showarrow": false,
          "text": "",
          "x": "2020-09-14 07:00:00",
          "y": 4
         },
         {
          "font": {
           "color": "rgb( 127,1,76)"
          },
          "showarrow": false,
          "text": "",
          "x": "2020-09-15 07:00:00",
          "y": 4
         },
         {
          "font": {
           "color": "rgb( 127,1,76)"
          },
          "showarrow": false,
          "text": "",
          "x": "2020-09-17 07:00:00",
          "y": 4
         },
         {
          "font": {
           "color": "rgb( 127,1,76)"
          },
          "showarrow": false,
          "text": "",
          "x": "2020-09-18 07:00:00",
          "y": 4
         },
         {
          "font": {
           "color": "rgb( 127,1,76)"
          },
          "showarrow": false,
          "text": "",
          "x": "2020-09-19 07:00:00",
          "y": 4
         },
         {
          "font": {
           "color": "rgb( 0,255,255)"
          },
          "showarrow": false,
          "text": "",
          "x": "2020-09-14 07:00:00",
          "y": 3
         },
         {
          "font": {
           "color": "rgb( 0,255,255)"
          },
          "showarrow": false,
          "text": "",
          "x": "2020-09-15 07:00:00",
          "y": 3
         },
         {
          "font": {
           "color": "rgb( 0,255,255)"
          },
          "showarrow": false,
          "text": "",
          "x": "2020-09-18 07:00:00",
          "y": 3
         },
         {
          "font": {
           "color": "rgb( 128,255,0)"
          },
          "showarrow": false,
          "text": "",
          "x": "2020-09-12 13:50:30",
          "y": 2
         },
         {
          "font": {
           "color": "rgb( 128,255,0)"
          },
          "showarrow": false,
          "text": "",
          "x": "2020-09-13 13:50:30",
          "y": 2
         },
         {
          "font": {
           "color": "rgb( 128,255,0)"
          },
          "showarrow": false,
          "text": "",
          "x": "2020-09-14 13:50:30",
          "y": 2
         },
         {
          "font": {
           "color": "rgb( 128,255,0)"
          },
          "showarrow": false,
          "text": "",
          "x": "2020-09-15 13:50:30",
          "y": 2
         },
         {
          "font": {
           "color": "rgb( 128,255,0)"
          },
          "showarrow": false,
          "text": "",
          "x": "2020-09-16 13:50:30",
          "y": 2
         },
         {
          "font": {
           "color": "rgb( 128,255,0)"
          },
          "showarrow": false,
          "text": "",
          "x": "2020-09-17 13:50:30",
          "y": 2
         },
         {
          "font": {
           "color": "rgb( 128,255,0)"
          },
          "showarrow": false,
          "text": "",
          "x": "2020-09-18 13:50:30",
          "y": 2
         },
         {
          "font": {
           "color": "rgb( 128,255,0)"
          },
          "showarrow": false,
          "text": "",
          "x": "2020-09-19 13:50:30",
          "y": 2
         },
         {
          "font": {
           "color": "rgb( 128,255,0)"
          },
          "showarrow": false,
          "text": "",
          "x": "2020-09-20 13:50:30",
          "y": 2
         },
         {
          "font": {
           "color": "rgb( 128,255,0)"
          },
          "showarrow": false,
          "text": "",
          "x": "2020-09-21 13:50:30",
          "y": 1
         },
         {
          "font": {
           "color": "rgb( 128,255,0)"
          },
          "showarrow": false,
          "text": "",
          "x": "2020-09-22 13:50:30",
          "y": 1
         },
         {
          "font": {
           "color": "rgb( 128,255,0)"
          },
          "showarrow": false,
          "text": "",
          "x": "2020-09-23 13:50:30",
          "y": 1
         },
         {
          "font": {
           "color": "rgb( 128,255,0)"
          },
          "showarrow": false,
          "text": "",
          "x": "2020-09-24 13:50:30",
          "y": 1
         },
         {
          "font": {
           "color": "rgb( 128,255,0)"
          },
          "showarrow": false,
          "text": "",
          "x": "2020-09-14 13:50:30",
          "y": 0
         },
         {
          "font": {
           "color": "rgb( 128,255,0)"
          },
          "showarrow": false,
          "text": "",
          "x": "2020-09-15 13:50:30",
          "y": 0
         },
         {
          "font": {
           "color": "rgb( 128,255,0)"
          },
          "showarrow": false,
          "text": "",
          "x": "2020-09-16 13:50:30",
          "y": 0
         },
         {
          "font": {
           "color": "rgb( 128,255,0)"
          },
          "showarrow": false,
          "text": "",
          "x": "2020-09-17 13:50:30",
          "y": 0
         },
         {
          "font": {
           "color": "rgb( 128,255,0)"
          },
          "showarrow": false,
          "text": "",
          "x": "2020-09-18 13:50:30",
          "y": 0
         },
         {
          "font": {
           "color": "rgb( 128,255,0)"
          },
          "showarrow": false,
          "text": "",
          "x": "2020-09-19 13:50:30",
          "y": 0
         }
        ],
        "height": 350,
        "hovermode": "closest",
        "showlegend": true,
        "template": {
         "data": {
          "bar": [
           {
            "error_x": {
             "color": "#2a3f5f"
            },
            "error_y": {
             "color": "#2a3f5f"
            },
            "marker": {
             "line": {
              "color": "#E5ECF6",
              "width": 0.5
             }
            },
            "type": "bar"
           }
          ],
          "barpolar": [
           {
            "marker": {
             "line": {
              "color": "#E5ECF6",
              "width": 0.5
             }
            },
            "type": "barpolar"
           }
          ],
          "carpet": [
           {
            "aaxis": {
             "endlinecolor": "#2a3f5f",
             "gridcolor": "white",
             "linecolor": "white",
             "minorgridcolor": "white",
             "startlinecolor": "#2a3f5f"
            },
            "baxis": {
             "endlinecolor": "#2a3f5f",
             "gridcolor": "white",
             "linecolor": "white",
             "minorgridcolor": "white",
             "startlinecolor": "#2a3f5f"
            },
            "type": "carpet"
           }
          ],
          "choropleth": [
           {
            "colorbar": {
             "outlinewidth": 0,
             "ticks": ""
            },
            "type": "choropleth"
           }
          ],
          "contour": [
           {
            "colorbar": {
             "outlinewidth": 0,
             "ticks": ""
            },
            "colorscale": [
             [
              0,
              "#0d0887"
             ],
             [
              0.1111111111111111,
              "#46039f"
             ],
             [
              0.2222222222222222,
              "#7201a8"
             ],
             [
              0.3333333333333333,
              "#9c179e"
             ],
             [
              0.4444444444444444,
              "#bd3786"
             ],
             [
              0.5555555555555556,
              "#d8576b"
             ],
             [
              0.6666666666666666,
              "#ed7953"
             ],
             [
              0.7777777777777778,
              "#fb9f3a"
             ],
             [
              0.8888888888888888,
              "#fdca26"
             ],
             [
              1,
              "#f0f921"
             ]
            ],
            "type": "contour"
           }
          ],
          "contourcarpet": [
           {
            "colorbar": {
             "outlinewidth": 0,
             "ticks": ""
            },
            "type": "contourcarpet"
           }
          ],
          "heatmap": [
           {
            "colorbar": {
             "outlinewidth": 0,
             "ticks": ""
            },
            "colorscale": [
             [
              0,
              "#0d0887"
             ],
             [
              0.1111111111111111,
              "#46039f"
             ],
             [
              0.2222222222222222,
              "#7201a8"
             ],
             [
              0.3333333333333333,
              "#9c179e"
             ],
             [
              0.4444444444444444,
              "#bd3786"
             ],
             [
              0.5555555555555556,
              "#d8576b"
             ],
             [
              0.6666666666666666,
              "#ed7953"
             ],
             [
              0.7777777777777778,
              "#fb9f3a"
             ],
             [
              0.8888888888888888,
              "#fdca26"
             ],
             [
              1,
              "#f0f921"
             ]
            ],
            "type": "heatmap"
           }
          ],
          "heatmapgl": [
           {
            "colorbar": {
             "outlinewidth": 0,
             "ticks": ""
            },
            "colorscale": [
             [
              0,
              "#0d0887"
             ],
             [
              0.1111111111111111,
              "#46039f"
             ],
             [
              0.2222222222222222,
              "#7201a8"
             ],
             [
              0.3333333333333333,
              "#9c179e"
             ],
             [
              0.4444444444444444,
              "#bd3786"
             ],
             [
              0.5555555555555556,
              "#d8576b"
             ],
             [
              0.6666666666666666,
              "#ed7953"
             ],
             [
              0.7777777777777778,
              "#fb9f3a"
             ],
             [
              0.8888888888888888,
              "#fdca26"
             ],
             [
              1,
              "#f0f921"
             ]
            ],
            "type": "heatmapgl"
           }
          ],
          "histogram": [
           {
            "marker": {
             "colorbar": {
              "outlinewidth": 0,
              "ticks": ""
             }
            },
            "type": "histogram"
           }
          ],
          "histogram2d": [
           {
            "colorbar": {
             "outlinewidth": 0,
             "ticks": ""
            },
            "colorscale": [
             [
              0,
              "#0d0887"
             ],
             [
              0.1111111111111111,
              "#46039f"
             ],
             [
              0.2222222222222222,
              "#7201a8"
             ],
             [
              0.3333333333333333,
              "#9c179e"
             ],
             [
              0.4444444444444444,
              "#bd3786"
             ],
             [
              0.5555555555555556,
              "#d8576b"
             ],
             [
              0.6666666666666666,
              "#ed7953"
             ],
             [
              0.7777777777777778,
              "#fb9f3a"
             ],
             [
              0.8888888888888888,
              "#fdca26"
             ],
             [
              1,
              "#f0f921"
             ]
            ],
            "type": "histogram2d"
           }
          ],
          "histogram2dcontour": [
           {
            "colorbar": {
             "outlinewidth": 0,
             "ticks": ""
            },
            "colorscale": [
             [
              0,
              "#0d0887"
             ],
             [
              0.1111111111111111,
              "#46039f"
             ],
             [
              0.2222222222222222,
              "#7201a8"
             ],
             [
              0.3333333333333333,
              "#9c179e"
             ],
             [
              0.4444444444444444,
              "#bd3786"
             ],
             [
              0.5555555555555556,
              "#d8576b"
             ],
             [
              0.6666666666666666,
              "#ed7953"
             ],
             [
              0.7777777777777778,
              "#fb9f3a"
             ],
             [
              0.8888888888888888,
              "#fdca26"
             ],
             [
              1,
              "#f0f921"
             ]
            ],
            "type": "histogram2dcontour"
           }
          ],
          "mesh3d": [
           {
            "colorbar": {
             "outlinewidth": 0,
             "ticks": ""
            },
            "type": "mesh3d"
           }
          ],
          "parcoords": [
           {
            "line": {
             "colorbar": {
              "outlinewidth": 0,
              "ticks": ""
             }
            },
            "type": "parcoords"
           }
          ],
          "pie": [
           {
            "automargin": true,
            "type": "pie"
           }
          ],
          "scatter": [
           {
            "marker": {
             "colorbar": {
              "outlinewidth": 0,
              "ticks": ""
             }
            },
            "type": "scatter"
           }
          ],
          "scatter3d": [
           {
            "line": {
             "colorbar": {
              "outlinewidth": 0,
              "ticks": ""
             }
            },
            "marker": {
             "colorbar": {
              "outlinewidth": 0,
              "ticks": ""
             }
            },
            "type": "scatter3d"
           }
          ],
          "scattercarpet": [
           {
            "marker": {
             "colorbar": {
              "outlinewidth": 0,
              "ticks": ""
             }
            },
            "type": "scattercarpet"
           }
          ],
          "scattergeo": [
           {
            "marker": {
             "colorbar": {
              "outlinewidth": 0,
              "ticks": ""
             }
            },
            "type": "scattergeo"
           }
          ],
          "scattergl": [
           {
            "marker": {
             "colorbar": {
              "outlinewidth": 0,
              "ticks": ""
             }
            },
            "type": "scattergl"
           }
          ],
          "scattermapbox": [
           {
            "marker": {
             "colorbar": {
              "outlinewidth": 0,
              "ticks": ""
             }
            },
            "type": "scattermapbox"
           }
          ],
          "scatterpolar": [
           {
            "marker": {
             "colorbar": {
              "outlinewidth": 0,
              "ticks": ""
             }
            },
            "type": "scatterpolar"
           }
          ],
          "scatterpolargl": [
           {
            "marker": {
             "colorbar": {
              "outlinewidth": 0,
              "ticks": ""
             }
            },
            "type": "scatterpolargl"
           }
          ],
          "scatterternary": [
           {
            "marker": {
             "colorbar": {
              "outlinewidth": 0,
              "ticks": ""
             }
            },
            "type": "scatterternary"
           }
          ],
          "surface": [
           {
            "colorbar": {
             "outlinewidth": 0,
             "ticks": ""
            },
            "colorscale": [
             [
              0,
              "#0d0887"
             ],
             [
              0.1111111111111111,
              "#46039f"
             ],
             [
              0.2222222222222222,
              "#7201a8"
             ],
             [
              0.3333333333333333,
              "#9c179e"
             ],
             [
              0.4444444444444444,
              "#bd3786"
             ],
             [
              0.5555555555555556,
              "#d8576b"
             ],
             [
              0.6666666666666666,
              "#ed7953"
             ],
             [
              0.7777777777777778,
              "#fb9f3a"
             ],
             [
              0.8888888888888888,
              "#fdca26"
             ],
             [
              1,
              "#f0f921"
             ]
            ],
            "type": "surface"
           }
          ],
          "table": [
           {
            "cells": {
             "fill": {
              "color": "#EBF0F8"
             },
             "line": {
              "color": "white"
             }
            },
            "header": {
             "fill": {
              "color": "#C8D4E3"
             },
             "line": {
              "color": "white"
             }
            },
            "type": "table"
           }
          ]
         },
         "layout": {
          "annotationdefaults": {
           "arrowcolor": "#2a3f5f",
           "arrowhead": 0,
           "arrowwidth": 1
          },
          "coloraxis": {
           "colorbar": {
            "outlinewidth": 0,
            "ticks": ""
           }
          },
          "colorscale": {
           "diverging": [
            [
             0,
             "#8e0152"
            ],
            [
             0.1,
             "#c51b7d"
            ],
            [
             0.2,
             "#de77ae"
            ],
            [
             0.3,
             "#f1b6da"
            ],
            [
             0.4,
             "#fde0ef"
            ],
            [
             0.5,
             "#f7f7f7"
            ],
            [
             0.6,
             "#e6f5d0"
            ],
            [
             0.7,
             "#b8e186"
            ],
            [
             0.8,
             "#7fbc41"
            ],
            [
             0.9,
             "#4d9221"
            ],
            [
             1,
             "#276419"
            ]
           ],
           "sequential": [
            [
             0,
             "#0d0887"
            ],
            [
             0.1111111111111111,
             "#46039f"
            ],
            [
             0.2222222222222222,
             "#7201a8"
            ],
            [
             0.3333333333333333,
             "#9c179e"
            ],
            [
             0.4444444444444444,
             "#bd3786"
            ],
            [
             0.5555555555555556,
             "#d8576b"
            ],
            [
             0.6666666666666666,
             "#ed7953"
            ],
            [
             0.7777777777777778,
             "#fb9f3a"
            ],
            [
             0.8888888888888888,
             "#fdca26"
            ],
            [
             1,
             "#f0f921"
            ]
           ],
           "sequentialminus": [
            [
             0,
             "#0d0887"
            ],
            [
             0.1111111111111111,
             "#46039f"
            ],
            [
             0.2222222222222222,
             "#7201a8"
            ],
            [
             0.3333333333333333,
             "#9c179e"
            ],
            [
             0.4444444444444444,
             "#bd3786"
            ],
            [
             0.5555555555555556,
             "#d8576b"
            ],
            [
             0.6666666666666666,
             "#ed7953"
            ],
            [
             0.7777777777777778,
             "#fb9f3a"
            ],
            [
             0.8888888888888888,
             "#fdca26"
            ],
            [
             1,
             "#f0f921"
            ]
           ]
          },
          "colorway": [
           "#636efa",
           "#EF553B",
           "#00cc96",
           "#ab63fa",
           "#FFA15A",
           "#19d3f3",
           "#FF6692",
           "#B6E880",
           "#FF97FF",
           "#FECB52"
          ],
          "font": {
           "color": "#2a3f5f"
          },
          "geo": {
           "bgcolor": "white",
           "lakecolor": "white",
           "landcolor": "#E5ECF6",
           "showlakes": true,
           "showland": true,
           "subunitcolor": "white"
          },
          "hoverlabel": {
           "align": "left"
          },
          "hovermode": "closest",
          "mapbox": {
           "style": "light"
          },
          "paper_bgcolor": "white",
          "plot_bgcolor": "#E5ECF6",
          "polar": {
           "angularaxis": {
            "gridcolor": "white",
            "linecolor": "white",
            "ticks": ""
           },
           "bgcolor": "#E5ECF6",
           "radialaxis": {
            "gridcolor": "white",
            "linecolor": "white",
            "ticks": ""
           }
          },
          "scene": {
           "xaxis": {
            "backgroundcolor": "#E5ECF6",
            "gridcolor": "white",
            "gridwidth": 2,
            "linecolor": "white",
            "showbackground": true,
            "ticks": "",
            "zerolinecolor": "white"
           },
           "yaxis": {
            "backgroundcolor": "#E5ECF6",
            "gridcolor": "white",
            "gridwidth": 2,
            "linecolor": "white",
            "showbackground": true,
            "ticks": "",
            "zerolinecolor": "white"
           },
           "zaxis": {
            "backgroundcolor": "#E5ECF6",
            "gridcolor": "white",
            "gridwidth": 2,
            "linecolor": "white",
            "showbackground": true,
            "ticks": "",
            "zerolinecolor": "white"
           }
          },
          "shapedefaults": {
           "line": {
            "color": "#2a3f5f"
           }
          },
          "ternary": {
           "aaxis": {
            "gridcolor": "white",
            "linecolor": "white",
            "ticks": ""
           },
           "baxis": {
            "gridcolor": "white",
            "linecolor": "white",
            "ticks": ""
           },
           "bgcolor": "#E5ECF6",
           "caxis": {
            "gridcolor": "white",
            "linecolor": "white",
            "ticks": ""
           }
          },
          "title": {
           "x": 0.05
          },
          "xaxis": {
           "automargin": true,
           "gridcolor": "white",
           "linecolor": "white",
           "ticks": "",
           "title": {
            "standoff": 15
           },
           "zerolinecolor": "white",
           "zerolinewidth": 2
          },
          "yaxis": {
           "automargin": true,
           "gridcolor": "white",
           "linecolor": "white",
           "ticks": "",
           "title": {
            "standoff": 15
           },
           "zerolinecolor": "white",
           "zerolinewidth": 2
          }
         }
        },
        "title": {
         "text": "DWF Schedule"
        },
        "xaxis": {
         "rangeselector": {
          "buttons": [
           {
            "count": 7,
            "label": "1w",
            "step": "day",
            "stepmode": "backward"
           },
           {
            "count": 1,
            "label": "1m",
            "step": "month",
            "stepmode": "backward"
           },
           {
            "count": 6,
            "label": "6m",
            "step": "month",
            "stepmode": "backward"
           },
           {
            "count": 1,
            "label": "YTD",
            "step": "year",
            "stepmode": "todate"
           },
           {
            "count": 1,
            "label": "1y",
            "step": "year",
            "stepmode": "backward"
           },
           {
            "step": "all"
           }
          ]
         },
         "showgrid": true,
         "type": "date",
         "zeroline": false
        },
        "yaxis": {
         "autorange": false,
         "range": [
          -1,
          7
         ],
         "showgrid": true,
         "ticktext": [
          "WiFeS",
          "AAT",
          "AAT-Geha",
          "ASTROSAT",
          "Parkes",
          "DECam"
         ],
         "tickvals": [
          0,
          1,
          2,
          3,
          4,
          5
         ],
         "zeroline": false
        }
       }
      },
      "text/html": [
       "<div>\n",
       "        \n",
       "        \n",
       "            <div id=\"5f8159ab-2e90-4c89-ae7e-bfa2927092de\" class=\"plotly-graph-div\" style=\"height:350px; width:100%;\"></div>\n",
       "            <script type=\"text/javascript\">\n",
       "                require([\"plotly\"], function(Plotly) {\n",
       "                    window.PLOTLYENV=window.PLOTLYENV || {};\n",
       "                    \n",
       "                if (document.getElementById(\"5f8159ab-2e90-4c89-ae7e-bfa2927092de\")) {\n",
       "                    Plotly.newPlot(\n",
       "                        '5f8159ab-2e90-4c89-ae7e-bfa2927092de',\n",
       "                        [{\"fill\": \"toself\", \"fillcolor\": \"rgb(0, 200, 0)\", \"hoverinfo\": \"name\", \"legendgroup\": \"rgb(0, 200, 0)\", \"mode\": \"none\", \"name\": \"Vis\", \"type\": \"scatter\", \"x\": [\"2020-09-13 04:30:00\", \"2020-09-13 05:00:00\", \"2020-09-13 05:00:00\", \"2020-09-13 04:30:00\", \"2020-09-13 04:30:00\", \"2020-09-14 04:30:00\", \"2020-09-14 05:00:00\", \"2020-09-14 05:00:00\", \"2020-09-14 04:30:00\", \"2020-09-14 04:30:00\", \"2020-09-15 04:30:00\", \"2020-09-15 05:00:00\", \"2020-09-15 05:00:00\", \"2020-09-15 04:30:00\", \"2020-09-15 04:30:00\", \"2020-09-17 04:30:00\", \"2020-09-17 05:00:00\", \"2020-09-17 05:00:00\", \"2020-09-17 04:30:00\", \"2020-09-17 04:30:00\", \"2020-09-18 04:30:00\", \"2020-09-18 05:00:00\", \"2020-09-18 05:00:00\", \"2020-09-18 04:30:00\", \"2020-09-18 04:30:00\", \"2020-09-19 04:30:00\", \"2020-09-19 05:00:00\", \"2020-09-19 05:00:00\", \"2020-09-19 04:30:00\", \"2020-09-19 04:30:00\", \"2020-09-13 05:05:05\", \"2020-09-13 06:30:00\", \"2020-09-13 06:30:00\", \"2020-09-13 05:05:05\", \"2020-09-13 05:05:05\", \"2020-09-14 05:05:00\", \"2020-09-14 06:30:00\", \"2020-09-14 06:30:00\", \"2020-09-14 05:05:00\", \"2020-09-14 05:05:00\", \"2020-09-15 05:05:00\", \"2020-09-15 06:30:00\", \"2020-09-15 06:30:00\", \"2020-09-15 05:05:00\", \"2020-09-15 05:05:00\", \"2020-09-17 05:05:00\", \"2020-09-17 06:30:00\", \"2020-09-17 06:30:00\", \"2020-09-17 05:05:00\", \"2020-09-17 05:05:00\", \"2020-09-18 05:05:00\", \"2020-09-18 06:30:00\", \"2020-09-18 06:30:00\", \"2020-09-18 05:05:00\", \"2020-09-18 05:05:00\", \"2020-09-19 05:05:00\", \"2020-09-19 06:30:00\", \"2020-09-19 06:30:00\", \"2020-09-19 05:05:00\", \"2020-09-19 05:05:00\", \"2020-09-13 06:31:00\", \"2020-09-13 08:00:00\", \"2020-09-13 08:00:00\", \"2020-09-13 06:31:00\", \"2020-09-13 06:31:00\", \"2020-09-14 06:31:00\", \"2020-09-14 08:00:00\", \"2020-09-14 08:00:00\", \"2020-09-14 06:31:00\", \"2020-09-14 06:31:00\", \"2020-09-15 06:31:00\", \"2020-09-15 08:00:00\", \"2020-09-15 08:00:00\", \"2020-09-15 06:31:00\", \"2020-09-15 06:31:00\", \"2020-09-17 06:31:00\", \"2020-09-17 08:00:00\", \"2020-09-17 08:00:00\", \"2020-09-17 06:31:00\", \"2020-09-17 06:31:00\", \"2020-09-18 06:31:00\", \"2020-09-18 08:00:00\", \"2020-09-18 08:00:00\", \"2020-09-18 06:31:00\", \"2020-09-18 06:31:00\", \"2020-09-19 06:31:00\", \"2020-09-19 08:00:00\", \"2020-09-19 08:00:00\", \"2020-09-19 06:31:00\", \"2020-09-19 06:31:00\", \"2020-09-13 08:01:00\", \"2020-09-13 09:00:00\", \"2020-09-13 09:00:00\", \"2020-09-13 08:01:00\", \"2020-09-13 08:01:00\", \"2020-09-14 08:01:00\", \"2020-09-14 09:00:00\", \"2020-09-14 09:00:00\", \"2020-09-14 08:01:00\", \"2020-09-14 08:01:00\", \"2020-09-15 08:01:00\", \"2020-09-15 09:00:00\", \"2020-09-15 09:00:00\", \"2020-09-15 08:01:00\", \"2020-09-15 08:01:00\", \"2020-09-17 08:01:00\", \"2020-09-17 09:00:00\", \"2020-09-17 09:00:00\", \"2020-09-17 08:01:00\", \"2020-09-17 08:01:00\", \"2020-09-18 08:01:00\", \"2020-09-18 09:00:00\", \"2020-09-18 09:00:00\", \"2020-09-18 08:01:00\", \"2020-09-18 08:01:00\", \"2020-09-19 08:01:00\", \"2020-09-19 09:00:00\", \"2020-09-19 09:00:00\", \"2020-09-19 08:01:00\", \"2020-09-19 08:01:00\", \"2020-09-12 09:14:00\", \"2020-09-12 18:27:00\", \"2020-09-12 18:27:00\", \"2020-09-12 09:14:00\", \"2020-09-12 09:14:00\", \"2020-09-13 09:14:00\", \"2020-09-13 18:27:00\", \"2020-09-13 18:27:00\", \"2020-09-13 09:14:00\", \"2020-09-13 09:14:00\", \"2020-09-14 09:14:00\", \"2020-09-14 18:27:00\", \"2020-09-14 18:27:00\", \"2020-09-14 09:14:00\", \"2020-09-14 09:14:00\", \"2020-09-15 09:14:00\", \"2020-09-15 18:27:00\", \"2020-09-15 18:27:00\", \"2020-09-15 09:14:00\", \"2020-09-15 09:14:00\", \"2020-09-16 09:14:00\", \"2020-09-16 18:27:00\", \"2020-09-16 18:27:00\", \"2020-09-16 09:14:00\", \"2020-09-16 09:14:00\", \"2020-09-17 09:14:00\", \"2020-09-17 18:27:00\", \"2020-09-17 18:27:00\", \"2020-09-17 09:14:00\", \"2020-09-17 09:14:00\", \"2020-09-18 09:14:00\", \"2020-09-18 18:27:00\", \"2020-09-18 18:27:00\", \"2020-09-18 09:14:00\", \"2020-09-18 09:14:00\", \"2020-09-19 09:14:00\", \"2020-09-19 18:27:00\", \"2020-09-19 18:27:00\", \"2020-09-19 09:14:00\", \"2020-09-19 09:14:00\", \"2020-09-20 09:14:00\", \"2020-09-20 18:27:00\", \"2020-09-20 18:27:00\", \"2020-09-20 09:14:00\", \"2020-09-20 09:14:00\", \"2020-09-21 09:14:00\", \"2020-09-21 18:27:00\", \"2020-09-21 18:27:00\", \"2020-09-21 09:14:00\", \"2020-09-21 09:14:00\", \"2020-09-22 09:14:00\", \"2020-09-22 18:27:00\", \"2020-09-22 18:27:00\", \"2020-09-22 09:14:00\", \"2020-09-22 09:14:00\", \"2020-09-23 09:14:00\", \"2020-09-23 18:27:00\", \"2020-09-23 18:27:00\", \"2020-09-23 09:14:00\", \"2020-09-23 09:14:00\", \"2020-09-24 09:14:00\", \"2020-09-24 18:27:00\", \"2020-09-24 18:27:00\", \"2020-09-24 09:14:00\", \"2020-09-24 09:14:00\", \"2020-09-14 09:14:00\", \"2020-09-14 18:27:00\", \"2020-09-14 18:27:00\", \"2020-09-14 09:14:00\", \"2020-09-14 09:14:00\", \"2020-09-15 09:14:00\", \"2020-09-15 18:27:00\", \"2020-09-15 18:27:00\", \"2020-09-15 09:14:00\", \"2020-09-15 09:14:00\", \"2020-09-16 09:14:00\", \"2020-09-16 18:27:00\", \"2020-09-16 18:27:00\", \"2020-09-16 09:14:00\", \"2020-09-16 09:14:00\", \"2020-09-17 09:14:00\", \"2020-09-17 18:27:00\", \"2020-09-17 18:27:00\", \"2020-09-17 09:14:00\", \"2020-09-17 09:14:00\", \"2020-09-18 09:14:00\", \"2020-09-18 18:27:00\", \"2020-09-18 18:27:00\", \"2020-09-18 09:14:00\", \"2020-09-18 09:14:00\", \"2020-09-19 09:14:00\", \"2020-09-19 18:27:00\", \"2020-09-19 18:27:00\", \"2020-09-19 09:14:00\"], \"y\": [4.6, 4.6, 5.4, 5.4, null, 4.6, 4.6, 5.4, 5.4, null, 4.6, 4.6, 5.4, 5.4, null, 4.6, 4.6, 5.4, 5.4, null, 4.6, 4.6, 5.4, 5.4, null, 4.6, 4.6, 5.4, 5.4, null, 4.6, 4.6, 5.4, 5.4, null, 4.6, 4.6, 5.4, 5.4, null, 4.6, 4.6, 5.4, 5.4, null, 4.6, 4.6, 5.4, 5.4, null, 4.6, 4.6, 5.4, 5.4, null, 4.6, 4.6, 5.4, 5.4, null, 4.6, 4.6, 5.4, 5.4, null, 4.6, 4.6, 5.4, 5.4, null, 4.6, 4.6, 5.4, 5.4, null, 4.6, 4.6, 5.4, 5.4, null, 4.6, 4.6, 5.4, 5.4, null, 4.6, 4.6, 5.4, 5.4, null, 4.6, 4.6, 5.4, 5.4, null, 4.6, 4.6, 5.4, 5.4, null, 4.6, 4.6, 5.4, 5.4, null, 4.6, 4.6, 5.4, 5.4, null, 4.6, 4.6, 5.4, 5.4, null, 4.6, 4.6, 5.4, 5.4, null, 1.6, 1.6, 2.4, 2.4, null, 1.6, 1.6, 2.4, 2.4, null, 1.6, 1.6, 2.4, 2.4, null, 1.6, 1.6, 2.4, 2.4, null, 1.6, 1.6, 2.4, 2.4, null, 1.6, 1.6, 2.4, 2.4, null, 1.6, 1.6, 2.4, 2.4, null, 1.6, 1.6, 2.4, 2.4, null, 1.6, 1.6, 2.4, 2.4, null, 0.6, 0.6, 1.4, 1.4, null, 0.6, 0.6, 1.4, 1.4, null, 0.6, 0.6, 1.4, 1.4, null, 0.6, 0.6, 1.4, 1.4, null, -0.4, -0.4, 0.4, 0.4, null, -0.4, -0.4, 0.4, 0.4, null, -0.4, -0.4, 0.4, 0.4, null, -0.4, -0.4, 0.4, 0.4, null, -0.4, -0.4, 0.4, 0.4, null, -0.4, -0.4, 0.4, 0.4]}, {\"fill\": \"toself\", \"fillcolor\": \"rgb(0, 50, 250)\", \"hoverinfo\": \"name\", \"legendgroup\": \"rgb(0, 50, 250)\", \"mode\": \"none\", \"name\": \"UVXRay\", \"type\": \"scatter\", \"x\": [\"2020-09-14 06:00:00\", \"2020-09-14 08:00:00\", \"2020-09-14 08:00:00\", \"2020-09-14 06:00:00\", \"2020-09-14 06:00:00\", \"2020-09-15 06:00:00\", \"2020-09-15 08:00:00\", \"2020-09-15 08:00:00\", \"2020-09-15 06:00:00\", \"2020-09-15 06:00:00\", \"2020-09-18 06:00:00\", \"2020-09-18 08:00:00\", \"2020-09-18 08:00:00\", \"2020-09-18 06:00:00\"], \"y\": [2.6, 2.6, 3.4, 3.4, null, 2.6, 2.6, 3.4, 3.4, null, 2.6, 2.6, 3.4, 3.4]}, {\"fill\": \"toself\", \"fillcolor\": \"rgb(250, 0, 0)\", \"hoverinfo\": \"name\", \"legendgroup\": \"rgb(250, 0, 0)\", \"mode\": \"none\", \"name\": \"Radio\", \"type\": \"scatter\", \"x\": [\"2020-09-13 04:00:00\", \"2020-09-13 10:00:00\", \"2020-09-13 10:00:00\", \"2020-09-13 04:00:00\", \"2020-09-13 04:00:00\", \"2020-09-14 04:00:00\", \"2020-09-14 10:00:00\", \"2020-09-14 10:00:00\", \"2020-09-14 04:00:00\", \"2020-09-14 04:00:00\", \"2020-09-15 04:00:00\", \"2020-09-15 10:00:00\", \"2020-09-15 10:00:00\", \"2020-09-15 04:00:00\", \"2020-09-15 04:00:00\", \"2020-09-17 04:00:00\", \"2020-09-17 10:00:00\", \"2020-09-17 10:00:00\", \"2020-09-17 04:00:00\", \"2020-09-17 04:00:00\", \"2020-09-18 04:00:00\", \"2020-09-18 10:00:00\", \"2020-09-18 10:00:00\", \"2020-09-18 04:00:00\", \"2020-09-18 04:00:00\", \"2020-09-19 04:00:00\", \"2020-09-19 10:00:00\", \"2020-09-19 10:00:00\", \"2020-09-19 04:00:00\"], \"y\": [3.6, 3.6, 4.4, 4.4, null, 3.6, 3.6, 4.4, 4.4, null, 3.6, 3.6, 4.4, 4.4, null, 3.6, 3.6, 4.4, 4.4, null, 3.6, 3.6, 4.4, 4.4, null, 3.6, 3.6, 4.4, 4.4]}, {\"legendgroup\": \"rgb(0, 200, 0)\", \"marker\": {\"color\": \"rgb(0, 200, 0)\", \"opacity\": 0, \"size\": 1}, \"mode\": \"markers\", \"name\": \"\", \"showlegend\": false, \"text\": [null, null, null, null, null, null, null, null, null, null, null, null, null, null, null, null, null, null, null, null, null, null, null, null, null, null, null, null, null, null, null, null, null, null, null, null, null, null, null, null, null, null, null, null, null, null, null, null, null, null, null, null, null, null, null, null, null, null, null, null, null, null, null, null, null, null, null, null, null, null, null, null, null, null, null, null, null, null, null, null, null, null, null, null, null, null], \"type\": \"scatter\", \"x\": [\"2020-09-13 04:30:00\", \"2020-09-13 05:00:00\", \"2020-09-14 04:30:00\", \"2020-09-14 05:00:00\", \"2020-09-15 04:30:00\", \"2020-09-15 05:00:00\", \"2020-09-17 04:30:00\", \"2020-09-17 05:00:00\", \"2020-09-18 04:30:00\", \"2020-09-18 05:00:00\", \"2020-09-19 04:30:00\", \"2020-09-19 05:00:00\", \"2020-09-13 05:05:05\", \"2020-09-13 06:30:00\", \"2020-09-14 05:05:00\", \"2020-09-14 06:30:00\", \"2020-09-15 05:05:00\", \"2020-09-15 06:30:00\", \"2020-09-17 05:05:00\", \"2020-09-17 06:30:00\", \"2020-09-18 05:05:00\", \"2020-09-18 06:30:00\", \"2020-09-19 05:05:00\", \"2020-09-19 06:30:00\", \"2020-09-13 06:31:00\", \"2020-09-13 08:00:00\", \"2020-09-14 06:31:00\", \"2020-09-14 08:00:00\", \"2020-09-15 06:31:00\", \"2020-09-15 08:00:00\", \"2020-09-17 06:31:00\", \"2020-09-17 08:00:00\", \"2020-09-18 06:31:00\", \"2020-09-18 08:00:00\", \"2020-09-19 06:31:00\", \"2020-09-19 08:00:00\", \"2020-09-13 08:01:00\", \"2020-09-13 09:00:00\", \"2020-09-14 08:01:00\", \"2020-09-14 09:00:00\", \"2020-09-15 08:01:00\", \"2020-09-15 09:00:00\", \"2020-09-17 08:01:00\", \"2020-09-17 09:00:00\", \"2020-09-18 08:01:00\", \"2020-09-18 09:00:00\", \"2020-09-19 08:01:00\", \"2020-09-19 09:00:00\", \"2020-09-12 09:14:00\", \"2020-09-12 18:27:00\", \"2020-09-13 09:14:00\", \"2020-09-13 18:27:00\", \"2020-09-14 09:14:00\", \"2020-09-14 18:27:00\", \"2020-09-15 09:14:00\", \"2020-09-15 18:27:00\", \"2020-09-16 09:14:00\", \"2020-09-16 18:27:00\", \"2020-09-17 09:14:00\", \"2020-09-17 18:27:00\", \"2020-09-18 09:14:00\", \"2020-09-18 18:27:00\", \"2020-09-19 09:14:00\", \"2020-09-19 18:27:00\", \"2020-09-20 09:14:00\", \"2020-09-20 18:27:00\", \"2020-09-21 09:14:00\", \"2020-09-21 18:27:00\", \"2020-09-22 09:14:00\", \"2020-09-22 18:27:00\", \"2020-09-23 09:14:00\", \"2020-09-23 18:27:00\", \"2020-09-24 09:14:00\", \"2020-09-24 18:27:00\", \"2020-09-14 09:14:00\", \"2020-09-14 18:27:00\", \"2020-09-15 09:14:00\", \"2020-09-15 18:27:00\", \"2020-09-16 09:14:00\", \"2020-09-16 18:27:00\", \"2020-09-17 09:14:00\", \"2020-09-17 18:27:00\", \"2020-09-18 09:14:00\", \"2020-09-18 18:27:00\", \"2020-09-19 09:14:00\", \"2020-09-19 18:27:00\"], \"y\": [5, 5, 5, 5, 5, 5, 5, 5, 5, 5, 5, 5, 5, 5, 5, 5, 5, 5, 5, 5, 5, 5, 5, 5, 5, 5, 5, 5, 5, 5, 5, 5, 5, 5, 5, 5, 5, 5, 5, 5, 5, 5, 5, 5, 5, 5, 5, 5, 2, 2, 2, 2, 2, 2, 2, 2, 2, 2, 2, 2, 2, 2, 2, 2, 2, 2, 1, 1, 1, 1, 1, 1, 1, 1, 0, 0, 0, 0, 0, 0, 0, 0, 0, 0, 0, 0]}, {\"legendgroup\": \"rgb(0, 50, 250)\", \"marker\": {\"color\": \"rgb(0, 50, 250)\", \"opacity\": 0, \"size\": 1}, \"mode\": \"markers\", \"name\": \"\", \"showlegend\": false, \"text\": [null, null, null, null, null, null], \"type\": \"scatter\", \"x\": [\"2020-09-14 06:00:00\", \"2020-09-14 08:00:00\", \"2020-09-15 06:00:00\", \"2020-09-15 08:00:00\", \"2020-09-18 06:00:00\", \"2020-09-18 08:00:00\"], \"y\": [3, 3, 3, 3, 3, 3]}, {\"legendgroup\": \"rgb(250, 0, 0)\", \"marker\": {\"color\": \"rgb(250, 0, 0)\", \"opacity\": 0, \"size\": 1}, \"mode\": \"markers\", \"name\": \"\", \"showlegend\": false, \"text\": [null, null, null, null, null, null, null, null, null, null, null, null], \"type\": \"scatter\", \"x\": [\"2020-09-13 04:00:00\", \"2020-09-13 10:00:00\", \"2020-09-14 04:00:00\", \"2020-09-14 10:00:00\", \"2020-09-15 04:00:00\", \"2020-09-15 10:00:00\", \"2020-09-17 04:00:00\", \"2020-09-17 10:00:00\", \"2020-09-18 04:00:00\", \"2020-09-18 10:00:00\", \"2020-09-19 04:00:00\", \"2020-09-19 10:00:00\"], \"y\": [4, 4, 4, 4, 4, 4, 4, 4, 4, 4, 4, 4]}],\n",
       "                        {\"annotations\": [{\"font\": {\"color\": \"rgb( 128,255,0)\"}, \"showarrow\": false, \"text\": \"N\", \"x\": \"2020-09-13 04:45:00\", \"y\": 5}, {\"font\": {\"color\": \"rgb( 128,255,0)\"}, \"showarrow\": false, \"text\": \"N\", \"x\": \"2020-09-14 04:45:00\", \"y\": 5}, {\"font\": {\"color\": \"rgb( 128,255,0)\"}, \"showarrow\": false, \"text\": \"N\", \"x\": \"2020-09-15 04:45:00\", \"y\": 5}, {\"font\": {\"color\": \"rgb( 128,255,0)\"}, \"showarrow\": false, \"text\": \"N\", \"x\": \"2020-09-17 04:45:00\", \"y\": 5}, {\"font\": {\"color\": \"rgb( 128,255,0)\"}, \"showarrow\": false, \"text\": \"N\", \"x\": \"2020-09-18 04:45:00\", \"y\": 5}, {\"font\": {\"color\": \"rgb( 128,255,0)\"}, \"showarrow\": false, \"text\": \"N\", \"x\": \"2020-09-19 04:45:00\", \"y\": 5}, {\"font\": {\"color\": \"rgb( 128,255,0)\"}, \"showarrow\": false, \"text\": \"F18\", \"x\": \"2020-09-13 05:47:32\", \"y\": 5}, {\"font\": {\"color\": \"rgb( 128,255,0)\"}, \"showarrow\": false, \"text\": \"F18\", \"x\": \"2020-09-14 05:47:30\", \"y\": 5}, {\"font\": {\"color\": \"rgb( 128,255,0)\"}, \"showarrow\": false, \"text\": \"F18\", \"x\": \"2020-09-15 05:47:30\", \"y\": 5}, {\"font\": {\"color\": \"rgb( 128,255,0)\"}, \"showarrow\": false, \"text\": \"F18\", \"x\": \"2020-09-17 05:47:30\", \"y\": 5}, {\"font\": {\"color\": \"rgb( 128,255,0)\"}, \"showarrow\": false, \"text\": \"F18\", \"x\": \"2020-09-18 05:47:30\", \"y\": 5}, {\"font\": {\"color\": \"rgb( 128,255,0)\"}, \"showarrow\": false, \"text\": \"F18\", \"x\": \"2020-09-19 05:47:30\", \"y\": 5}, {\"font\": {\"color\": \"rgb( 128,255,0)\"}, \"showarrow\": false, \"text\": \"F19\", \"x\": \"2020-09-13 07:15:30\", \"y\": 5}, {\"font\": {\"color\": \"rgb( 128,255,0)\"}, \"showarrow\": false, \"text\": \"F19\", \"x\": \"2020-09-14 07:15:30\", \"y\": 5}, {\"font\": {\"color\": \"rgb( 128,255,0)\"}, \"showarrow\": false, \"text\": \"F19\", \"x\": \"2020-09-15 07:15:30\", \"y\": 5}, {\"font\": {\"color\": \"rgb( 128,255,0)\"}, \"showarrow\": false, \"text\": \"F19\", \"x\": \"2020-09-17 07:15:30\", \"y\": 5}, {\"font\": {\"color\": \"rgb( 128,255,0)\"}, \"showarrow\": false, \"text\": \"F19\", \"x\": \"2020-09-18 07:15:30\", \"y\": 5}, {\"font\": {\"color\": \"rgb( 128,255,0)\"}, \"showarrow\": false, \"text\": \"F19\", \"x\": \"2020-09-19 07:15:30\", \"y\": 5}, {\"font\": {\"color\": \"rgb( 128,255,0)\"}, \"showarrow\": false, \"text\": \"E\", \"x\": \"2020-09-13 08:30:30\", \"y\": 5}, {\"font\": {\"color\": \"rgb( 128,255,0)\"}, \"showarrow\": false, \"text\": \"E\", \"x\": \"2020-09-14 08:30:30\", \"y\": 5}, {\"font\": {\"color\": \"rgb( 128,255,0)\"}, \"showarrow\": false, \"text\": \"E\", \"x\": \"2020-09-15 08:30:30\", \"y\": 5}, {\"font\": {\"color\": \"rgb( 128,255,0)\"}, \"showarrow\": false, \"text\": \"E\", \"x\": \"2020-09-17 08:30:30\", \"y\": 5}, {\"font\": {\"color\": \"rgb( 128,255,0)\"}, \"showarrow\": false, \"text\": \"E\", \"x\": \"2020-09-18 08:30:30\", \"y\": 5}, {\"font\": {\"color\": \"rgb( 128,255,0)\"}, \"showarrow\": false, \"text\": \"E\", \"x\": \"2020-09-19 08:30:30\", \"y\": 5}, {\"font\": {\"color\": \"rgb( 127,1,76)\"}, \"showarrow\": false, \"text\": \"\", \"x\": \"2020-09-13 07:00:00\", \"y\": 4}, {\"font\": {\"color\": \"rgb( 127,1,76)\"}, \"showarrow\": false, \"text\": \"\", \"x\": \"2020-09-14 07:00:00\", \"y\": 4}, {\"font\": {\"color\": \"rgb( 127,1,76)\"}, \"showarrow\": false, \"text\": \"\", \"x\": \"2020-09-15 07:00:00\", \"y\": 4}, {\"font\": {\"color\": \"rgb( 127,1,76)\"}, \"showarrow\": false, \"text\": \"\", \"x\": \"2020-09-17 07:00:00\", \"y\": 4}, {\"font\": {\"color\": \"rgb( 127,1,76)\"}, \"showarrow\": false, \"text\": \"\", \"x\": \"2020-09-18 07:00:00\", \"y\": 4}, {\"font\": {\"color\": \"rgb( 127,1,76)\"}, \"showarrow\": false, \"text\": \"\", \"x\": \"2020-09-19 07:00:00\", \"y\": 4}, {\"font\": {\"color\": \"rgb( 0,255,255)\"}, \"showarrow\": false, \"text\": \"\", \"x\": \"2020-09-14 07:00:00\", \"y\": 3}, {\"font\": {\"color\": \"rgb( 0,255,255)\"}, \"showarrow\": false, \"text\": \"\", \"x\": \"2020-09-15 07:00:00\", \"y\": 3}, {\"font\": {\"color\": \"rgb( 0,255,255)\"}, \"showarrow\": false, \"text\": \"\", \"x\": \"2020-09-18 07:00:00\", \"y\": 3}, {\"font\": {\"color\": \"rgb( 128,255,0)\"}, \"showarrow\": false, \"text\": \"\", \"x\": \"2020-09-12 13:50:30\", \"y\": 2}, {\"font\": {\"color\": \"rgb( 128,255,0)\"}, \"showarrow\": false, \"text\": \"\", \"x\": \"2020-09-13 13:50:30\", \"y\": 2}, {\"font\": {\"color\": \"rgb( 128,255,0)\"}, \"showarrow\": false, \"text\": \"\", \"x\": \"2020-09-14 13:50:30\", \"y\": 2}, {\"font\": {\"color\": \"rgb( 128,255,0)\"}, \"showarrow\": false, \"text\": \"\", \"x\": \"2020-09-15 13:50:30\", \"y\": 2}, {\"font\": {\"color\": \"rgb( 128,255,0)\"}, \"showarrow\": false, \"text\": \"\", \"x\": \"2020-09-16 13:50:30\", \"y\": 2}, {\"font\": {\"color\": \"rgb( 128,255,0)\"}, \"showarrow\": false, \"text\": \"\", \"x\": \"2020-09-17 13:50:30\", \"y\": 2}, {\"font\": {\"color\": \"rgb( 128,255,0)\"}, \"showarrow\": false, \"text\": \"\", \"x\": \"2020-09-18 13:50:30\", \"y\": 2}, {\"font\": {\"color\": \"rgb( 128,255,0)\"}, \"showarrow\": false, \"text\": \"\", \"x\": \"2020-09-19 13:50:30\", \"y\": 2}, {\"font\": {\"color\": \"rgb( 128,255,0)\"}, \"showarrow\": false, \"text\": \"\", \"x\": \"2020-09-20 13:50:30\", \"y\": 2}, {\"font\": {\"color\": \"rgb( 128,255,0)\"}, \"showarrow\": false, \"text\": \"\", \"x\": \"2020-09-21 13:50:30\", \"y\": 1}, {\"font\": {\"color\": \"rgb( 128,255,0)\"}, \"showarrow\": false, \"text\": \"\", \"x\": \"2020-09-22 13:50:30\", \"y\": 1}, {\"font\": {\"color\": \"rgb( 128,255,0)\"}, \"showarrow\": false, \"text\": \"\", \"x\": \"2020-09-23 13:50:30\", \"y\": 1}, {\"font\": {\"color\": \"rgb( 128,255,0)\"}, \"showarrow\": false, \"text\": \"\", \"x\": \"2020-09-24 13:50:30\", \"y\": 1}, {\"font\": {\"color\": \"rgb( 128,255,0)\"}, \"showarrow\": false, \"text\": \"\", \"x\": \"2020-09-14 13:50:30\", \"y\": 0}, {\"font\": {\"color\": \"rgb( 128,255,0)\"}, \"showarrow\": false, \"text\": \"\", \"x\": \"2020-09-15 13:50:30\", \"y\": 0}, {\"font\": {\"color\": \"rgb( 128,255,0)\"}, \"showarrow\": false, \"text\": \"\", \"x\": \"2020-09-16 13:50:30\", \"y\": 0}, {\"font\": {\"color\": \"rgb( 128,255,0)\"}, \"showarrow\": false, \"text\": \"\", \"x\": \"2020-09-17 13:50:30\", \"y\": 0}, {\"font\": {\"color\": \"rgb( 128,255,0)\"}, \"showarrow\": false, \"text\": \"\", \"x\": \"2020-09-18 13:50:30\", \"y\": 0}, {\"font\": {\"color\": \"rgb( 128,255,0)\"}, \"showarrow\": false, \"text\": \"\", \"x\": \"2020-09-19 13:50:30\", \"y\": 0}], \"height\": 350, \"hovermode\": \"closest\", \"showlegend\": true, \"template\": {\"data\": {\"bar\": [{\"error_x\": {\"color\": \"#2a3f5f\"}, \"error_y\": {\"color\": \"#2a3f5f\"}, \"marker\": {\"line\": {\"color\": \"#E5ECF6\", \"width\": 0.5}}, \"type\": \"bar\"}], \"barpolar\": [{\"marker\": {\"line\": {\"color\": \"#E5ECF6\", \"width\": 0.5}}, \"type\": \"barpolar\"}], \"carpet\": [{\"aaxis\": {\"endlinecolor\": \"#2a3f5f\", \"gridcolor\": \"white\", \"linecolor\": \"white\", \"minorgridcolor\": \"white\", \"startlinecolor\": \"#2a3f5f\"}, \"baxis\": {\"endlinecolor\": \"#2a3f5f\", \"gridcolor\": \"white\", \"linecolor\": \"white\", \"minorgridcolor\": \"white\", \"startlinecolor\": \"#2a3f5f\"}, \"type\": \"carpet\"}], \"choropleth\": [{\"colorbar\": {\"outlinewidth\": 0, \"ticks\": \"\"}, \"type\": \"choropleth\"}], \"contour\": [{\"colorbar\": {\"outlinewidth\": 0, \"ticks\": \"\"}, \"colorscale\": [[0.0, \"#0d0887\"], [0.1111111111111111, \"#46039f\"], [0.2222222222222222, \"#7201a8\"], [0.3333333333333333, \"#9c179e\"], [0.4444444444444444, \"#bd3786\"], [0.5555555555555556, \"#d8576b\"], [0.6666666666666666, \"#ed7953\"], [0.7777777777777778, \"#fb9f3a\"], [0.8888888888888888, \"#fdca26\"], [1.0, \"#f0f921\"]], \"type\": \"contour\"}], \"contourcarpet\": [{\"colorbar\": {\"outlinewidth\": 0, \"ticks\": \"\"}, \"type\": \"contourcarpet\"}], \"heatmap\": [{\"colorbar\": {\"outlinewidth\": 0, \"ticks\": \"\"}, \"colorscale\": [[0.0, \"#0d0887\"], [0.1111111111111111, \"#46039f\"], [0.2222222222222222, \"#7201a8\"], [0.3333333333333333, \"#9c179e\"], [0.4444444444444444, \"#bd3786\"], [0.5555555555555556, \"#d8576b\"], [0.6666666666666666, \"#ed7953\"], [0.7777777777777778, \"#fb9f3a\"], [0.8888888888888888, \"#fdca26\"], [1.0, \"#f0f921\"]], \"type\": \"heatmap\"}], \"heatmapgl\": [{\"colorbar\": {\"outlinewidth\": 0, \"ticks\": \"\"}, \"colorscale\": [[0.0, \"#0d0887\"], [0.1111111111111111, \"#46039f\"], [0.2222222222222222, \"#7201a8\"], [0.3333333333333333, \"#9c179e\"], [0.4444444444444444, \"#bd3786\"], [0.5555555555555556, \"#d8576b\"], [0.6666666666666666, \"#ed7953\"], [0.7777777777777778, \"#fb9f3a\"], [0.8888888888888888, \"#fdca26\"], [1.0, \"#f0f921\"]], \"type\": \"heatmapgl\"}], \"histogram\": [{\"marker\": {\"colorbar\": {\"outlinewidth\": 0, \"ticks\": \"\"}}, \"type\": \"histogram\"}], \"histogram2d\": [{\"colorbar\": {\"outlinewidth\": 0, \"ticks\": \"\"}, \"colorscale\": [[0.0, \"#0d0887\"], [0.1111111111111111, \"#46039f\"], [0.2222222222222222, \"#7201a8\"], [0.3333333333333333, \"#9c179e\"], [0.4444444444444444, \"#bd3786\"], [0.5555555555555556, \"#d8576b\"], [0.6666666666666666, \"#ed7953\"], [0.7777777777777778, \"#fb9f3a\"], [0.8888888888888888, \"#fdca26\"], [1.0, \"#f0f921\"]], \"type\": \"histogram2d\"}], \"histogram2dcontour\": [{\"colorbar\": {\"outlinewidth\": 0, \"ticks\": \"\"}, \"colorscale\": [[0.0, \"#0d0887\"], [0.1111111111111111, \"#46039f\"], [0.2222222222222222, \"#7201a8\"], [0.3333333333333333, \"#9c179e\"], [0.4444444444444444, \"#bd3786\"], [0.5555555555555556, \"#d8576b\"], [0.6666666666666666, \"#ed7953\"], [0.7777777777777778, \"#fb9f3a\"], [0.8888888888888888, \"#fdca26\"], [1.0, \"#f0f921\"]], \"type\": \"histogram2dcontour\"}], \"mesh3d\": [{\"colorbar\": {\"outlinewidth\": 0, \"ticks\": \"\"}, \"type\": \"mesh3d\"}], \"parcoords\": [{\"line\": {\"colorbar\": {\"outlinewidth\": 0, \"ticks\": \"\"}}, \"type\": \"parcoords\"}], \"pie\": [{\"automargin\": true, \"type\": \"pie\"}], \"scatter\": [{\"marker\": {\"colorbar\": {\"outlinewidth\": 0, \"ticks\": \"\"}}, \"type\": \"scatter\"}], \"scatter3d\": [{\"line\": {\"colorbar\": {\"outlinewidth\": 0, \"ticks\": \"\"}}, \"marker\": {\"colorbar\": {\"outlinewidth\": 0, \"ticks\": \"\"}}, \"type\": \"scatter3d\"}], \"scattercarpet\": [{\"marker\": {\"colorbar\": {\"outlinewidth\": 0, \"ticks\": \"\"}}, \"type\": \"scattercarpet\"}], \"scattergeo\": [{\"marker\": {\"colorbar\": {\"outlinewidth\": 0, \"ticks\": \"\"}}, \"type\": \"scattergeo\"}], \"scattergl\": [{\"marker\": {\"colorbar\": {\"outlinewidth\": 0, \"ticks\": \"\"}}, \"type\": \"scattergl\"}], \"scattermapbox\": [{\"marker\": {\"colorbar\": {\"outlinewidth\": 0, \"ticks\": \"\"}}, \"type\": \"scattermapbox\"}], \"scatterpolar\": [{\"marker\": {\"colorbar\": {\"outlinewidth\": 0, \"ticks\": \"\"}}, \"type\": \"scatterpolar\"}], \"scatterpolargl\": [{\"marker\": {\"colorbar\": {\"outlinewidth\": 0, \"ticks\": \"\"}}, \"type\": \"scatterpolargl\"}], \"scatterternary\": [{\"marker\": {\"colorbar\": {\"outlinewidth\": 0, \"ticks\": \"\"}}, \"type\": \"scatterternary\"}], \"surface\": [{\"colorbar\": {\"outlinewidth\": 0, \"ticks\": \"\"}, \"colorscale\": [[0.0, \"#0d0887\"], [0.1111111111111111, \"#46039f\"], [0.2222222222222222, \"#7201a8\"], [0.3333333333333333, \"#9c179e\"], [0.4444444444444444, \"#bd3786\"], [0.5555555555555556, \"#d8576b\"], [0.6666666666666666, \"#ed7953\"], [0.7777777777777778, \"#fb9f3a\"], [0.8888888888888888, \"#fdca26\"], [1.0, \"#f0f921\"]], \"type\": \"surface\"}], \"table\": [{\"cells\": {\"fill\": {\"color\": \"#EBF0F8\"}, \"line\": {\"color\": \"white\"}}, \"header\": {\"fill\": {\"color\": \"#C8D4E3\"}, \"line\": {\"color\": \"white\"}}, \"type\": \"table\"}]}, \"layout\": {\"annotationdefaults\": {\"arrowcolor\": \"#2a3f5f\", \"arrowhead\": 0, \"arrowwidth\": 1}, \"coloraxis\": {\"colorbar\": {\"outlinewidth\": 0, \"ticks\": \"\"}}, \"colorscale\": {\"diverging\": [[0, \"#8e0152\"], [0.1, \"#c51b7d\"], [0.2, \"#de77ae\"], [0.3, \"#f1b6da\"], [0.4, \"#fde0ef\"], [0.5, \"#f7f7f7\"], [0.6, \"#e6f5d0\"], [0.7, \"#b8e186\"], [0.8, \"#7fbc41\"], [0.9, \"#4d9221\"], [1, \"#276419\"]], \"sequential\": [[0.0, \"#0d0887\"], [0.1111111111111111, \"#46039f\"], [0.2222222222222222, \"#7201a8\"], [0.3333333333333333, \"#9c179e\"], [0.4444444444444444, \"#bd3786\"], [0.5555555555555556, \"#d8576b\"], [0.6666666666666666, \"#ed7953\"], [0.7777777777777778, \"#fb9f3a\"], [0.8888888888888888, \"#fdca26\"], [1.0, \"#f0f921\"]], \"sequentialminus\": [[0.0, \"#0d0887\"], [0.1111111111111111, \"#46039f\"], [0.2222222222222222, \"#7201a8\"], [0.3333333333333333, \"#9c179e\"], [0.4444444444444444, \"#bd3786\"], [0.5555555555555556, \"#d8576b\"], [0.6666666666666666, \"#ed7953\"], [0.7777777777777778, \"#fb9f3a\"], [0.8888888888888888, \"#fdca26\"], [1.0, \"#f0f921\"]]}, \"colorway\": [\"#636efa\", \"#EF553B\", \"#00cc96\", \"#ab63fa\", \"#FFA15A\", \"#19d3f3\", \"#FF6692\", \"#B6E880\", \"#FF97FF\", \"#FECB52\"], \"font\": {\"color\": \"#2a3f5f\"}, \"geo\": {\"bgcolor\": \"white\", \"lakecolor\": \"white\", \"landcolor\": \"#E5ECF6\", \"showlakes\": true, \"showland\": true, \"subunitcolor\": \"white\"}, \"hoverlabel\": {\"align\": \"left\"}, \"hovermode\": \"closest\", \"mapbox\": {\"style\": \"light\"}, \"paper_bgcolor\": \"white\", \"plot_bgcolor\": \"#E5ECF6\", \"polar\": {\"angularaxis\": {\"gridcolor\": \"white\", \"linecolor\": \"white\", \"ticks\": \"\"}, \"bgcolor\": \"#E5ECF6\", \"radialaxis\": {\"gridcolor\": \"white\", \"linecolor\": \"white\", \"ticks\": \"\"}}, \"scene\": {\"xaxis\": {\"backgroundcolor\": \"#E5ECF6\", \"gridcolor\": \"white\", \"gridwidth\": 2, \"linecolor\": \"white\", \"showbackground\": true, \"ticks\": \"\", \"zerolinecolor\": \"white\"}, \"yaxis\": {\"backgroundcolor\": \"#E5ECF6\", \"gridcolor\": \"white\", \"gridwidth\": 2, \"linecolor\": \"white\", \"showbackground\": true, \"ticks\": \"\", \"zerolinecolor\": \"white\"}, \"zaxis\": {\"backgroundcolor\": \"#E5ECF6\", \"gridcolor\": \"white\", \"gridwidth\": 2, \"linecolor\": \"white\", \"showbackground\": true, \"ticks\": \"\", \"zerolinecolor\": \"white\"}}, \"shapedefaults\": {\"line\": {\"color\": \"#2a3f5f\"}}, \"ternary\": {\"aaxis\": {\"gridcolor\": \"white\", \"linecolor\": \"white\", \"ticks\": \"\"}, \"baxis\": {\"gridcolor\": \"white\", \"linecolor\": \"white\", \"ticks\": \"\"}, \"bgcolor\": \"#E5ECF6\", \"caxis\": {\"gridcolor\": \"white\", \"linecolor\": \"white\", \"ticks\": \"\"}}, \"title\": {\"x\": 0.05}, \"xaxis\": {\"automargin\": true, \"gridcolor\": \"white\", \"linecolor\": \"white\", \"ticks\": \"\", \"title\": {\"standoff\": 15}, \"zerolinecolor\": \"white\", \"zerolinewidth\": 2}, \"yaxis\": {\"automargin\": true, \"gridcolor\": \"white\", \"linecolor\": \"white\", \"ticks\": \"\", \"title\": {\"standoff\": 15}, \"zerolinecolor\": \"white\", \"zerolinewidth\": 2}}}, \"title\": {\"text\": \"DWF Schedule\"}, \"xaxis\": {\"rangeselector\": {\"buttons\": [{\"count\": 7, \"label\": \"1w\", \"step\": \"day\", \"stepmode\": \"backward\"}, {\"count\": 1, \"label\": \"1m\", \"step\": \"month\", \"stepmode\": \"backward\"}, {\"count\": 6, \"label\": \"6m\", \"step\": \"month\", \"stepmode\": \"backward\"}, {\"count\": 1, \"label\": \"YTD\", \"step\": \"year\", \"stepmode\": \"todate\"}, {\"count\": 1, \"label\": \"1y\", \"step\": \"year\", \"stepmode\": \"backward\"}, {\"step\": \"all\"}]}, \"showgrid\": true, \"type\": \"date\", \"zeroline\": false}, \"yaxis\": {\"autorange\": false, \"range\": [-1, 7], \"showgrid\": true, \"ticktext\": [\"WiFeS\", \"AAT\", \"AAT-Geha\", \"ASTROSAT\", \"Parkes\", \"DECam\"], \"tickvals\": [0, 1, 2, 3, 4, 5], \"zeroline\": false}},\n",
       "                        {\"responsive\": true}\n",
       "                    ).then(function(){\n",
       "                            \n",
       "var gd = document.getElementById('5f8159ab-2e90-4c89-ae7e-bfa2927092de');\n",
       "var x = new MutationObserver(function (mutations, observer) {{\n",
       "        var display = window.getComputedStyle(gd).display;\n",
       "        if (!display || display === 'none') {{\n",
       "            console.log([gd, 'removed!']);\n",
       "            Plotly.purge(gd);\n",
       "            observer.disconnect();\n",
       "        }}\n",
       "}});\n",
       "\n",
       "// Listen for the removal of the full notebook cells\n",
       "var notebookContainer = gd.closest('#notebook-container');\n",
       "if (notebookContainer) {{\n",
       "    x.observe(notebookContainer, {childList: true});\n",
       "}}\n",
       "\n",
       "// Listen for the clearing of the current output cell\n",
       "var outputEl = gd.closest('.output');\n",
       "if (outputEl) {{\n",
       "    x.observe(outputEl, {childList: true});\n",
       "}}\n",
       "\n",
       "                        })\n",
       "                };\n",
       "                });\n",
       "            </script>\n",
       "        </div>"
      ]
     },
     "metadata": {},
     "output_type": "display_data"
    },
    {
     "name": "stdout",
     "output_type": "stream",
     "text": [
      " N  =NGC6744 \n",
      " F18=FRB181112 \n",
      " F19=FRB190711 \n",
      " E  =Elias\n"
     ]
    }
   ],
   "source": [
    "# Table for diff datetime formats\n",
    "# https://www.journaldev.com/23365/python-string-to-datetime-strptime\n",
    "# Do it like this: '%Y-%m-%d %H:%M:%S' = '2016-01-01 11:30:00'\n",
    "fmt = '%Y-%m-%d %H:%M:%S'\n",
    "\n",
    "# DECam Schedule from Jeff Cooke's email \n",
    "# Parkes Schedule from https://www.parkes.atnf.csiro.au/observing/schedules/current/PK.pdf \n",
    "# Parks Scheule also from Vivek Gupta's email subject: \"Swapping of Parkes observing time for P1050 - P1066 - BL\"\n",
    "# ASTROSAT Schedule from email chain subject: \"Your Astrosat proposal A09_107 has been accepted for cycle A09\"\n",
    "Schedule_Text = \"DECam,2020-09-13 04:30:00,2020-09-13 05:00:00,UTC,Vis,N;\"\\\n",
    "                \"DECam,2020-09-14 04:30:00,2020-09-14 05:00:00,UTC,Vis,N;\"\\\n",
    "                \"DECam,2020-09-15 04:30:00,2020-09-15 05:00:00,UTC,Vis,N;\"\\\n",
    "                \"DECam,2020-09-17 04:30:00,2020-09-17 05:00:00,UTC,Vis,N;\"\\\n",
    "                \"DECam,2020-09-18 04:30:00,2020-09-18 05:00:00,UTC,Vis,N;\"\\\n",
    "                \"DECam,2020-09-19 04:30:00,2020-09-19 05:00:00,UTC,Vis,N;\"\\\n",
    "                \"\"\\\n",
    "                \"DECam,2020-09-13 05:05:05,2020-09-13 06:30:00,UTC,Vis,F18;\"\\\n",
    "                \"DECam,2020-09-14 05:05:00,2020-09-14 06:30:00,UTC,Vis,F18;\"\\\n",
    "                \"DECam,2020-09-15 05:05:00,2020-09-15 06:30:00,UTC,Vis,F18;\"\\\n",
    "                \"DECam,2020-09-17 05:05:00,2020-09-17 06:30:00,UTC,Vis,F18;\"\\\n",
    "                \"DECam,2020-09-18 05:05:00,2020-09-18 06:30:00,UTC,Vis,F18;\"\\\n",
    "                \"DECam,2020-09-19 05:05:00,2020-09-19 06:30:00,UTC,Vis,F18;\"\\\n",
    "                \"\"\\\n",
    "                \"DECam,2020-09-13 06:31:00,2020-09-13 08:00:00,UTC,Vis,F19;\"\\\n",
    "                \"DECam,2020-09-14 06:31:00,2020-09-14 08:00:00,UTC,Vis,F19;\"\\\n",
    "                \"DECam,2020-09-15 06:31:00,2020-09-15 08:00:00,UTC,Vis,F19;\"\\\n",
    "                \"DECam,2020-09-17 06:31:00,2020-09-17 08:00:00,UTC,Vis,F19;\"\\\n",
    "                \"DECam,2020-09-18 06:31:00,2020-09-18 08:00:00,UTC,Vis,F19;\"\\\n",
    "                \"DECam,2020-09-19 06:31:00,2020-09-19 08:00:00,UTC,Vis,F19;\"\\\n",
    "                \"\"\\\n",
    "                \"DECam,2020-09-13 08:01:00,2020-09-13 09:00:00,UTC,Vis,E;\"\\\n",
    "                \"DECam,2020-09-14 08:01:00,2020-09-14 09:00:00,UTC,Vis,E;\"\\\n",
    "                \"DECam,2020-09-15 08:01:00,2020-09-15 09:00:00,UTC,Vis,E;\"\\\n",
    "                \"DECam,2020-09-17 08:01:00,2020-09-17 09:00:00,UTC,Vis,E;\"\\\n",
    "                \"DECam,2020-09-18 08:01:00,2020-09-18 09:00:00,UTC,Vis,E;\"\\\n",
    "                \"DECam,2020-09-19 08:01:00,2020-09-19 09:00:00,UTC,Vis,E;\"\\\n",
    "                \"\"\\\n",
    "                \"Parkes,2020-09-13 04:00:00,2020-09-13 10:00:00,UTC,Radio,;\"\\\n",
    "                \"Parkes,2020-09-14 04:00:00,2020-09-14 10:00:00,UTC,Radio,;\"\\\n",
    "                \"Parkes,2020-09-15 04:00:00,2020-09-15 10:00:00,UTC,Radio,;\"\\\n",
    "                \"Parkes,2020-09-17 04:00:00,2020-09-17 10:00:00,UTC,Radio,;\"\\\n",
    "                \"Parkes,2020-09-18 04:00:00,2020-09-18 10:00:00,UTC,Radio,;\"\\\n",
    "                \"Parkes,2020-09-19 04:00:00,2020-09-19 10:00:00,UTC,Radio,;\"\\\n",
    "                \"\"\\\n",
    "                \"ASTROSAT,2020-09-14 06:00:00,2020-09-14 08:00:00,UTC,UVXRay,;\"\\\n",
    "                \"ASTROSAT,2020-09-15 06:00:00,2020-09-15 08:00:00,UTC,UVXRay,;\"\\\n",
    "                \"ASTROSAT,2020-09-18 06:00:00,2020-09-18 08:00:00,UTC,UVXRay,;\"\\\n",
    "                \"AAT-Geha,2020-09-12 19:19:00,2020-09-13 04:32:00,Australia/Sydney,Vis,;\"\\\n",
    "                \"AAT-Geha,2020-09-13 19:19:00,2020-09-14 04:32:00,Australia/Sydney,Vis,;\"\\\n",
    "                \"AAT-Geha,2020-09-14 19:19:00,2020-09-15 04:32:00,Australia/Sydney,Vis,;\"\\\n",
    "                \"AAT-Geha,2020-09-15 19:19:00,2020-09-16 04:32:00,Australia/Sydney,Vis,;\"\\\n",
    "                \"AAT-Geha,2020-09-16 19:19:00,2020-09-17 04:32:00,Australia/Sydney,Vis,;\"\\\n",
    "                \"AAT-Geha,2020-09-17 19:19:00,2020-09-18 04:32:00,Australia/Sydney,Vis,;\"\\\n",
    "                \"AAT-Geha,2020-09-18 19:19:00,2020-09-19 04:32:00,Australia/Sydney,Vis,;\"\\\n",
    "                \"AAT-Geha,2020-09-19 19:19:00,2020-09-20 04:32:00,Australia/Sydney,Vis,;\"\\\n",
    "                \"AAT-Geha,2020-09-20 19:19:00,2020-09-21 04:32:00,Australia/Sydney,Vis,;\"\\\n",
    "                \"AAT,2020-09-21 19:19:00,2020-09-22 04:32:00,Australia/Sydney,Vis,;\"\\\n",
    "                \"AAT,2020-09-22 19:19:00,2020-09-23 04:32:00,Australia/Sydney,Vis,;\"\\\n",
    "                \"AAT,2020-09-23 19:19:00,2020-09-24 04:32:00,Australia/Sydney,Vis,;\"\\\n",
    "                \"AAT,2020-09-24 19:19:00,2020-09-25 04:32:00,Australia/Sydney,Vis,;\"\\\n",
    "                \"WiFeS,2020-09-14 19:19:00,2020-09-15 04:32:00,Australia/Sydney,Vis,;\"\\\n",
    "                \"WiFeS,2020-09-15 19:19:00,2020-09-16 04:32:00,Australia/Sydney,Vis,;\"\\\n",
    "                \"WiFeS,2020-09-16 19:19:00,2020-09-17 04:32:00,Australia/Sydney,Vis,;\"\\\n",
    "                \"WiFeS,2020-09-17 19:19:00,2020-09-18 04:32:00,Australia/Sydney,Vis,;\"\\\n",
    "                \"WiFeS,2020-09-18 19:19:00,2020-09-19 04:32:00,Australia/Sydney,Vis,;\"\\\n",
    "                \"WiFeS,2020-09-19 19:19:00,2020-09-20 04:32:00,Australia/Sydney,Vis,;\"\\\n",
    "\n",
    "Plot_Schedule(Schedule_Text,in_fmt='%Y-%m-%d %H:%M:%S',out_tz='UTC')\n",
    "print(' N  =NGC6744 \\n F18=FRB181112 \\n F19=FRB190711 \\n E  =Elias')"
   ]
  },
  {
   "cell_type": "code",
   "execution_count": null,
   "metadata": {},
   "outputs": [],
   "source": []
  },
  {
   "cell_type": "code",
   "execution_count": null,
   "metadata": {},
   "outputs": [],
   "source": []
  },
  {
   "cell_type": "code",
   "execution_count": null,
   "metadata": {},
   "outputs": [],
   "source": []
  },
  {
   "cell_type": "code",
   "execution_count": null,
   "metadata": {},
   "outputs": [],
   "source": []
  },
  {
   "cell_type": "code",
   "execution_count": null,
   "metadata": {},
   "outputs": [],
   "source": []
  },
  {
   "cell_type": "code",
   "execution_count": null,
   "metadata": {},
   "outputs": [],
   "source": []
  },
  {
   "cell_type": "code",
   "execution_count": null,
   "metadata": {},
   "outputs": [],
   "source": []
  },
  {
   "cell_type": "code",
   "execution_count": null,
   "metadata": {},
   "outputs": [],
   "source": []
  },
  {
   "cell_type": "markdown",
   "metadata": {},
   "source": [
    "# Visibility Plot"
   ]
  },
  {
   "cell_type": "raw",
   "metadata": {},
   "source": [
    "They seem to be alright for all the 4 targets in the months of August-Sept, 2020.\n",
    "\n",
    "Field name            RA                DEC          Start     End (UT)\n",
    "FRB191223    20:34:14.14  -75:08:54.19    04:30 - 06:00\n",
    "FRB190711    21:56:00.00  -80:23:00.00    06:00 - 08:00\n",
    "HDFS             22:32:00.00  -60:32:00.00    08:00 - 08:35\n",
    "FRB180515    23:13:12.00  -42:14:46.00    08:35 - 09:30"
   ]
  },
  {
   "cell_type": "code",
   "execution_count": 13,
   "metadata": {},
   "outputs": [
    {
     "data": {
      "application/vnd.plotly.v1+json": {
       "config": {
        "plotlyServerURL": "https://plot.ly"
       },
       "data": [
        {
         "fill": "toself",
         "fillcolor": "rgb(127, 0, 255)",
         "hoverinfo": "name",
         "legendgroup": "rgb(127, 0, 255)",
         "mode": "none",
         "name": "NGC",
         "opacity": 0.5,
         "type": "scatter",
         "x": [
          "2020-09-13 04:30:00",
          "2020-09-13 06:00:00",
          "2020-09-13 06:00:00",
          "2020-09-13 04:30:00",
          "2020-09-13 04:30:00",
          "2020-09-14 04:30:00",
          "2020-09-14 06:00:00",
          "2020-09-14 06:00:00",
          "2020-09-14 04:30:00",
          "2020-09-14 04:30:00",
          "2020-09-15 04:30:00",
          "2020-09-15 06:00:00",
          "2020-09-15 06:00:00",
          "2020-09-15 04:30:00",
          "2020-09-15 04:30:00",
          "2020-09-17 04:30:00",
          "2020-09-17 06:00:00",
          "2020-09-17 06:00:00",
          "2020-09-17 04:30:00",
          "2020-09-17 04:30:00",
          "2020-09-18 04:30:00",
          "2020-09-18 06:00:00",
          "2020-09-18 06:00:00",
          "2020-09-18 04:30:00",
          "2020-09-18 04:30:00",
          "2020-09-19 04:30:00",
          "2020-09-19 06:00:00",
          "2020-09-19 06:00:00",
          "2020-09-19 04:30:00",
          "2020-09-19 04:30:00",
          "2020-09-14 06:00:00",
          "2020-09-14 08:00:00",
          "2020-09-14 08:00:00",
          "2020-09-14 06:00:00",
          "2020-09-14 06:00:00",
          "2020-09-15 06:00:00",
          "2020-09-15 08:00:00",
          "2020-09-15 08:00:00",
          "2020-09-15 06:00:00",
          "2020-09-15 06:00:00",
          "2020-09-18 06:00:00",
          "2020-09-18 08:00:00",
          "2020-09-18 08:00:00",
          "2020-09-18 06:00:00",
          "2020-09-18 06:00:00",
          "2020-09-13 04:00:00",
          "2020-09-13 10:00:00",
          "2020-09-13 10:00:00",
          "2020-09-13 04:00:00",
          "2020-09-13 04:00:00",
          "2020-09-14 04:00:00",
          "2020-09-14 10:00:00",
          "2020-09-14 10:00:00",
          "2020-09-14 04:00:00",
          "2020-09-14 04:00:00",
          "2020-09-15 04:00:00",
          "2020-09-15 10:00:00",
          "2020-09-15 10:00:00",
          "2020-09-15 04:00:00"
         ],
         "y": [
          3.6,
          3.6,
          4.4,
          4.4,
          null,
          3.6,
          3.6,
          4.4,
          4.4,
          null,
          3.6,
          3.6,
          4.4,
          4.4,
          null,
          3.6,
          3.6,
          4.4,
          4.4,
          null,
          3.6,
          3.6,
          4.4,
          4.4,
          null,
          3.6,
          3.6,
          4.4,
          4.4,
          null,
          1.6,
          1.6,
          2.4,
          2.4,
          null,
          1.6,
          1.6,
          2.4,
          2.4,
          null,
          1.6,
          1.6,
          2.4,
          2.4,
          null,
          0.6,
          0.6,
          1.4,
          1.4,
          null,
          0.6,
          0.6,
          1.4,
          1.4,
          null,
          0.6,
          0.6,
          1.4,
          1.4
         ]
        },
        {
         "fill": "toself",
         "fillcolor": "rgb(255, 0, 0)",
         "hoverinfo": "name",
         "legendgroup": "rgb(255, 0, 0)",
         "mode": "none",
         "name": "CDFS",
         "opacity": 0.5,
         "type": "scatter",
         "x": [
          "2020-09-13 05:30:00",
          "2020-09-13 10:00:00",
          "2020-09-13 10:00:00",
          "2020-09-13 05:30:00",
          "2020-09-13 05:30:00",
          "2020-09-14 05:30:00",
          "2020-09-14 10:00:00",
          "2020-09-14 10:00:00",
          "2020-09-14 05:30:00",
          "2020-09-14 05:30:00",
          "2020-09-15 05:30:00",
          "2020-09-15 10:00:00",
          "2020-09-15 10:00:00",
          "2020-09-15 05:30:00",
          "2020-09-15 05:30:00",
          "2020-09-17 05:30:00",
          "2020-09-17 10:00:00",
          "2020-09-17 10:00:00",
          "2020-09-17 05:30:00",
          "2020-09-17 05:30:00",
          "2020-09-18 05:30:00",
          "2020-09-18 10:00:00",
          "2020-09-18 10:00:00",
          "2020-09-18 05:30:00",
          "2020-09-18 05:30:00",
          "2020-09-19 05:30:00",
          "2020-09-19 10:00:00",
          "2020-09-19 10:00:00",
          "2020-09-19 05:30:00",
          "2020-09-19 05:30:00",
          "2020-09-13 08:00:00",
          "2020-09-13 12:00:00",
          "2020-09-13 12:00:00",
          "2020-09-13 08:00:00",
          "2020-09-13 08:00:00",
          "2020-09-14 08:00:00",
          "2020-09-14 12:00:00",
          "2020-09-14 12:00:00",
          "2020-09-14 08:00:00",
          "2020-09-14 08:00:00",
          "2020-09-15 08:00:00",
          "2020-09-15 12:00:00",
          "2020-09-15 12:00:00",
          "2020-09-15 08:00:00"
         ],
         "y": [
          2.6,
          2.6,
          3.4,
          3.4,
          null,
          2.6,
          2.6,
          3.4,
          3.4,
          null,
          2.6,
          2.6,
          3.4,
          3.4,
          null,
          2.6,
          2.6,
          3.4,
          3.4,
          null,
          2.6,
          2.6,
          3.4,
          3.4,
          null,
          2.6,
          2.6,
          3.4,
          3.4,
          null,
          -0.4,
          -0.4,
          0.4,
          0.4,
          null,
          -0.4,
          -0.4,
          0.4,
          0.4,
          null,
          -0.4,
          -0.4,
          0.4,
          0.4
         ]
        },
        {
         "legendgroup": "rgb(127, 0, 255)",
         "marker": {
          "color": "rgb(127, 0, 255)",
          "opacity": 0,
          "size": 1
         },
         "mode": "markers",
         "name": "",
         "opacity": 0.5,
         "showlegend": false,
         "text": [
          null,
          null,
          null,
          null,
          null,
          null,
          null,
          null,
          null,
          null,
          null,
          null,
          null,
          null,
          null,
          null,
          null,
          null,
          null,
          null,
          null,
          null,
          null,
          null
         ],
         "type": "scatter",
         "x": [
          "2020-09-13 04:30:00",
          "2020-09-13 06:00:00",
          "2020-09-14 04:30:00",
          "2020-09-14 06:00:00",
          "2020-09-15 04:30:00",
          "2020-09-15 06:00:00",
          "2020-09-17 04:30:00",
          "2020-09-17 06:00:00",
          "2020-09-18 04:30:00",
          "2020-09-18 06:00:00",
          "2020-09-19 04:30:00",
          "2020-09-19 06:00:00",
          "2020-09-14 06:00:00",
          "2020-09-14 08:00:00",
          "2020-09-15 06:00:00",
          "2020-09-15 08:00:00",
          "2020-09-18 06:00:00",
          "2020-09-18 08:00:00",
          "2020-09-13 04:00:00",
          "2020-09-13 10:00:00",
          "2020-09-14 04:00:00",
          "2020-09-14 10:00:00",
          "2020-09-15 04:00:00",
          "2020-09-15 10:00:00"
         ],
         "y": [
          4,
          4,
          4,
          4,
          4,
          4,
          4,
          4,
          4,
          4,
          4,
          4,
          2,
          2,
          2,
          2,
          2,
          2,
          1,
          1,
          1,
          1,
          1,
          1
         ]
        },
        {
         "legendgroup": "rgb(255, 0, 0)",
         "marker": {
          "color": "rgb(255, 0, 0)",
          "opacity": 0,
          "size": 1
         },
         "mode": "markers",
         "name": "",
         "opacity": 0.5,
         "showlegend": false,
         "text": [
          null,
          null,
          null,
          null,
          null,
          null,
          null,
          null,
          null,
          null,
          null,
          null,
          null,
          null,
          null,
          null,
          null,
          null
         ],
         "type": "scatter",
         "x": [
          "2020-09-13 05:30:00",
          "2020-09-13 10:00:00",
          "2020-09-14 05:30:00",
          "2020-09-14 10:00:00",
          "2020-09-15 05:30:00",
          "2020-09-15 10:00:00",
          "2020-09-17 05:30:00",
          "2020-09-17 10:00:00",
          "2020-09-18 05:30:00",
          "2020-09-18 10:00:00",
          "2020-09-19 05:30:00",
          "2020-09-19 10:00:00",
          "2020-09-13 08:00:00",
          "2020-09-13 12:00:00",
          "2020-09-14 08:00:00",
          "2020-09-14 12:00:00",
          "2020-09-15 08:00:00",
          "2020-09-15 12:00:00"
         ],
         "y": [
          3,
          3,
          3,
          3,
          3,
          3,
          3,
          3,
          3,
          3,
          3,
          3,
          0,
          0,
          0,
          0,
          0,
          0
         ]
        }
       ],
       "layout": {
        "annotations": [
         {
          "font": {
           "color": "rgb( 128,255,0)"
          },
          "showarrow": false,
          "text": "",
          "x": "2020-09-13 05:15:00",
          "y": 4
         },
         {
          "font": {
           "color": "rgb( 128,255,0)"
          },
          "showarrow": false,
          "text": "",
          "x": "2020-09-14 05:15:00",
          "y": 4
         },
         {
          "font": {
           "color": "rgb( 128,255,0)"
          },
          "showarrow": false,
          "text": "",
          "x": "2020-09-15 05:15:00",
          "y": 4
         },
         {
          "font": {
           "color": "rgb( 128,255,0)"
          },
          "showarrow": false,
          "text": "",
          "x": "2020-09-17 05:15:00",
          "y": 4
         },
         {
          "font": {
           "color": "rgb( 128,255,0)"
          },
          "showarrow": false,
          "text": "",
          "x": "2020-09-18 05:15:00",
          "y": 4
         },
         {
          "font": {
           "color": "rgb( 128,255,0)"
          },
          "showarrow": false,
          "text": "",
          "x": "2020-09-19 05:15:00",
          "y": 4
         },
         {
          "font": {
           "color": "rgb( 0,255,255)"
          },
          "showarrow": false,
          "text": "",
          "x": "2020-09-13 07:45:00",
          "y": 3
         },
         {
          "font": {
           "color": "rgb( 0,255,255)"
          },
          "showarrow": false,
          "text": "",
          "x": "2020-09-14 07:45:00",
          "y": 3
         },
         {
          "font": {
           "color": "rgb( 0,255,255)"
          },
          "showarrow": false,
          "text": "",
          "x": "2020-09-15 07:45:00",
          "y": 3
         },
         {
          "font": {
           "color": "rgb( 0,255,255)"
          },
          "showarrow": false,
          "text": "",
          "x": "2020-09-17 07:45:00",
          "y": 3
         },
         {
          "font": {
           "color": "rgb( 0,255,255)"
          },
          "showarrow": false,
          "text": "",
          "x": "2020-09-18 07:45:00",
          "y": 3
         },
         {
          "font": {
           "color": "rgb( 0,255,255)"
          },
          "showarrow": false,
          "text": "",
          "x": "2020-09-19 07:45:00",
          "y": 3
         },
         {
          "font": {
           "color": "rgb( 128,255,0)"
          },
          "showarrow": false,
          "text": "",
          "x": "2020-09-14 07:00:00",
          "y": 2
         },
         {
          "font": {
           "color": "rgb( 128,255,0)"
          },
          "showarrow": false,
          "text": "",
          "x": "2020-09-15 07:00:00",
          "y": 2
         },
         {
          "font": {
           "color": "rgb( 128,255,0)"
          },
          "showarrow": false,
          "text": "",
          "x": "2020-09-18 07:00:00",
          "y": 2
         },
         {
          "font": {
           "color": "rgb( 128,255,0)"
          },
          "showarrow": false,
          "text": "",
          "x": "2020-09-13 07:00:00",
          "y": 1
         },
         {
          "font": {
           "color": "rgb( 128,255,0)"
          },
          "showarrow": false,
          "text": "",
          "x": "2020-09-14 07:00:00",
          "y": 1
         },
         {
          "font": {
           "color": "rgb( 128,255,0)"
          },
          "showarrow": false,
          "text": "",
          "x": "2020-09-15 07:00:00",
          "y": 1
         },
         {
          "font": {
           "color": "rgb( 0,255,255)"
          },
          "showarrow": false,
          "text": "",
          "x": "2020-09-13 10:00:00",
          "y": 0
         },
         {
          "font": {
           "color": "rgb( 0,255,255)"
          },
          "showarrow": false,
          "text": "",
          "x": "2020-09-14 10:00:00",
          "y": 0
         },
         {
          "font": {
           "color": "rgb( 0,255,255)"
          },
          "showarrow": false,
          "text": "",
          "x": "2020-09-15 10:00:00",
          "y": 0
         }
        ],
        "height": 360,
        "hovermode": "closest",
        "showlegend": true,
        "template": {
         "data": {
          "bar": [
           {
            "error_x": {
             "color": "#2a3f5f"
            },
            "error_y": {
             "color": "#2a3f5f"
            },
            "marker": {
             "line": {
              "color": "#E5ECF6",
              "width": 0.5
             }
            },
            "type": "bar"
           }
          ],
          "barpolar": [
           {
            "marker": {
             "line": {
              "color": "#E5ECF6",
              "width": 0.5
             }
            },
            "type": "barpolar"
           }
          ],
          "carpet": [
           {
            "aaxis": {
             "endlinecolor": "#2a3f5f",
             "gridcolor": "white",
             "linecolor": "white",
             "minorgridcolor": "white",
             "startlinecolor": "#2a3f5f"
            },
            "baxis": {
             "endlinecolor": "#2a3f5f",
             "gridcolor": "white",
             "linecolor": "white",
             "minorgridcolor": "white",
             "startlinecolor": "#2a3f5f"
            },
            "type": "carpet"
           }
          ],
          "choropleth": [
           {
            "colorbar": {
             "outlinewidth": 0,
             "ticks": ""
            },
            "type": "choropleth"
           }
          ],
          "contour": [
           {
            "colorbar": {
             "outlinewidth": 0,
             "ticks": ""
            },
            "colorscale": [
             [
              0,
              "#0d0887"
             ],
             [
              0.1111111111111111,
              "#46039f"
             ],
             [
              0.2222222222222222,
              "#7201a8"
             ],
             [
              0.3333333333333333,
              "#9c179e"
             ],
             [
              0.4444444444444444,
              "#bd3786"
             ],
             [
              0.5555555555555556,
              "#d8576b"
             ],
             [
              0.6666666666666666,
              "#ed7953"
             ],
             [
              0.7777777777777778,
              "#fb9f3a"
             ],
             [
              0.8888888888888888,
              "#fdca26"
             ],
             [
              1,
              "#f0f921"
             ]
            ],
            "type": "contour"
           }
          ],
          "contourcarpet": [
           {
            "colorbar": {
             "outlinewidth": 0,
             "ticks": ""
            },
            "type": "contourcarpet"
           }
          ],
          "heatmap": [
           {
            "colorbar": {
             "outlinewidth": 0,
             "ticks": ""
            },
            "colorscale": [
             [
              0,
              "#0d0887"
             ],
             [
              0.1111111111111111,
              "#46039f"
             ],
             [
              0.2222222222222222,
              "#7201a8"
             ],
             [
              0.3333333333333333,
              "#9c179e"
             ],
             [
              0.4444444444444444,
              "#bd3786"
             ],
             [
              0.5555555555555556,
              "#d8576b"
             ],
             [
              0.6666666666666666,
              "#ed7953"
             ],
             [
              0.7777777777777778,
              "#fb9f3a"
             ],
             [
              0.8888888888888888,
              "#fdca26"
             ],
             [
              1,
              "#f0f921"
             ]
            ],
            "type": "heatmap"
           }
          ],
          "heatmapgl": [
           {
            "colorbar": {
             "outlinewidth": 0,
             "ticks": ""
            },
            "colorscale": [
             [
              0,
              "#0d0887"
             ],
             [
              0.1111111111111111,
              "#46039f"
             ],
             [
              0.2222222222222222,
              "#7201a8"
             ],
             [
              0.3333333333333333,
              "#9c179e"
             ],
             [
              0.4444444444444444,
              "#bd3786"
             ],
             [
              0.5555555555555556,
              "#d8576b"
             ],
             [
              0.6666666666666666,
              "#ed7953"
             ],
             [
              0.7777777777777778,
              "#fb9f3a"
             ],
             [
              0.8888888888888888,
              "#fdca26"
             ],
             [
              1,
              "#f0f921"
             ]
            ],
            "type": "heatmapgl"
           }
          ],
          "histogram": [
           {
            "marker": {
             "colorbar": {
              "outlinewidth": 0,
              "ticks": ""
             }
            },
            "type": "histogram"
           }
          ],
          "histogram2d": [
           {
            "colorbar": {
             "outlinewidth": 0,
             "ticks": ""
            },
            "colorscale": [
             [
              0,
              "#0d0887"
             ],
             [
              0.1111111111111111,
              "#46039f"
             ],
             [
              0.2222222222222222,
              "#7201a8"
             ],
             [
              0.3333333333333333,
              "#9c179e"
             ],
             [
              0.4444444444444444,
              "#bd3786"
             ],
             [
              0.5555555555555556,
              "#d8576b"
             ],
             [
              0.6666666666666666,
              "#ed7953"
             ],
             [
              0.7777777777777778,
              "#fb9f3a"
             ],
             [
              0.8888888888888888,
              "#fdca26"
             ],
             [
              1,
              "#f0f921"
             ]
            ],
            "type": "histogram2d"
           }
          ],
          "histogram2dcontour": [
           {
            "colorbar": {
             "outlinewidth": 0,
             "ticks": ""
            },
            "colorscale": [
             [
              0,
              "#0d0887"
             ],
             [
              0.1111111111111111,
              "#46039f"
             ],
             [
              0.2222222222222222,
              "#7201a8"
             ],
             [
              0.3333333333333333,
              "#9c179e"
             ],
             [
              0.4444444444444444,
              "#bd3786"
             ],
             [
              0.5555555555555556,
              "#d8576b"
             ],
             [
              0.6666666666666666,
              "#ed7953"
             ],
             [
              0.7777777777777778,
              "#fb9f3a"
             ],
             [
              0.8888888888888888,
              "#fdca26"
             ],
             [
              1,
              "#f0f921"
             ]
            ],
            "type": "histogram2dcontour"
           }
          ],
          "mesh3d": [
           {
            "colorbar": {
             "outlinewidth": 0,
             "ticks": ""
            },
            "type": "mesh3d"
           }
          ],
          "parcoords": [
           {
            "line": {
             "colorbar": {
              "outlinewidth": 0,
              "ticks": ""
             }
            },
            "type": "parcoords"
           }
          ],
          "pie": [
           {
            "automargin": true,
            "type": "pie"
           }
          ],
          "scatter": [
           {
            "marker": {
             "colorbar": {
              "outlinewidth": 0,
              "ticks": ""
             }
            },
            "type": "scatter"
           }
          ],
          "scatter3d": [
           {
            "line": {
             "colorbar": {
              "outlinewidth": 0,
              "ticks": ""
             }
            },
            "marker": {
             "colorbar": {
              "outlinewidth": 0,
              "ticks": ""
             }
            },
            "type": "scatter3d"
           }
          ],
          "scattercarpet": [
           {
            "marker": {
             "colorbar": {
              "outlinewidth": 0,
              "ticks": ""
             }
            },
            "type": "scattercarpet"
           }
          ],
          "scattergeo": [
           {
            "marker": {
             "colorbar": {
              "outlinewidth": 0,
              "ticks": ""
             }
            },
            "type": "scattergeo"
           }
          ],
          "scattergl": [
           {
            "marker": {
             "colorbar": {
              "outlinewidth": 0,
              "ticks": ""
             }
            },
            "type": "scattergl"
           }
          ],
          "scattermapbox": [
           {
            "marker": {
             "colorbar": {
              "outlinewidth": 0,
              "ticks": ""
             }
            },
            "type": "scattermapbox"
           }
          ],
          "scatterpolar": [
           {
            "marker": {
             "colorbar": {
              "outlinewidth": 0,
              "ticks": ""
             }
            },
            "type": "scatterpolar"
           }
          ],
          "scatterpolargl": [
           {
            "marker": {
             "colorbar": {
              "outlinewidth": 0,
              "ticks": ""
             }
            },
            "type": "scatterpolargl"
           }
          ],
          "scatterternary": [
           {
            "marker": {
             "colorbar": {
              "outlinewidth": 0,
              "ticks": ""
             }
            },
            "type": "scatterternary"
           }
          ],
          "surface": [
           {
            "colorbar": {
             "outlinewidth": 0,
             "ticks": ""
            },
            "colorscale": [
             [
              0,
              "#0d0887"
             ],
             [
              0.1111111111111111,
              "#46039f"
             ],
             [
              0.2222222222222222,
              "#7201a8"
             ],
             [
              0.3333333333333333,
              "#9c179e"
             ],
             [
              0.4444444444444444,
              "#bd3786"
             ],
             [
              0.5555555555555556,
              "#d8576b"
             ],
             [
              0.6666666666666666,
              "#ed7953"
             ],
             [
              0.7777777777777778,
              "#fb9f3a"
             ],
             [
              0.8888888888888888,
              "#fdca26"
             ],
             [
              1,
              "#f0f921"
             ]
            ],
            "type": "surface"
           }
          ],
          "table": [
           {
            "cells": {
             "fill": {
              "color": "#EBF0F8"
             },
             "line": {
              "color": "white"
             }
            },
            "header": {
             "fill": {
              "color": "#C8D4E3"
             },
             "line": {
              "color": "white"
             }
            },
            "type": "table"
           }
          ]
         },
         "layout": {
          "annotationdefaults": {
           "arrowcolor": "#2a3f5f",
           "arrowhead": 0,
           "arrowwidth": 1
          },
          "coloraxis": {
           "colorbar": {
            "outlinewidth": 0,
            "ticks": ""
           }
          },
          "colorscale": {
           "diverging": [
            [
             0,
             "#8e0152"
            ],
            [
             0.1,
             "#c51b7d"
            ],
            [
             0.2,
             "#de77ae"
            ],
            [
             0.3,
             "#f1b6da"
            ],
            [
             0.4,
             "#fde0ef"
            ],
            [
             0.5,
             "#f7f7f7"
            ],
            [
             0.6,
             "#e6f5d0"
            ],
            [
             0.7,
             "#b8e186"
            ],
            [
             0.8,
             "#7fbc41"
            ],
            [
             0.9,
             "#4d9221"
            ],
            [
             1,
             "#276419"
            ]
           ],
           "sequential": [
            [
             0,
             "#0d0887"
            ],
            [
             0.1111111111111111,
             "#46039f"
            ],
            [
             0.2222222222222222,
             "#7201a8"
            ],
            [
             0.3333333333333333,
             "#9c179e"
            ],
            [
             0.4444444444444444,
             "#bd3786"
            ],
            [
             0.5555555555555556,
             "#d8576b"
            ],
            [
             0.6666666666666666,
             "#ed7953"
            ],
            [
             0.7777777777777778,
             "#fb9f3a"
            ],
            [
             0.8888888888888888,
             "#fdca26"
            ],
            [
             1,
             "#f0f921"
            ]
           ],
           "sequentialminus": [
            [
             0,
             "#0d0887"
            ],
            [
             0.1111111111111111,
             "#46039f"
            ],
            [
             0.2222222222222222,
             "#7201a8"
            ],
            [
             0.3333333333333333,
             "#9c179e"
            ],
            [
             0.4444444444444444,
             "#bd3786"
            ],
            [
             0.5555555555555556,
             "#d8576b"
            ],
            [
             0.6666666666666666,
             "#ed7953"
            ],
            [
             0.7777777777777778,
             "#fb9f3a"
            ],
            [
             0.8888888888888888,
             "#fdca26"
            ],
            [
             1,
             "#f0f921"
            ]
           ]
          },
          "colorway": [
           "#636efa",
           "#EF553B",
           "#00cc96",
           "#ab63fa",
           "#FFA15A",
           "#19d3f3",
           "#FF6692",
           "#B6E880",
           "#FF97FF",
           "#FECB52"
          ],
          "font": {
           "color": "#2a3f5f"
          },
          "geo": {
           "bgcolor": "white",
           "lakecolor": "white",
           "landcolor": "#E5ECF6",
           "showlakes": true,
           "showland": true,
           "subunitcolor": "white"
          },
          "hoverlabel": {
           "align": "left"
          },
          "hovermode": "closest",
          "mapbox": {
           "style": "light"
          },
          "paper_bgcolor": "white",
          "plot_bgcolor": "#E5ECF6",
          "polar": {
           "angularaxis": {
            "gridcolor": "white",
            "linecolor": "white",
            "ticks": ""
           },
           "bgcolor": "#E5ECF6",
           "radialaxis": {
            "gridcolor": "white",
            "linecolor": "white",
            "ticks": ""
           }
          },
          "scene": {
           "xaxis": {
            "backgroundcolor": "#E5ECF6",
            "gridcolor": "white",
            "gridwidth": 2,
            "linecolor": "white",
            "showbackground": true,
            "ticks": "",
            "zerolinecolor": "white"
           },
           "yaxis": {
            "backgroundcolor": "#E5ECF6",
            "gridcolor": "white",
            "gridwidth": 2,
            "linecolor": "white",
            "showbackground": true,
            "ticks": "",
            "zerolinecolor": "white"
           },
           "zaxis": {
            "backgroundcolor": "#E5ECF6",
            "gridcolor": "white",
            "gridwidth": 2,
            "linecolor": "white",
            "showbackground": true,
            "ticks": "",
            "zerolinecolor": "white"
           }
          },
          "shapedefaults": {
           "line": {
            "color": "#2a3f5f"
           }
          },
          "ternary": {
           "aaxis": {
            "gridcolor": "white",
            "linecolor": "white",
            "ticks": ""
           },
           "baxis": {
            "gridcolor": "white",
            "linecolor": "white",
            "ticks": ""
           },
           "bgcolor": "#E5ECF6",
           "caxis": {
            "gridcolor": "white",
            "linecolor": "white",
            "ticks": ""
           }
          },
          "title": {
           "x": 0.05
          },
          "xaxis": {
           "automargin": true,
           "gridcolor": "white",
           "linecolor": "white",
           "ticks": "",
           "title": {
            "standoff": 15
           },
           "zerolinecolor": "white",
           "zerolinewidth": 2
          },
          "yaxis": {
           "automargin": true,
           "gridcolor": "white",
           "linecolor": "white",
           "ticks": "",
           "title": {
            "standoff": 15
           },
           "zerolinecolor": "white",
           "zerolinewidth": 2
          }
         }
        },
        "title": {
         "text": "DWF Schedule"
        },
        "xaxis": {
         "rangeselector": {
          "buttons": [
           {
            "count": 7,
            "label": "1w",
            "step": "day",
            "stepmode": "backward"
           },
           {
            "count": 1,
            "label": "1m",
            "step": "month",
            "stepmode": "backward"
           },
           {
            "count": 6,
            "label": "6m",
            "step": "month",
            "stepmode": "backward"
           },
           {
            "count": 1,
            "label": "YTD",
            "step": "year",
            "stepmode": "todate"
           },
           {
            "count": 1,
            "label": "1y",
            "step": "year",
            "stepmode": "backward"
           },
           {
            "step": "all"
           }
          ]
         },
         "showgrid": true,
         "type": "date",
         "zeroline": false
        },
        "yaxis": {
         "autorange": false,
         "range": [
          -1,
          6
         ],
         "showgrid": true,
         "ticktext": [
          "Parkes-CDFS",
          "Parkes-NGC",
          "ASTROSAT-NGC",
          "DECam-CDFS",
          "DECam-NGC"
         ],
         "tickvals": [
          0,
          1,
          2,
          3,
          4
         ],
         "zeroline": false
        }
       }
      },
      "text/html": [
       "<div>\n",
       "        \n",
       "        \n",
       "            <div id=\"59a55285-434c-49bb-9ccc-5fcea32e22c9\" class=\"plotly-graph-div\" style=\"height:360px; width:100%;\"></div>\n",
       "            <script type=\"text/javascript\">\n",
       "                require([\"plotly\"], function(Plotly) {\n",
       "                    window.PLOTLYENV=window.PLOTLYENV || {};\n",
       "                    \n",
       "                if (document.getElementById(\"59a55285-434c-49bb-9ccc-5fcea32e22c9\")) {\n",
       "                    Plotly.newPlot(\n",
       "                        '59a55285-434c-49bb-9ccc-5fcea32e22c9',\n",
       "                        [{\"fill\": \"toself\", \"fillcolor\": \"rgb(127, 0, 255)\", \"hoverinfo\": \"name\", \"legendgroup\": \"rgb(127, 0, 255)\", \"mode\": \"none\", \"name\": \"NGC\", \"opacity\": 0.5, \"type\": \"scatter\", \"x\": [\"2020-09-13 04:30:00\", \"2020-09-13 06:00:00\", \"2020-09-13 06:00:00\", \"2020-09-13 04:30:00\", \"2020-09-13 04:30:00\", \"2020-09-14 04:30:00\", \"2020-09-14 06:00:00\", \"2020-09-14 06:00:00\", \"2020-09-14 04:30:00\", \"2020-09-14 04:30:00\", \"2020-09-15 04:30:00\", \"2020-09-15 06:00:00\", \"2020-09-15 06:00:00\", \"2020-09-15 04:30:00\", \"2020-09-15 04:30:00\", \"2020-09-17 04:30:00\", \"2020-09-17 06:00:00\", \"2020-09-17 06:00:00\", \"2020-09-17 04:30:00\", \"2020-09-17 04:30:00\", \"2020-09-18 04:30:00\", \"2020-09-18 06:00:00\", \"2020-09-18 06:00:00\", \"2020-09-18 04:30:00\", \"2020-09-18 04:30:00\", \"2020-09-19 04:30:00\", \"2020-09-19 06:00:00\", \"2020-09-19 06:00:00\", \"2020-09-19 04:30:00\", \"2020-09-19 04:30:00\", \"2020-09-14 06:00:00\", \"2020-09-14 08:00:00\", \"2020-09-14 08:00:00\", \"2020-09-14 06:00:00\", \"2020-09-14 06:00:00\", \"2020-09-15 06:00:00\", \"2020-09-15 08:00:00\", \"2020-09-15 08:00:00\", \"2020-09-15 06:00:00\", \"2020-09-15 06:00:00\", \"2020-09-18 06:00:00\", \"2020-09-18 08:00:00\", \"2020-09-18 08:00:00\", \"2020-09-18 06:00:00\", \"2020-09-18 06:00:00\", \"2020-09-13 04:00:00\", \"2020-09-13 10:00:00\", \"2020-09-13 10:00:00\", \"2020-09-13 04:00:00\", \"2020-09-13 04:00:00\", \"2020-09-14 04:00:00\", \"2020-09-14 10:00:00\", \"2020-09-14 10:00:00\", \"2020-09-14 04:00:00\", \"2020-09-14 04:00:00\", \"2020-09-15 04:00:00\", \"2020-09-15 10:00:00\", \"2020-09-15 10:00:00\", \"2020-09-15 04:00:00\"], \"y\": [3.6, 3.6, 4.4, 4.4, null, 3.6, 3.6, 4.4, 4.4, null, 3.6, 3.6, 4.4, 4.4, null, 3.6, 3.6, 4.4, 4.4, null, 3.6, 3.6, 4.4, 4.4, null, 3.6, 3.6, 4.4, 4.4, null, 1.6, 1.6, 2.4, 2.4, null, 1.6, 1.6, 2.4, 2.4, null, 1.6, 1.6, 2.4, 2.4, null, 0.6, 0.6, 1.4, 1.4, null, 0.6, 0.6, 1.4, 1.4, null, 0.6, 0.6, 1.4, 1.4]}, {\"fill\": \"toself\", \"fillcolor\": \"rgb(255, 0, 0)\", \"hoverinfo\": \"name\", \"legendgroup\": \"rgb(255, 0, 0)\", \"mode\": \"none\", \"name\": \"CDFS\", \"opacity\": 0.5, \"type\": \"scatter\", \"x\": [\"2020-09-13 05:30:00\", \"2020-09-13 10:00:00\", \"2020-09-13 10:00:00\", \"2020-09-13 05:30:00\", \"2020-09-13 05:30:00\", \"2020-09-14 05:30:00\", \"2020-09-14 10:00:00\", \"2020-09-14 10:00:00\", \"2020-09-14 05:30:00\", \"2020-09-14 05:30:00\", \"2020-09-15 05:30:00\", \"2020-09-15 10:00:00\", \"2020-09-15 10:00:00\", \"2020-09-15 05:30:00\", \"2020-09-15 05:30:00\", \"2020-09-17 05:30:00\", \"2020-09-17 10:00:00\", \"2020-09-17 10:00:00\", \"2020-09-17 05:30:00\", \"2020-09-17 05:30:00\", \"2020-09-18 05:30:00\", \"2020-09-18 10:00:00\", \"2020-09-18 10:00:00\", \"2020-09-18 05:30:00\", \"2020-09-18 05:30:00\", \"2020-09-19 05:30:00\", \"2020-09-19 10:00:00\", \"2020-09-19 10:00:00\", \"2020-09-19 05:30:00\", \"2020-09-19 05:30:00\", \"2020-09-13 08:00:00\", \"2020-09-13 12:00:00\", \"2020-09-13 12:00:00\", \"2020-09-13 08:00:00\", \"2020-09-13 08:00:00\", \"2020-09-14 08:00:00\", \"2020-09-14 12:00:00\", \"2020-09-14 12:00:00\", \"2020-09-14 08:00:00\", \"2020-09-14 08:00:00\", \"2020-09-15 08:00:00\", \"2020-09-15 12:00:00\", \"2020-09-15 12:00:00\", \"2020-09-15 08:00:00\"], \"y\": [2.6, 2.6, 3.4, 3.4, null, 2.6, 2.6, 3.4, 3.4, null, 2.6, 2.6, 3.4, 3.4, null, 2.6, 2.6, 3.4, 3.4, null, 2.6, 2.6, 3.4, 3.4, null, 2.6, 2.6, 3.4, 3.4, null, -0.4, -0.4, 0.4, 0.4, null, -0.4, -0.4, 0.4, 0.4, null, -0.4, -0.4, 0.4, 0.4]}, {\"legendgroup\": \"rgb(127, 0, 255)\", \"marker\": {\"color\": \"rgb(127, 0, 255)\", \"opacity\": 0, \"size\": 1}, \"mode\": \"markers\", \"name\": \"\", \"opacity\": 0.5, \"showlegend\": false, \"text\": [null, null, null, null, null, null, null, null, null, null, null, null, null, null, null, null, null, null, null, null, null, null, null, null], \"type\": \"scatter\", \"x\": [\"2020-09-13 04:30:00\", \"2020-09-13 06:00:00\", \"2020-09-14 04:30:00\", \"2020-09-14 06:00:00\", \"2020-09-15 04:30:00\", \"2020-09-15 06:00:00\", \"2020-09-17 04:30:00\", \"2020-09-17 06:00:00\", \"2020-09-18 04:30:00\", \"2020-09-18 06:00:00\", \"2020-09-19 04:30:00\", \"2020-09-19 06:00:00\", \"2020-09-14 06:00:00\", \"2020-09-14 08:00:00\", \"2020-09-15 06:00:00\", \"2020-09-15 08:00:00\", \"2020-09-18 06:00:00\", \"2020-09-18 08:00:00\", \"2020-09-13 04:00:00\", \"2020-09-13 10:00:00\", \"2020-09-14 04:00:00\", \"2020-09-14 10:00:00\", \"2020-09-15 04:00:00\", \"2020-09-15 10:00:00\"], \"y\": [4, 4, 4, 4, 4, 4, 4, 4, 4, 4, 4, 4, 2, 2, 2, 2, 2, 2, 1, 1, 1, 1, 1, 1]}, {\"legendgroup\": \"rgb(255, 0, 0)\", \"marker\": {\"color\": \"rgb(255, 0, 0)\", \"opacity\": 0, \"size\": 1}, \"mode\": \"markers\", \"name\": \"\", \"opacity\": 0.5, \"showlegend\": false, \"text\": [null, null, null, null, null, null, null, null, null, null, null, null, null, null, null, null, null, null], \"type\": \"scatter\", \"x\": [\"2020-09-13 05:30:00\", \"2020-09-13 10:00:00\", \"2020-09-14 05:30:00\", \"2020-09-14 10:00:00\", \"2020-09-15 05:30:00\", \"2020-09-15 10:00:00\", \"2020-09-17 05:30:00\", \"2020-09-17 10:00:00\", \"2020-09-18 05:30:00\", \"2020-09-18 10:00:00\", \"2020-09-19 05:30:00\", \"2020-09-19 10:00:00\", \"2020-09-13 08:00:00\", \"2020-09-13 12:00:00\", \"2020-09-14 08:00:00\", \"2020-09-14 12:00:00\", \"2020-09-15 08:00:00\", \"2020-09-15 12:00:00\"], \"y\": [3, 3, 3, 3, 3, 3, 3, 3, 3, 3, 3, 3, 0, 0, 0, 0, 0, 0]}],\n",
       "                        {\"annotations\": [{\"font\": {\"color\": \"rgb( 128,255,0)\"}, \"showarrow\": false, \"text\": \"\", \"x\": \"2020-09-13 05:15:00\", \"y\": 4}, {\"font\": {\"color\": \"rgb( 128,255,0)\"}, \"showarrow\": false, \"text\": \"\", \"x\": \"2020-09-14 05:15:00\", \"y\": 4}, {\"font\": {\"color\": \"rgb( 128,255,0)\"}, \"showarrow\": false, \"text\": \"\", \"x\": \"2020-09-15 05:15:00\", \"y\": 4}, {\"font\": {\"color\": \"rgb( 128,255,0)\"}, \"showarrow\": false, \"text\": \"\", \"x\": \"2020-09-17 05:15:00\", \"y\": 4}, {\"font\": {\"color\": \"rgb( 128,255,0)\"}, \"showarrow\": false, \"text\": \"\", \"x\": \"2020-09-18 05:15:00\", \"y\": 4}, {\"font\": {\"color\": \"rgb( 128,255,0)\"}, \"showarrow\": false, \"text\": \"\", \"x\": \"2020-09-19 05:15:00\", \"y\": 4}, {\"font\": {\"color\": \"rgb( 0,255,255)\"}, \"showarrow\": false, \"text\": \"\", \"x\": \"2020-09-13 07:45:00\", \"y\": 3}, {\"font\": {\"color\": \"rgb( 0,255,255)\"}, \"showarrow\": false, \"text\": \"\", \"x\": \"2020-09-14 07:45:00\", \"y\": 3}, {\"font\": {\"color\": \"rgb( 0,255,255)\"}, \"showarrow\": false, \"text\": \"\", \"x\": \"2020-09-15 07:45:00\", \"y\": 3}, {\"font\": {\"color\": \"rgb( 0,255,255)\"}, \"showarrow\": false, \"text\": \"\", \"x\": \"2020-09-17 07:45:00\", \"y\": 3}, {\"font\": {\"color\": \"rgb( 0,255,255)\"}, \"showarrow\": false, \"text\": \"\", \"x\": \"2020-09-18 07:45:00\", \"y\": 3}, {\"font\": {\"color\": \"rgb( 0,255,255)\"}, \"showarrow\": false, \"text\": \"\", \"x\": \"2020-09-19 07:45:00\", \"y\": 3}, {\"font\": {\"color\": \"rgb( 128,255,0)\"}, \"showarrow\": false, \"text\": \"\", \"x\": \"2020-09-14 07:00:00\", \"y\": 2}, {\"font\": {\"color\": \"rgb( 128,255,0)\"}, \"showarrow\": false, \"text\": \"\", \"x\": \"2020-09-15 07:00:00\", \"y\": 2}, {\"font\": {\"color\": \"rgb( 128,255,0)\"}, \"showarrow\": false, \"text\": \"\", \"x\": \"2020-09-18 07:00:00\", \"y\": 2}, {\"font\": {\"color\": \"rgb( 128,255,0)\"}, \"showarrow\": false, \"text\": \"\", \"x\": \"2020-09-13 07:00:00\", \"y\": 1}, {\"font\": {\"color\": \"rgb( 128,255,0)\"}, \"showarrow\": false, \"text\": \"\", \"x\": \"2020-09-14 07:00:00\", \"y\": 1}, {\"font\": {\"color\": \"rgb( 128,255,0)\"}, \"showarrow\": false, \"text\": \"\", \"x\": \"2020-09-15 07:00:00\", \"y\": 1}, {\"font\": {\"color\": \"rgb( 0,255,255)\"}, \"showarrow\": false, \"text\": \"\", \"x\": \"2020-09-13 10:00:00\", \"y\": 0}, {\"font\": {\"color\": \"rgb( 0,255,255)\"}, \"showarrow\": false, \"text\": \"\", \"x\": \"2020-09-14 10:00:00\", \"y\": 0}, {\"font\": {\"color\": \"rgb( 0,255,255)\"}, \"showarrow\": false, \"text\": \"\", \"x\": \"2020-09-15 10:00:00\", \"y\": 0}], \"height\": 360, \"hovermode\": \"closest\", \"showlegend\": true, \"template\": {\"data\": {\"bar\": [{\"error_x\": {\"color\": \"#2a3f5f\"}, \"error_y\": {\"color\": \"#2a3f5f\"}, \"marker\": {\"line\": {\"color\": \"#E5ECF6\", \"width\": 0.5}}, \"type\": \"bar\"}], \"barpolar\": [{\"marker\": {\"line\": {\"color\": \"#E5ECF6\", \"width\": 0.5}}, \"type\": \"barpolar\"}], \"carpet\": [{\"aaxis\": {\"endlinecolor\": \"#2a3f5f\", \"gridcolor\": \"white\", \"linecolor\": \"white\", \"minorgridcolor\": \"white\", \"startlinecolor\": \"#2a3f5f\"}, \"baxis\": {\"endlinecolor\": \"#2a3f5f\", \"gridcolor\": \"white\", \"linecolor\": \"white\", \"minorgridcolor\": \"white\", \"startlinecolor\": \"#2a3f5f\"}, \"type\": \"carpet\"}], \"choropleth\": [{\"colorbar\": {\"outlinewidth\": 0, \"ticks\": \"\"}, \"type\": \"choropleth\"}], \"contour\": [{\"colorbar\": {\"outlinewidth\": 0, \"ticks\": \"\"}, \"colorscale\": [[0.0, \"#0d0887\"], [0.1111111111111111, \"#46039f\"], [0.2222222222222222, \"#7201a8\"], [0.3333333333333333, \"#9c179e\"], [0.4444444444444444, \"#bd3786\"], [0.5555555555555556, \"#d8576b\"], [0.6666666666666666, \"#ed7953\"], [0.7777777777777778, \"#fb9f3a\"], [0.8888888888888888, \"#fdca26\"], [1.0, \"#f0f921\"]], \"type\": \"contour\"}], \"contourcarpet\": [{\"colorbar\": {\"outlinewidth\": 0, \"ticks\": \"\"}, \"type\": \"contourcarpet\"}], \"heatmap\": [{\"colorbar\": {\"outlinewidth\": 0, \"ticks\": \"\"}, \"colorscale\": [[0.0, \"#0d0887\"], [0.1111111111111111, \"#46039f\"], [0.2222222222222222, \"#7201a8\"], [0.3333333333333333, \"#9c179e\"], [0.4444444444444444, \"#bd3786\"], [0.5555555555555556, \"#d8576b\"], [0.6666666666666666, \"#ed7953\"], [0.7777777777777778, \"#fb9f3a\"], [0.8888888888888888, \"#fdca26\"], [1.0, \"#f0f921\"]], \"type\": \"heatmap\"}], \"heatmapgl\": [{\"colorbar\": {\"outlinewidth\": 0, \"ticks\": \"\"}, \"colorscale\": [[0.0, \"#0d0887\"], [0.1111111111111111, \"#46039f\"], [0.2222222222222222, \"#7201a8\"], [0.3333333333333333, \"#9c179e\"], [0.4444444444444444, \"#bd3786\"], [0.5555555555555556, \"#d8576b\"], [0.6666666666666666, \"#ed7953\"], [0.7777777777777778, \"#fb9f3a\"], [0.8888888888888888, \"#fdca26\"], [1.0, \"#f0f921\"]], \"type\": \"heatmapgl\"}], \"histogram\": [{\"marker\": {\"colorbar\": {\"outlinewidth\": 0, \"ticks\": \"\"}}, \"type\": \"histogram\"}], \"histogram2d\": [{\"colorbar\": {\"outlinewidth\": 0, \"ticks\": \"\"}, \"colorscale\": [[0.0, \"#0d0887\"], [0.1111111111111111, \"#46039f\"], [0.2222222222222222, \"#7201a8\"], [0.3333333333333333, \"#9c179e\"], [0.4444444444444444, \"#bd3786\"], [0.5555555555555556, \"#d8576b\"], [0.6666666666666666, \"#ed7953\"], [0.7777777777777778, \"#fb9f3a\"], [0.8888888888888888, \"#fdca26\"], [1.0, \"#f0f921\"]], \"type\": \"histogram2d\"}], \"histogram2dcontour\": [{\"colorbar\": {\"outlinewidth\": 0, \"ticks\": \"\"}, \"colorscale\": [[0.0, \"#0d0887\"], [0.1111111111111111, \"#46039f\"], [0.2222222222222222, \"#7201a8\"], [0.3333333333333333, \"#9c179e\"], [0.4444444444444444, \"#bd3786\"], [0.5555555555555556, \"#d8576b\"], [0.6666666666666666, \"#ed7953\"], [0.7777777777777778, \"#fb9f3a\"], [0.8888888888888888, \"#fdca26\"], [1.0, \"#f0f921\"]], \"type\": \"histogram2dcontour\"}], \"mesh3d\": [{\"colorbar\": {\"outlinewidth\": 0, \"ticks\": \"\"}, \"type\": \"mesh3d\"}], \"parcoords\": [{\"line\": {\"colorbar\": {\"outlinewidth\": 0, \"ticks\": \"\"}}, \"type\": \"parcoords\"}], \"pie\": [{\"automargin\": true, \"type\": \"pie\"}], \"scatter\": [{\"marker\": {\"colorbar\": {\"outlinewidth\": 0, \"ticks\": \"\"}}, \"type\": \"scatter\"}], \"scatter3d\": [{\"line\": {\"colorbar\": {\"outlinewidth\": 0, \"ticks\": \"\"}}, \"marker\": {\"colorbar\": {\"outlinewidth\": 0, \"ticks\": \"\"}}, \"type\": \"scatter3d\"}], \"scattercarpet\": [{\"marker\": {\"colorbar\": {\"outlinewidth\": 0, \"ticks\": \"\"}}, \"type\": \"scattercarpet\"}], \"scattergeo\": [{\"marker\": {\"colorbar\": {\"outlinewidth\": 0, \"ticks\": \"\"}}, \"type\": \"scattergeo\"}], \"scattergl\": [{\"marker\": {\"colorbar\": {\"outlinewidth\": 0, \"ticks\": \"\"}}, \"type\": \"scattergl\"}], \"scattermapbox\": [{\"marker\": {\"colorbar\": {\"outlinewidth\": 0, \"ticks\": \"\"}}, \"type\": \"scattermapbox\"}], \"scatterpolar\": [{\"marker\": {\"colorbar\": {\"outlinewidth\": 0, \"ticks\": \"\"}}, \"type\": \"scatterpolar\"}], \"scatterpolargl\": [{\"marker\": {\"colorbar\": {\"outlinewidth\": 0, \"ticks\": \"\"}}, \"type\": \"scatterpolargl\"}], \"scatterternary\": [{\"marker\": {\"colorbar\": {\"outlinewidth\": 0, \"ticks\": \"\"}}, \"type\": \"scatterternary\"}], \"surface\": [{\"colorbar\": {\"outlinewidth\": 0, \"ticks\": \"\"}, \"colorscale\": [[0.0, \"#0d0887\"], [0.1111111111111111, \"#46039f\"], [0.2222222222222222, \"#7201a8\"], [0.3333333333333333, \"#9c179e\"], [0.4444444444444444, \"#bd3786\"], [0.5555555555555556, \"#d8576b\"], [0.6666666666666666, \"#ed7953\"], [0.7777777777777778, \"#fb9f3a\"], [0.8888888888888888, \"#fdca26\"], [1.0, \"#f0f921\"]], \"type\": \"surface\"}], \"table\": [{\"cells\": {\"fill\": {\"color\": \"#EBF0F8\"}, \"line\": {\"color\": \"white\"}}, \"header\": {\"fill\": {\"color\": \"#C8D4E3\"}, \"line\": {\"color\": \"white\"}}, \"type\": \"table\"}]}, \"layout\": {\"annotationdefaults\": {\"arrowcolor\": \"#2a3f5f\", \"arrowhead\": 0, \"arrowwidth\": 1}, \"coloraxis\": {\"colorbar\": {\"outlinewidth\": 0, \"ticks\": \"\"}}, \"colorscale\": {\"diverging\": [[0, \"#8e0152\"], [0.1, \"#c51b7d\"], [0.2, \"#de77ae\"], [0.3, \"#f1b6da\"], [0.4, \"#fde0ef\"], [0.5, \"#f7f7f7\"], [0.6, \"#e6f5d0\"], [0.7, \"#b8e186\"], [0.8, \"#7fbc41\"], [0.9, \"#4d9221\"], [1, \"#276419\"]], \"sequential\": [[0.0, \"#0d0887\"], [0.1111111111111111, \"#46039f\"], [0.2222222222222222, \"#7201a8\"], [0.3333333333333333, \"#9c179e\"], [0.4444444444444444, \"#bd3786\"], [0.5555555555555556, \"#d8576b\"], [0.6666666666666666, \"#ed7953\"], [0.7777777777777778, \"#fb9f3a\"], [0.8888888888888888, \"#fdca26\"], [1.0, \"#f0f921\"]], \"sequentialminus\": [[0.0, \"#0d0887\"], [0.1111111111111111, \"#46039f\"], [0.2222222222222222, \"#7201a8\"], [0.3333333333333333, \"#9c179e\"], [0.4444444444444444, \"#bd3786\"], [0.5555555555555556, \"#d8576b\"], [0.6666666666666666, \"#ed7953\"], [0.7777777777777778, \"#fb9f3a\"], [0.8888888888888888, \"#fdca26\"], [1.0, \"#f0f921\"]]}, \"colorway\": [\"#636efa\", \"#EF553B\", \"#00cc96\", \"#ab63fa\", \"#FFA15A\", \"#19d3f3\", \"#FF6692\", \"#B6E880\", \"#FF97FF\", \"#FECB52\"], \"font\": {\"color\": \"#2a3f5f\"}, \"geo\": {\"bgcolor\": \"white\", \"lakecolor\": \"white\", \"landcolor\": \"#E5ECF6\", \"showlakes\": true, \"showland\": true, \"subunitcolor\": \"white\"}, \"hoverlabel\": {\"align\": \"left\"}, \"hovermode\": \"closest\", \"mapbox\": {\"style\": \"light\"}, \"paper_bgcolor\": \"white\", \"plot_bgcolor\": \"#E5ECF6\", \"polar\": {\"angularaxis\": {\"gridcolor\": \"white\", \"linecolor\": \"white\", \"ticks\": \"\"}, \"bgcolor\": \"#E5ECF6\", \"radialaxis\": {\"gridcolor\": \"white\", \"linecolor\": \"white\", \"ticks\": \"\"}}, \"scene\": {\"xaxis\": {\"backgroundcolor\": \"#E5ECF6\", \"gridcolor\": \"white\", \"gridwidth\": 2, \"linecolor\": \"white\", \"showbackground\": true, \"ticks\": \"\", \"zerolinecolor\": \"white\"}, \"yaxis\": {\"backgroundcolor\": \"#E5ECF6\", \"gridcolor\": \"white\", \"gridwidth\": 2, \"linecolor\": \"white\", \"showbackground\": true, \"ticks\": \"\", \"zerolinecolor\": \"white\"}, \"zaxis\": {\"backgroundcolor\": \"#E5ECF6\", \"gridcolor\": \"white\", \"gridwidth\": 2, \"linecolor\": \"white\", \"showbackground\": true, \"ticks\": \"\", \"zerolinecolor\": \"white\"}}, \"shapedefaults\": {\"line\": {\"color\": \"#2a3f5f\"}}, \"ternary\": {\"aaxis\": {\"gridcolor\": \"white\", \"linecolor\": \"white\", \"ticks\": \"\"}, \"baxis\": {\"gridcolor\": \"white\", \"linecolor\": \"white\", \"ticks\": \"\"}, \"bgcolor\": \"#E5ECF6\", \"caxis\": {\"gridcolor\": \"white\", \"linecolor\": \"white\", \"ticks\": \"\"}}, \"title\": {\"x\": 0.05}, \"xaxis\": {\"automargin\": true, \"gridcolor\": \"white\", \"linecolor\": \"white\", \"ticks\": \"\", \"title\": {\"standoff\": 15}, \"zerolinecolor\": \"white\", \"zerolinewidth\": 2}, \"yaxis\": {\"automargin\": true, \"gridcolor\": \"white\", \"linecolor\": \"white\", \"ticks\": \"\", \"title\": {\"standoff\": 15}, \"zerolinecolor\": \"white\", \"zerolinewidth\": 2}}}, \"title\": {\"text\": \"DWF Schedule\"}, \"xaxis\": {\"rangeselector\": {\"buttons\": [{\"count\": 7, \"label\": \"1w\", \"step\": \"day\", \"stepmode\": \"backward\"}, {\"count\": 1, \"label\": \"1m\", \"step\": \"month\", \"stepmode\": \"backward\"}, {\"count\": 6, \"label\": \"6m\", \"step\": \"month\", \"stepmode\": \"backward\"}, {\"count\": 1, \"label\": \"YTD\", \"step\": \"year\", \"stepmode\": \"todate\"}, {\"count\": 1, \"label\": \"1y\", \"step\": \"year\", \"stepmode\": \"backward\"}, {\"step\": \"all\"}]}, \"showgrid\": true, \"type\": \"date\", \"zeroline\": false}, \"yaxis\": {\"autorange\": false, \"range\": [-1, 6], \"showgrid\": true, \"ticktext\": [\"Parkes-CDFS\", \"Parkes-NGC\", \"ASTROSAT-NGC\", \"DECam-CDFS\", \"DECam-NGC\"], \"tickvals\": [0, 1, 2, 3, 4], \"zeroline\": false}},\n",
       "                        {\"responsive\": true}\n",
       "                    ).then(function(){\n",
       "                            \n",
       "var gd = document.getElementById('59a55285-434c-49bb-9ccc-5fcea32e22c9');\n",
       "var x = new MutationObserver(function (mutations, observer) {{\n",
       "        var display = window.getComputedStyle(gd).display;\n",
       "        if (!display || display === 'none') {{\n",
       "            console.log([gd, 'removed!']);\n",
       "            Plotly.purge(gd);\n",
       "            observer.disconnect();\n",
       "        }}\n",
       "}});\n",
       "\n",
       "// Listen for the removal of the full notebook cells\n",
       "var notebookContainer = gd.closest('#notebook-container');\n",
       "if (notebookContainer) {{\n",
       "    x.observe(notebookContainer, {childList: true});\n",
       "}}\n",
       "\n",
       "// Listen for the clearing of the current output cell\n",
       "var outputEl = gd.closest('.output');\n",
       "if (outputEl) {{\n",
       "    x.observe(outputEl, {childList: true});\n",
       "}}\n",
       "\n",
       "                        })\n",
       "                };\n",
       "                });\n",
       "            </script>\n",
       "        </div>"
      ]
     },
     "metadata": {},
     "output_type": "display_data"
    },
    {
     "data": {
      "application/vnd.plotly.v1+json": {
       "config": {
        "plotlyServerURL": "https://plot.ly"
       },
       "data": [
        {
         "fill": "toself",
         "fillcolor": "rgb(127, 0, 255)",
         "hoverinfo": "name",
         "legendgroup": "rgb(127, 0, 255)",
         "mode": "none",
         "name": "NGC",
         "opacity": 0.5,
         "type": "scatter",
         "x": [
          "2020-09-13 04:30:00",
          "2020-09-13 06:00:00",
          "2020-09-13 06:00:00",
          "2020-09-13 04:30:00",
          "2020-09-13 04:30:00",
          "2020-09-14 04:30:00",
          "2020-09-14 06:00:00",
          "2020-09-14 06:00:00",
          "2020-09-14 04:30:00",
          "2020-09-14 04:30:00",
          "2020-09-15 04:30:00",
          "2020-09-15 06:00:00",
          "2020-09-15 06:00:00",
          "2020-09-15 04:30:00",
          "2020-09-15 04:30:00",
          "2020-09-17 04:30:00",
          "2020-09-17 06:00:00",
          "2020-09-17 06:00:00",
          "2020-09-17 04:30:00",
          "2020-09-17 04:30:00",
          "2020-09-18 04:30:00",
          "2020-09-18 06:00:00",
          "2020-09-18 06:00:00",
          "2020-09-18 04:30:00",
          "2020-09-18 04:30:00",
          "2020-09-19 04:30:00",
          "2020-09-19 06:00:00",
          "2020-09-19 06:00:00",
          "2020-09-19 04:30:00",
          "2020-09-19 04:30:00",
          "2020-09-13 04:00:00",
          "2020-09-13 10:00:00",
          "2020-09-13 10:00:00",
          "2020-09-13 04:00:00",
          "2020-09-13 04:00:00",
          "2020-09-14 04:00:00",
          "2020-09-14 10:00:00",
          "2020-09-14 10:00:00",
          "2020-09-14 04:00:00",
          "2020-09-14 04:00:00",
          "2020-09-15 04:00:00",
          "2020-09-15 10:00:00",
          "2020-09-15 10:00:00",
          "2020-09-15 04:00:00",
          "2020-09-15 04:00:00",
          "2020-09-14 06:00:00",
          "2020-09-14 08:00:00",
          "2020-09-14 08:00:00",
          "2020-09-14 06:00:00",
          "2020-09-14 06:00:00",
          "2020-09-15 06:00:00",
          "2020-09-15 08:00:00",
          "2020-09-15 08:00:00",
          "2020-09-15 06:00:00",
          "2020-09-15 06:00:00",
          "2020-09-18 06:00:00",
          "2020-09-18 08:00:00",
          "2020-09-18 08:00:00",
          "2020-09-18 06:00:00"
         ],
         "y": [
          3.6,
          3.6,
          4.4,
          4.4,
          null,
          3.6,
          3.6,
          4.4,
          4.4,
          null,
          3.6,
          3.6,
          4.4,
          4.4,
          null,
          3.6,
          3.6,
          4.4,
          4.4,
          null,
          3.6,
          3.6,
          4.4,
          4.4,
          null,
          3.6,
          3.6,
          4.4,
          4.4,
          null,
          2.6,
          2.6,
          3.4,
          3.4,
          null,
          2.6,
          2.6,
          3.4,
          3.4,
          null,
          2.6,
          2.6,
          3.4,
          3.4,
          null,
          1.6,
          1.6,
          2.4,
          2.4,
          null,
          1.6,
          1.6,
          2.4,
          2.4,
          null,
          1.6,
          1.6,
          2.4,
          2.4
         ]
        },
        {
         "fill": "toself",
         "fillcolor": "rgb(255, 0, 0)",
         "hoverinfo": "name",
         "legendgroup": "rgb(255, 0, 0)",
         "mode": "none",
         "name": "CDFS",
         "opacity": 0.5,
         "type": "scatter",
         "x": [
          "2020-09-13 05:30:00",
          "2020-09-13 10:00:00",
          "2020-09-13 10:00:00",
          "2020-09-13 05:30:00",
          "2020-09-13 05:30:00",
          "2020-09-14 05:30:00",
          "2020-09-14 10:00:00",
          "2020-09-14 10:00:00",
          "2020-09-14 05:30:00",
          "2020-09-14 05:30:00",
          "2020-09-15 05:30:00",
          "2020-09-15 10:00:00",
          "2020-09-15 10:00:00",
          "2020-09-15 05:30:00",
          "2020-09-15 05:30:00",
          "2020-09-17 05:30:00",
          "2020-09-17 10:00:00",
          "2020-09-17 10:00:00",
          "2020-09-17 05:30:00",
          "2020-09-17 05:30:00",
          "2020-09-18 05:30:00",
          "2020-09-18 10:00:00",
          "2020-09-18 10:00:00",
          "2020-09-18 05:30:00",
          "2020-09-18 05:30:00",
          "2020-09-19 05:30:00",
          "2020-09-19 10:00:00",
          "2020-09-19 10:00:00",
          "2020-09-19 05:30:00",
          "2020-09-19 05:30:00",
          "2020-09-13 08:00:00",
          "2020-09-13 12:00:00",
          "2020-09-13 12:00:00",
          "2020-09-13 08:00:00",
          "2020-09-13 08:00:00",
          "2020-09-14 08:00:00",
          "2020-09-14 12:00:00",
          "2020-09-14 12:00:00",
          "2020-09-14 08:00:00",
          "2020-09-14 08:00:00",
          "2020-09-15 08:00:00",
          "2020-09-15 12:00:00",
          "2020-09-15 12:00:00",
          "2020-09-15 08:00:00"
         ],
         "y": [
          0.6,
          0.6,
          1.4,
          1.4,
          null,
          0.6,
          0.6,
          1.4,
          1.4,
          null,
          0.6,
          0.6,
          1.4,
          1.4,
          null,
          0.6,
          0.6,
          1.4,
          1.4,
          null,
          0.6,
          0.6,
          1.4,
          1.4,
          null,
          0.6,
          0.6,
          1.4,
          1.4,
          null,
          -0.4,
          -0.4,
          0.4,
          0.4,
          null,
          -0.4,
          -0.4,
          0.4,
          0.4,
          null,
          -0.4,
          -0.4,
          0.4,
          0.4
         ]
        },
        {
         "legendgroup": "rgb(127, 0, 255)",
         "marker": {
          "color": "rgb(127, 0, 255)",
          "opacity": 0,
          "size": 1
         },
         "mode": "markers",
         "name": "",
         "opacity": 0.5,
         "showlegend": false,
         "text": [
          null,
          null,
          null,
          null,
          null,
          null,
          null,
          null,
          null,
          null,
          null,
          null,
          null,
          null,
          null,
          null,
          null,
          null,
          null,
          null,
          null,
          null,
          null,
          null
         ],
         "type": "scatter",
         "x": [
          "2020-09-13 04:30:00",
          "2020-09-13 06:00:00",
          "2020-09-14 04:30:00",
          "2020-09-14 06:00:00",
          "2020-09-15 04:30:00",
          "2020-09-15 06:00:00",
          "2020-09-17 04:30:00",
          "2020-09-17 06:00:00",
          "2020-09-18 04:30:00",
          "2020-09-18 06:00:00",
          "2020-09-19 04:30:00",
          "2020-09-19 06:00:00",
          "2020-09-13 04:00:00",
          "2020-09-13 10:00:00",
          "2020-09-14 04:00:00",
          "2020-09-14 10:00:00",
          "2020-09-15 04:00:00",
          "2020-09-15 10:00:00",
          "2020-09-14 06:00:00",
          "2020-09-14 08:00:00",
          "2020-09-15 06:00:00",
          "2020-09-15 08:00:00",
          "2020-09-18 06:00:00",
          "2020-09-18 08:00:00"
         ],
         "y": [
          4,
          4,
          4,
          4,
          4,
          4,
          4,
          4,
          4,
          4,
          4,
          4,
          3,
          3,
          3,
          3,
          3,
          3,
          2,
          2,
          2,
          2,
          2,
          2
         ]
        },
        {
         "legendgroup": "rgb(255, 0, 0)",
         "marker": {
          "color": "rgb(255, 0, 0)",
          "opacity": 0,
          "size": 1
         },
         "mode": "markers",
         "name": "",
         "opacity": 0.5,
         "showlegend": false,
         "text": [
          null,
          null,
          null,
          null,
          null,
          null,
          null,
          null,
          null,
          null,
          null,
          null,
          null,
          null,
          null,
          null,
          null,
          null
         ],
         "type": "scatter",
         "x": [
          "2020-09-13 05:30:00",
          "2020-09-13 10:00:00",
          "2020-09-14 05:30:00",
          "2020-09-14 10:00:00",
          "2020-09-15 05:30:00",
          "2020-09-15 10:00:00",
          "2020-09-17 05:30:00",
          "2020-09-17 10:00:00",
          "2020-09-18 05:30:00",
          "2020-09-18 10:00:00",
          "2020-09-19 05:30:00",
          "2020-09-19 10:00:00",
          "2020-09-13 08:00:00",
          "2020-09-13 12:00:00",
          "2020-09-14 08:00:00",
          "2020-09-14 12:00:00",
          "2020-09-15 08:00:00",
          "2020-09-15 12:00:00"
         ],
         "y": [
          1,
          1,
          1,
          1,
          1,
          1,
          1,
          1,
          1,
          1,
          1,
          1,
          0,
          0,
          0,
          0,
          0,
          0
         ]
        }
       ],
       "layout": {
        "annotations": [
         {
          "font": {
           "color": "rgb( 128,255,0)"
          },
          "showarrow": false,
          "text": "",
          "x": "2020-09-13 05:15:00",
          "y": 4
         },
         {
          "font": {
           "color": "rgb( 128,255,0)"
          },
          "showarrow": false,
          "text": "",
          "x": "2020-09-14 05:15:00",
          "y": 4
         },
         {
          "font": {
           "color": "rgb( 128,255,0)"
          },
          "showarrow": false,
          "text": "",
          "x": "2020-09-15 05:15:00",
          "y": 4
         },
         {
          "font": {
           "color": "rgb( 128,255,0)"
          },
          "showarrow": false,
          "text": "",
          "x": "2020-09-17 05:15:00",
          "y": 4
         },
         {
          "font": {
           "color": "rgb( 128,255,0)"
          },
          "showarrow": false,
          "text": "",
          "x": "2020-09-18 05:15:00",
          "y": 4
         },
         {
          "font": {
           "color": "rgb( 128,255,0)"
          },
          "showarrow": false,
          "text": "",
          "x": "2020-09-19 05:15:00",
          "y": 4
         },
         {
          "font": {
           "color": "rgb( 128,255,0)"
          },
          "showarrow": false,
          "text": "",
          "x": "2020-09-13 07:00:00",
          "y": 3
         },
         {
          "font": {
           "color": "rgb( 128,255,0)"
          },
          "showarrow": false,
          "text": "",
          "x": "2020-09-14 07:00:00",
          "y": 3
         },
         {
          "font": {
           "color": "rgb( 128,255,0)"
          },
          "showarrow": false,
          "text": "",
          "x": "2020-09-15 07:00:00",
          "y": 3
         },
         {
          "font": {
           "color": "rgb( 128,255,0)"
          },
          "showarrow": false,
          "text": "",
          "x": "2020-09-14 07:00:00",
          "y": 2
         },
         {
          "font": {
           "color": "rgb( 128,255,0)"
          },
          "showarrow": false,
          "text": "",
          "x": "2020-09-15 07:00:00",
          "y": 2
         },
         {
          "font": {
           "color": "rgb( 128,255,0)"
          },
          "showarrow": false,
          "text": "",
          "x": "2020-09-18 07:00:00",
          "y": 2
         },
         {
          "font": {
           "color": "rgb( 0,255,255)"
          },
          "showarrow": false,
          "text": "",
          "x": "2020-09-13 07:45:00",
          "y": 1
         },
         {
          "font": {
           "color": "rgb( 0,255,255)"
          },
          "showarrow": false,
          "text": "",
          "x": "2020-09-14 07:45:00",
          "y": 1
         },
         {
          "font": {
           "color": "rgb( 0,255,255)"
          },
          "showarrow": false,
          "text": "",
          "x": "2020-09-15 07:45:00",
          "y": 1
         },
         {
          "font": {
           "color": "rgb( 0,255,255)"
          },
          "showarrow": false,
          "text": "",
          "x": "2020-09-17 07:45:00",
          "y": 1
         },
         {
          "font": {
           "color": "rgb( 0,255,255)"
          },
          "showarrow": false,
          "text": "",
          "x": "2020-09-18 07:45:00",
          "y": 1
         },
         {
          "font": {
           "color": "rgb( 0,255,255)"
          },
          "showarrow": false,
          "text": "",
          "x": "2020-09-19 07:45:00",
          "y": 1
         },
         {
          "font": {
           "color": "rgb( 0,255,255)"
          },
          "showarrow": false,
          "text": "",
          "x": "2020-09-13 10:00:00",
          "y": 0
         },
         {
          "font": {
           "color": "rgb( 0,255,255)"
          },
          "showarrow": false,
          "text": "",
          "x": "2020-09-14 10:00:00",
          "y": 0
         },
         {
          "font": {
           "color": "rgb( 0,255,255)"
          },
          "showarrow": false,
          "text": "",
          "x": "2020-09-15 10:00:00",
          "y": 0
         }
        ],
        "height": 360,
        "hovermode": "closest",
        "showlegend": true,
        "template": {
         "data": {
          "bar": [
           {
            "error_x": {
             "color": "#2a3f5f"
            },
            "error_y": {
             "color": "#2a3f5f"
            },
            "marker": {
             "line": {
              "color": "#E5ECF6",
              "width": 0.5
             }
            },
            "type": "bar"
           }
          ],
          "barpolar": [
           {
            "marker": {
             "line": {
              "color": "#E5ECF6",
              "width": 0.5
             }
            },
            "type": "barpolar"
           }
          ],
          "carpet": [
           {
            "aaxis": {
             "endlinecolor": "#2a3f5f",
             "gridcolor": "white",
             "linecolor": "white",
             "minorgridcolor": "white",
             "startlinecolor": "#2a3f5f"
            },
            "baxis": {
             "endlinecolor": "#2a3f5f",
             "gridcolor": "white",
             "linecolor": "white",
             "minorgridcolor": "white",
             "startlinecolor": "#2a3f5f"
            },
            "type": "carpet"
           }
          ],
          "choropleth": [
           {
            "colorbar": {
             "outlinewidth": 0,
             "ticks": ""
            },
            "type": "choropleth"
           }
          ],
          "contour": [
           {
            "colorbar": {
             "outlinewidth": 0,
             "ticks": ""
            },
            "colorscale": [
             [
              0,
              "#0d0887"
             ],
             [
              0.1111111111111111,
              "#46039f"
             ],
             [
              0.2222222222222222,
              "#7201a8"
             ],
             [
              0.3333333333333333,
              "#9c179e"
             ],
             [
              0.4444444444444444,
              "#bd3786"
             ],
             [
              0.5555555555555556,
              "#d8576b"
             ],
             [
              0.6666666666666666,
              "#ed7953"
             ],
             [
              0.7777777777777778,
              "#fb9f3a"
             ],
             [
              0.8888888888888888,
              "#fdca26"
             ],
             [
              1,
              "#f0f921"
             ]
            ],
            "type": "contour"
           }
          ],
          "contourcarpet": [
           {
            "colorbar": {
             "outlinewidth": 0,
             "ticks": ""
            },
            "type": "contourcarpet"
           }
          ],
          "heatmap": [
           {
            "colorbar": {
             "outlinewidth": 0,
             "ticks": ""
            },
            "colorscale": [
             [
              0,
              "#0d0887"
             ],
             [
              0.1111111111111111,
              "#46039f"
             ],
             [
              0.2222222222222222,
              "#7201a8"
             ],
             [
              0.3333333333333333,
              "#9c179e"
             ],
             [
              0.4444444444444444,
              "#bd3786"
             ],
             [
              0.5555555555555556,
              "#d8576b"
             ],
             [
              0.6666666666666666,
              "#ed7953"
             ],
             [
              0.7777777777777778,
              "#fb9f3a"
             ],
             [
              0.8888888888888888,
              "#fdca26"
             ],
             [
              1,
              "#f0f921"
             ]
            ],
            "type": "heatmap"
           }
          ],
          "heatmapgl": [
           {
            "colorbar": {
             "outlinewidth": 0,
             "ticks": ""
            },
            "colorscale": [
             [
              0,
              "#0d0887"
             ],
             [
              0.1111111111111111,
              "#46039f"
             ],
             [
              0.2222222222222222,
              "#7201a8"
             ],
             [
              0.3333333333333333,
              "#9c179e"
             ],
             [
              0.4444444444444444,
              "#bd3786"
             ],
             [
              0.5555555555555556,
              "#d8576b"
             ],
             [
              0.6666666666666666,
              "#ed7953"
             ],
             [
              0.7777777777777778,
              "#fb9f3a"
             ],
             [
              0.8888888888888888,
              "#fdca26"
             ],
             [
              1,
              "#f0f921"
             ]
            ],
            "type": "heatmapgl"
           }
          ],
          "histogram": [
           {
            "marker": {
             "colorbar": {
              "outlinewidth": 0,
              "ticks": ""
             }
            },
            "type": "histogram"
           }
          ],
          "histogram2d": [
           {
            "colorbar": {
             "outlinewidth": 0,
             "ticks": ""
            },
            "colorscale": [
             [
              0,
              "#0d0887"
             ],
             [
              0.1111111111111111,
              "#46039f"
             ],
             [
              0.2222222222222222,
              "#7201a8"
             ],
             [
              0.3333333333333333,
              "#9c179e"
             ],
             [
              0.4444444444444444,
              "#bd3786"
             ],
             [
              0.5555555555555556,
              "#d8576b"
             ],
             [
              0.6666666666666666,
              "#ed7953"
             ],
             [
              0.7777777777777778,
              "#fb9f3a"
             ],
             [
              0.8888888888888888,
              "#fdca26"
             ],
             [
              1,
              "#f0f921"
             ]
            ],
            "type": "histogram2d"
           }
          ],
          "histogram2dcontour": [
           {
            "colorbar": {
             "outlinewidth": 0,
             "ticks": ""
            },
            "colorscale": [
             [
              0,
              "#0d0887"
             ],
             [
              0.1111111111111111,
              "#46039f"
             ],
             [
              0.2222222222222222,
              "#7201a8"
             ],
             [
              0.3333333333333333,
              "#9c179e"
             ],
             [
              0.4444444444444444,
              "#bd3786"
             ],
             [
              0.5555555555555556,
              "#d8576b"
             ],
             [
              0.6666666666666666,
              "#ed7953"
             ],
             [
              0.7777777777777778,
              "#fb9f3a"
             ],
             [
              0.8888888888888888,
              "#fdca26"
             ],
             [
              1,
              "#f0f921"
             ]
            ],
            "type": "histogram2dcontour"
           }
          ],
          "mesh3d": [
           {
            "colorbar": {
             "outlinewidth": 0,
             "ticks": ""
            },
            "type": "mesh3d"
           }
          ],
          "parcoords": [
           {
            "line": {
             "colorbar": {
              "outlinewidth": 0,
              "ticks": ""
             }
            },
            "type": "parcoords"
           }
          ],
          "pie": [
           {
            "automargin": true,
            "type": "pie"
           }
          ],
          "scatter": [
           {
            "marker": {
             "colorbar": {
              "outlinewidth": 0,
              "ticks": ""
             }
            },
            "type": "scatter"
           }
          ],
          "scatter3d": [
           {
            "line": {
             "colorbar": {
              "outlinewidth": 0,
              "ticks": ""
             }
            },
            "marker": {
             "colorbar": {
              "outlinewidth": 0,
              "ticks": ""
             }
            },
            "type": "scatter3d"
           }
          ],
          "scattercarpet": [
           {
            "marker": {
             "colorbar": {
              "outlinewidth": 0,
              "ticks": ""
             }
            },
            "type": "scattercarpet"
           }
          ],
          "scattergeo": [
           {
            "marker": {
             "colorbar": {
              "outlinewidth": 0,
              "ticks": ""
             }
            },
            "type": "scattergeo"
           }
          ],
          "scattergl": [
           {
            "marker": {
             "colorbar": {
              "outlinewidth": 0,
              "ticks": ""
             }
            },
            "type": "scattergl"
           }
          ],
          "scattermapbox": [
           {
            "marker": {
             "colorbar": {
              "outlinewidth": 0,
              "ticks": ""
             }
            },
            "type": "scattermapbox"
           }
          ],
          "scatterpolar": [
           {
            "marker": {
             "colorbar": {
              "outlinewidth": 0,
              "ticks": ""
             }
            },
            "type": "scatterpolar"
           }
          ],
          "scatterpolargl": [
           {
            "marker": {
             "colorbar": {
              "outlinewidth": 0,
              "ticks": ""
             }
            },
            "type": "scatterpolargl"
           }
          ],
          "scatterternary": [
           {
            "marker": {
             "colorbar": {
              "outlinewidth": 0,
              "ticks": ""
             }
            },
            "type": "scatterternary"
           }
          ],
          "surface": [
           {
            "colorbar": {
             "outlinewidth": 0,
             "ticks": ""
            },
            "colorscale": [
             [
              0,
              "#0d0887"
             ],
             [
              0.1111111111111111,
              "#46039f"
             ],
             [
              0.2222222222222222,
              "#7201a8"
             ],
             [
              0.3333333333333333,
              "#9c179e"
             ],
             [
              0.4444444444444444,
              "#bd3786"
             ],
             [
              0.5555555555555556,
              "#d8576b"
             ],
             [
              0.6666666666666666,
              "#ed7953"
             ],
             [
              0.7777777777777778,
              "#fb9f3a"
             ],
             [
              0.8888888888888888,
              "#fdca26"
             ],
             [
              1,
              "#f0f921"
             ]
            ],
            "type": "surface"
           }
          ],
          "table": [
           {
            "cells": {
             "fill": {
              "color": "#EBF0F8"
             },
             "line": {
              "color": "white"
             }
            },
            "header": {
             "fill": {
              "color": "#C8D4E3"
             },
             "line": {
              "color": "white"
             }
            },
            "type": "table"
           }
          ]
         },
         "layout": {
          "annotationdefaults": {
           "arrowcolor": "#2a3f5f",
           "arrowhead": 0,
           "arrowwidth": 1
          },
          "coloraxis": {
           "colorbar": {
            "outlinewidth": 0,
            "ticks": ""
           }
          },
          "colorscale": {
           "diverging": [
            [
             0,
             "#8e0152"
            ],
            [
             0.1,
             "#c51b7d"
            ],
            [
             0.2,
             "#de77ae"
            ],
            [
             0.3,
             "#f1b6da"
            ],
            [
             0.4,
             "#fde0ef"
            ],
            [
             0.5,
             "#f7f7f7"
            ],
            [
             0.6,
             "#e6f5d0"
            ],
            [
             0.7,
             "#b8e186"
            ],
            [
             0.8,
             "#7fbc41"
            ],
            [
             0.9,
             "#4d9221"
            ],
            [
             1,
             "#276419"
            ]
           ],
           "sequential": [
            [
             0,
             "#0d0887"
            ],
            [
             0.1111111111111111,
             "#46039f"
            ],
            [
             0.2222222222222222,
             "#7201a8"
            ],
            [
             0.3333333333333333,
             "#9c179e"
            ],
            [
             0.4444444444444444,
             "#bd3786"
            ],
            [
             0.5555555555555556,
             "#d8576b"
            ],
            [
             0.6666666666666666,
             "#ed7953"
            ],
            [
             0.7777777777777778,
             "#fb9f3a"
            ],
            [
             0.8888888888888888,
             "#fdca26"
            ],
            [
             1,
             "#f0f921"
            ]
           ],
           "sequentialminus": [
            [
             0,
             "#0d0887"
            ],
            [
             0.1111111111111111,
             "#46039f"
            ],
            [
             0.2222222222222222,
             "#7201a8"
            ],
            [
             0.3333333333333333,
             "#9c179e"
            ],
            [
             0.4444444444444444,
             "#bd3786"
            ],
            [
             0.5555555555555556,
             "#d8576b"
            ],
            [
             0.6666666666666666,
             "#ed7953"
            ],
            [
             0.7777777777777778,
             "#fb9f3a"
            ],
            [
             0.8888888888888888,
             "#fdca26"
            ],
            [
             1,
             "#f0f921"
            ]
           ]
          },
          "colorway": [
           "#636efa",
           "#EF553B",
           "#00cc96",
           "#ab63fa",
           "#FFA15A",
           "#19d3f3",
           "#FF6692",
           "#B6E880",
           "#FF97FF",
           "#FECB52"
          ],
          "font": {
           "color": "#2a3f5f"
          },
          "geo": {
           "bgcolor": "white",
           "lakecolor": "white",
           "landcolor": "#E5ECF6",
           "showlakes": true,
           "showland": true,
           "subunitcolor": "white"
          },
          "hoverlabel": {
           "align": "left"
          },
          "hovermode": "closest",
          "mapbox": {
           "style": "light"
          },
          "paper_bgcolor": "white",
          "plot_bgcolor": "#E5ECF6",
          "polar": {
           "angularaxis": {
            "gridcolor": "white",
            "linecolor": "white",
            "ticks": ""
           },
           "bgcolor": "#E5ECF6",
           "radialaxis": {
            "gridcolor": "white",
            "linecolor": "white",
            "ticks": ""
           }
          },
          "scene": {
           "xaxis": {
            "backgroundcolor": "#E5ECF6",
            "gridcolor": "white",
            "gridwidth": 2,
            "linecolor": "white",
            "showbackground": true,
            "ticks": "",
            "zerolinecolor": "white"
           },
           "yaxis": {
            "backgroundcolor": "#E5ECF6",
            "gridcolor": "white",
            "gridwidth": 2,
            "linecolor": "white",
            "showbackground": true,
            "ticks": "",
            "zerolinecolor": "white"
           },
           "zaxis": {
            "backgroundcolor": "#E5ECF6",
            "gridcolor": "white",
            "gridwidth": 2,
            "linecolor": "white",
            "showbackground": true,
            "ticks": "",
            "zerolinecolor": "white"
           }
          },
          "shapedefaults": {
           "line": {
            "color": "#2a3f5f"
           }
          },
          "ternary": {
           "aaxis": {
            "gridcolor": "white",
            "linecolor": "white",
            "ticks": ""
           },
           "baxis": {
            "gridcolor": "white",
            "linecolor": "white",
            "ticks": ""
           },
           "bgcolor": "#E5ECF6",
           "caxis": {
            "gridcolor": "white",
            "linecolor": "white",
            "ticks": ""
           }
          },
          "title": {
           "x": 0.05
          },
          "xaxis": {
           "automargin": true,
           "gridcolor": "white",
           "linecolor": "white",
           "ticks": "",
           "title": {
            "standoff": 15
           },
           "zerolinecolor": "white",
           "zerolinewidth": 2
          },
          "yaxis": {
           "automargin": true,
           "gridcolor": "white",
           "linecolor": "white",
           "ticks": "",
           "title": {
            "standoff": 15
           },
           "zerolinecolor": "white",
           "zerolinewidth": 2
          }
         }
        },
        "title": {
         "text": "DWF Schedule"
        },
        "xaxis": {
         "rangeselector": {
          "buttons": [
           {
            "count": 7,
            "label": "1w",
            "step": "day",
            "stepmode": "backward"
           },
           {
            "count": 1,
            "label": "1m",
            "step": "month",
            "stepmode": "backward"
           },
           {
            "count": 6,
            "label": "6m",
            "step": "month",
            "stepmode": "backward"
           },
           {
            "count": 1,
            "label": "YTD",
            "step": "year",
            "stepmode": "todate"
           },
           {
            "count": 1,
            "label": "1y",
            "step": "year",
            "stepmode": "backward"
           },
           {
            "step": "all"
           }
          ]
         },
         "showgrid": true,
         "type": "date",
         "zeroline": false
        },
        "yaxis": {
         "autorange": false,
         "range": [
          -1,
          6
         ],
         "showgrid": true,
         "ticktext": [
          "Parkes-CDFS",
          "DECam-CDFS",
          "ASTROSAT-NGC",
          "Parkes-NGC",
          "DECam-NGC"
         ],
         "tickvals": [
          0,
          1,
          2,
          3,
          4
         ],
         "zeroline": false
        }
       }
      },
      "text/html": [
       "<div>\n",
       "        \n",
       "        \n",
       "            <div id=\"eab09faf-c3db-4591-8dd9-01029d049af2\" class=\"plotly-graph-div\" style=\"height:360px; width:100%;\"></div>\n",
       "            <script type=\"text/javascript\">\n",
       "                require([\"plotly\"], function(Plotly) {\n",
       "                    window.PLOTLYENV=window.PLOTLYENV || {};\n",
       "                    \n",
       "                if (document.getElementById(\"eab09faf-c3db-4591-8dd9-01029d049af2\")) {\n",
       "                    Plotly.newPlot(\n",
       "                        'eab09faf-c3db-4591-8dd9-01029d049af2',\n",
       "                        [{\"fill\": \"toself\", \"fillcolor\": \"rgb(127, 0, 255)\", \"hoverinfo\": \"name\", \"legendgroup\": \"rgb(127, 0, 255)\", \"mode\": \"none\", \"name\": \"NGC\", \"opacity\": 0.5, \"type\": \"scatter\", \"x\": [\"2020-09-13 04:30:00\", \"2020-09-13 06:00:00\", \"2020-09-13 06:00:00\", \"2020-09-13 04:30:00\", \"2020-09-13 04:30:00\", \"2020-09-14 04:30:00\", \"2020-09-14 06:00:00\", \"2020-09-14 06:00:00\", \"2020-09-14 04:30:00\", \"2020-09-14 04:30:00\", \"2020-09-15 04:30:00\", \"2020-09-15 06:00:00\", \"2020-09-15 06:00:00\", \"2020-09-15 04:30:00\", \"2020-09-15 04:30:00\", \"2020-09-17 04:30:00\", \"2020-09-17 06:00:00\", \"2020-09-17 06:00:00\", \"2020-09-17 04:30:00\", \"2020-09-17 04:30:00\", \"2020-09-18 04:30:00\", \"2020-09-18 06:00:00\", \"2020-09-18 06:00:00\", \"2020-09-18 04:30:00\", \"2020-09-18 04:30:00\", \"2020-09-19 04:30:00\", \"2020-09-19 06:00:00\", \"2020-09-19 06:00:00\", \"2020-09-19 04:30:00\", \"2020-09-19 04:30:00\", \"2020-09-13 04:00:00\", \"2020-09-13 10:00:00\", \"2020-09-13 10:00:00\", \"2020-09-13 04:00:00\", \"2020-09-13 04:00:00\", \"2020-09-14 04:00:00\", \"2020-09-14 10:00:00\", \"2020-09-14 10:00:00\", \"2020-09-14 04:00:00\", \"2020-09-14 04:00:00\", \"2020-09-15 04:00:00\", \"2020-09-15 10:00:00\", \"2020-09-15 10:00:00\", \"2020-09-15 04:00:00\", \"2020-09-15 04:00:00\", \"2020-09-14 06:00:00\", \"2020-09-14 08:00:00\", \"2020-09-14 08:00:00\", \"2020-09-14 06:00:00\", \"2020-09-14 06:00:00\", \"2020-09-15 06:00:00\", \"2020-09-15 08:00:00\", \"2020-09-15 08:00:00\", \"2020-09-15 06:00:00\", \"2020-09-15 06:00:00\", \"2020-09-18 06:00:00\", \"2020-09-18 08:00:00\", \"2020-09-18 08:00:00\", \"2020-09-18 06:00:00\"], \"y\": [3.6, 3.6, 4.4, 4.4, null, 3.6, 3.6, 4.4, 4.4, null, 3.6, 3.6, 4.4, 4.4, null, 3.6, 3.6, 4.4, 4.4, null, 3.6, 3.6, 4.4, 4.4, null, 3.6, 3.6, 4.4, 4.4, null, 2.6, 2.6, 3.4, 3.4, null, 2.6, 2.6, 3.4, 3.4, null, 2.6, 2.6, 3.4, 3.4, null, 1.6, 1.6, 2.4, 2.4, null, 1.6, 1.6, 2.4, 2.4, null, 1.6, 1.6, 2.4, 2.4]}, {\"fill\": \"toself\", \"fillcolor\": \"rgb(255, 0, 0)\", \"hoverinfo\": \"name\", \"legendgroup\": \"rgb(255, 0, 0)\", \"mode\": \"none\", \"name\": \"CDFS\", \"opacity\": 0.5, \"type\": \"scatter\", \"x\": [\"2020-09-13 05:30:00\", \"2020-09-13 10:00:00\", \"2020-09-13 10:00:00\", \"2020-09-13 05:30:00\", \"2020-09-13 05:30:00\", \"2020-09-14 05:30:00\", \"2020-09-14 10:00:00\", \"2020-09-14 10:00:00\", \"2020-09-14 05:30:00\", \"2020-09-14 05:30:00\", \"2020-09-15 05:30:00\", \"2020-09-15 10:00:00\", \"2020-09-15 10:00:00\", \"2020-09-15 05:30:00\", \"2020-09-15 05:30:00\", \"2020-09-17 05:30:00\", \"2020-09-17 10:00:00\", \"2020-09-17 10:00:00\", \"2020-09-17 05:30:00\", \"2020-09-17 05:30:00\", \"2020-09-18 05:30:00\", \"2020-09-18 10:00:00\", \"2020-09-18 10:00:00\", \"2020-09-18 05:30:00\", \"2020-09-18 05:30:00\", \"2020-09-19 05:30:00\", \"2020-09-19 10:00:00\", \"2020-09-19 10:00:00\", \"2020-09-19 05:30:00\", \"2020-09-19 05:30:00\", \"2020-09-13 08:00:00\", \"2020-09-13 12:00:00\", \"2020-09-13 12:00:00\", \"2020-09-13 08:00:00\", \"2020-09-13 08:00:00\", \"2020-09-14 08:00:00\", \"2020-09-14 12:00:00\", \"2020-09-14 12:00:00\", \"2020-09-14 08:00:00\", \"2020-09-14 08:00:00\", \"2020-09-15 08:00:00\", \"2020-09-15 12:00:00\", \"2020-09-15 12:00:00\", \"2020-09-15 08:00:00\"], \"y\": [0.6, 0.6, 1.4, 1.4, null, 0.6, 0.6, 1.4, 1.4, null, 0.6, 0.6, 1.4, 1.4, null, 0.6, 0.6, 1.4, 1.4, null, 0.6, 0.6, 1.4, 1.4, null, 0.6, 0.6, 1.4, 1.4, null, -0.4, -0.4, 0.4, 0.4, null, -0.4, -0.4, 0.4, 0.4, null, -0.4, -0.4, 0.4, 0.4]}, {\"legendgroup\": \"rgb(127, 0, 255)\", \"marker\": {\"color\": \"rgb(127, 0, 255)\", \"opacity\": 0, \"size\": 1}, \"mode\": \"markers\", \"name\": \"\", \"opacity\": 0.5, \"showlegend\": false, \"text\": [null, null, null, null, null, null, null, null, null, null, null, null, null, null, null, null, null, null, null, null, null, null, null, null], \"type\": \"scatter\", \"x\": [\"2020-09-13 04:30:00\", \"2020-09-13 06:00:00\", \"2020-09-14 04:30:00\", \"2020-09-14 06:00:00\", \"2020-09-15 04:30:00\", \"2020-09-15 06:00:00\", \"2020-09-17 04:30:00\", \"2020-09-17 06:00:00\", \"2020-09-18 04:30:00\", \"2020-09-18 06:00:00\", \"2020-09-19 04:30:00\", \"2020-09-19 06:00:00\", \"2020-09-13 04:00:00\", \"2020-09-13 10:00:00\", \"2020-09-14 04:00:00\", \"2020-09-14 10:00:00\", \"2020-09-15 04:00:00\", \"2020-09-15 10:00:00\", \"2020-09-14 06:00:00\", \"2020-09-14 08:00:00\", \"2020-09-15 06:00:00\", \"2020-09-15 08:00:00\", \"2020-09-18 06:00:00\", \"2020-09-18 08:00:00\"], \"y\": [4, 4, 4, 4, 4, 4, 4, 4, 4, 4, 4, 4, 3, 3, 3, 3, 3, 3, 2, 2, 2, 2, 2, 2]}, {\"legendgroup\": \"rgb(255, 0, 0)\", \"marker\": {\"color\": \"rgb(255, 0, 0)\", \"opacity\": 0, \"size\": 1}, \"mode\": \"markers\", \"name\": \"\", \"opacity\": 0.5, \"showlegend\": false, \"text\": [null, null, null, null, null, null, null, null, null, null, null, null, null, null, null, null, null, null], \"type\": \"scatter\", \"x\": [\"2020-09-13 05:30:00\", \"2020-09-13 10:00:00\", \"2020-09-14 05:30:00\", \"2020-09-14 10:00:00\", \"2020-09-15 05:30:00\", \"2020-09-15 10:00:00\", \"2020-09-17 05:30:00\", \"2020-09-17 10:00:00\", \"2020-09-18 05:30:00\", \"2020-09-18 10:00:00\", \"2020-09-19 05:30:00\", \"2020-09-19 10:00:00\", \"2020-09-13 08:00:00\", \"2020-09-13 12:00:00\", \"2020-09-14 08:00:00\", \"2020-09-14 12:00:00\", \"2020-09-15 08:00:00\", \"2020-09-15 12:00:00\"], \"y\": [1, 1, 1, 1, 1, 1, 1, 1, 1, 1, 1, 1, 0, 0, 0, 0, 0, 0]}],\n",
       "                        {\"annotations\": [{\"font\": {\"color\": \"rgb( 128,255,0)\"}, \"showarrow\": false, \"text\": \"\", \"x\": \"2020-09-13 05:15:00\", \"y\": 4}, {\"font\": {\"color\": \"rgb( 128,255,0)\"}, \"showarrow\": false, \"text\": \"\", \"x\": \"2020-09-14 05:15:00\", \"y\": 4}, {\"font\": {\"color\": \"rgb( 128,255,0)\"}, \"showarrow\": false, \"text\": \"\", \"x\": \"2020-09-15 05:15:00\", \"y\": 4}, {\"font\": {\"color\": \"rgb( 128,255,0)\"}, \"showarrow\": false, \"text\": \"\", \"x\": \"2020-09-17 05:15:00\", \"y\": 4}, {\"font\": {\"color\": \"rgb( 128,255,0)\"}, \"showarrow\": false, \"text\": \"\", \"x\": \"2020-09-18 05:15:00\", \"y\": 4}, {\"font\": {\"color\": \"rgb( 128,255,0)\"}, \"showarrow\": false, \"text\": \"\", \"x\": \"2020-09-19 05:15:00\", \"y\": 4}, {\"font\": {\"color\": \"rgb( 128,255,0)\"}, \"showarrow\": false, \"text\": \"\", \"x\": \"2020-09-13 07:00:00\", \"y\": 3}, {\"font\": {\"color\": \"rgb( 128,255,0)\"}, \"showarrow\": false, \"text\": \"\", \"x\": \"2020-09-14 07:00:00\", \"y\": 3}, {\"font\": {\"color\": \"rgb( 128,255,0)\"}, \"showarrow\": false, \"text\": \"\", \"x\": \"2020-09-15 07:00:00\", \"y\": 3}, {\"font\": {\"color\": \"rgb( 128,255,0)\"}, \"showarrow\": false, \"text\": \"\", \"x\": \"2020-09-14 07:00:00\", \"y\": 2}, {\"font\": {\"color\": \"rgb( 128,255,0)\"}, \"showarrow\": false, \"text\": \"\", \"x\": \"2020-09-15 07:00:00\", \"y\": 2}, {\"font\": {\"color\": \"rgb( 128,255,0)\"}, \"showarrow\": false, \"text\": \"\", \"x\": \"2020-09-18 07:00:00\", \"y\": 2}, {\"font\": {\"color\": \"rgb( 0,255,255)\"}, \"showarrow\": false, \"text\": \"\", \"x\": \"2020-09-13 07:45:00\", \"y\": 1}, {\"font\": {\"color\": \"rgb( 0,255,255)\"}, \"showarrow\": false, \"text\": \"\", \"x\": \"2020-09-14 07:45:00\", \"y\": 1}, {\"font\": {\"color\": \"rgb( 0,255,255)\"}, \"showarrow\": false, \"text\": \"\", \"x\": \"2020-09-15 07:45:00\", \"y\": 1}, {\"font\": {\"color\": \"rgb( 0,255,255)\"}, \"showarrow\": false, \"text\": \"\", \"x\": \"2020-09-17 07:45:00\", \"y\": 1}, {\"font\": {\"color\": \"rgb( 0,255,255)\"}, \"showarrow\": false, \"text\": \"\", \"x\": \"2020-09-18 07:45:00\", \"y\": 1}, {\"font\": {\"color\": \"rgb( 0,255,255)\"}, \"showarrow\": false, \"text\": \"\", \"x\": \"2020-09-19 07:45:00\", \"y\": 1}, {\"font\": {\"color\": \"rgb( 0,255,255)\"}, \"showarrow\": false, \"text\": \"\", \"x\": \"2020-09-13 10:00:00\", \"y\": 0}, {\"font\": {\"color\": \"rgb( 0,255,255)\"}, \"showarrow\": false, \"text\": \"\", \"x\": \"2020-09-14 10:00:00\", \"y\": 0}, {\"font\": {\"color\": \"rgb( 0,255,255)\"}, \"showarrow\": false, \"text\": \"\", \"x\": \"2020-09-15 10:00:00\", \"y\": 0}], \"height\": 360, \"hovermode\": \"closest\", \"showlegend\": true, \"template\": {\"data\": {\"bar\": [{\"error_x\": {\"color\": \"#2a3f5f\"}, \"error_y\": {\"color\": \"#2a3f5f\"}, \"marker\": {\"line\": {\"color\": \"#E5ECF6\", \"width\": 0.5}}, \"type\": \"bar\"}], \"barpolar\": [{\"marker\": {\"line\": {\"color\": \"#E5ECF6\", \"width\": 0.5}}, \"type\": \"barpolar\"}], \"carpet\": [{\"aaxis\": {\"endlinecolor\": \"#2a3f5f\", \"gridcolor\": \"white\", \"linecolor\": \"white\", \"minorgridcolor\": \"white\", \"startlinecolor\": \"#2a3f5f\"}, \"baxis\": {\"endlinecolor\": \"#2a3f5f\", \"gridcolor\": \"white\", \"linecolor\": \"white\", \"minorgridcolor\": \"white\", \"startlinecolor\": \"#2a3f5f\"}, \"type\": \"carpet\"}], \"choropleth\": [{\"colorbar\": {\"outlinewidth\": 0, \"ticks\": \"\"}, \"type\": \"choropleth\"}], \"contour\": [{\"colorbar\": {\"outlinewidth\": 0, \"ticks\": \"\"}, \"colorscale\": [[0.0, \"#0d0887\"], [0.1111111111111111, \"#46039f\"], [0.2222222222222222, \"#7201a8\"], [0.3333333333333333, \"#9c179e\"], [0.4444444444444444, \"#bd3786\"], [0.5555555555555556, \"#d8576b\"], [0.6666666666666666, \"#ed7953\"], [0.7777777777777778, \"#fb9f3a\"], [0.8888888888888888, \"#fdca26\"], [1.0, \"#f0f921\"]], \"type\": \"contour\"}], \"contourcarpet\": [{\"colorbar\": {\"outlinewidth\": 0, \"ticks\": \"\"}, \"type\": \"contourcarpet\"}], \"heatmap\": [{\"colorbar\": {\"outlinewidth\": 0, \"ticks\": \"\"}, \"colorscale\": [[0.0, \"#0d0887\"], [0.1111111111111111, \"#46039f\"], [0.2222222222222222, \"#7201a8\"], [0.3333333333333333, \"#9c179e\"], [0.4444444444444444, \"#bd3786\"], [0.5555555555555556, \"#d8576b\"], [0.6666666666666666, \"#ed7953\"], [0.7777777777777778, \"#fb9f3a\"], [0.8888888888888888, \"#fdca26\"], [1.0, \"#f0f921\"]], \"type\": \"heatmap\"}], \"heatmapgl\": [{\"colorbar\": {\"outlinewidth\": 0, \"ticks\": \"\"}, \"colorscale\": [[0.0, \"#0d0887\"], [0.1111111111111111, \"#46039f\"], [0.2222222222222222, \"#7201a8\"], [0.3333333333333333, \"#9c179e\"], [0.4444444444444444, \"#bd3786\"], [0.5555555555555556, \"#d8576b\"], [0.6666666666666666, \"#ed7953\"], [0.7777777777777778, \"#fb9f3a\"], [0.8888888888888888, \"#fdca26\"], [1.0, \"#f0f921\"]], \"type\": \"heatmapgl\"}], \"histogram\": [{\"marker\": {\"colorbar\": {\"outlinewidth\": 0, \"ticks\": \"\"}}, \"type\": \"histogram\"}], \"histogram2d\": [{\"colorbar\": {\"outlinewidth\": 0, \"ticks\": \"\"}, \"colorscale\": [[0.0, \"#0d0887\"], [0.1111111111111111, \"#46039f\"], [0.2222222222222222, \"#7201a8\"], [0.3333333333333333, \"#9c179e\"], [0.4444444444444444, \"#bd3786\"], [0.5555555555555556, \"#d8576b\"], [0.6666666666666666, \"#ed7953\"], [0.7777777777777778, \"#fb9f3a\"], [0.8888888888888888, \"#fdca26\"], [1.0, \"#f0f921\"]], \"type\": \"histogram2d\"}], \"histogram2dcontour\": [{\"colorbar\": {\"outlinewidth\": 0, \"ticks\": \"\"}, \"colorscale\": [[0.0, \"#0d0887\"], [0.1111111111111111, \"#46039f\"], [0.2222222222222222, \"#7201a8\"], [0.3333333333333333, \"#9c179e\"], [0.4444444444444444, \"#bd3786\"], [0.5555555555555556, \"#d8576b\"], [0.6666666666666666, \"#ed7953\"], [0.7777777777777778, \"#fb9f3a\"], [0.8888888888888888, \"#fdca26\"], [1.0, \"#f0f921\"]], \"type\": \"histogram2dcontour\"}], \"mesh3d\": [{\"colorbar\": {\"outlinewidth\": 0, \"ticks\": \"\"}, \"type\": \"mesh3d\"}], \"parcoords\": [{\"line\": {\"colorbar\": {\"outlinewidth\": 0, \"ticks\": \"\"}}, \"type\": \"parcoords\"}], \"pie\": [{\"automargin\": true, \"type\": \"pie\"}], \"scatter\": [{\"marker\": {\"colorbar\": {\"outlinewidth\": 0, \"ticks\": \"\"}}, \"type\": \"scatter\"}], \"scatter3d\": [{\"line\": {\"colorbar\": {\"outlinewidth\": 0, \"ticks\": \"\"}}, \"marker\": {\"colorbar\": {\"outlinewidth\": 0, \"ticks\": \"\"}}, \"type\": \"scatter3d\"}], \"scattercarpet\": [{\"marker\": {\"colorbar\": {\"outlinewidth\": 0, \"ticks\": \"\"}}, \"type\": \"scattercarpet\"}], \"scattergeo\": [{\"marker\": {\"colorbar\": {\"outlinewidth\": 0, \"ticks\": \"\"}}, \"type\": \"scattergeo\"}], \"scattergl\": [{\"marker\": {\"colorbar\": {\"outlinewidth\": 0, \"ticks\": \"\"}}, \"type\": \"scattergl\"}], \"scattermapbox\": [{\"marker\": {\"colorbar\": {\"outlinewidth\": 0, \"ticks\": \"\"}}, \"type\": \"scattermapbox\"}], \"scatterpolar\": [{\"marker\": {\"colorbar\": {\"outlinewidth\": 0, \"ticks\": \"\"}}, \"type\": \"scatterpolar\"}], \"scatterpolargl\": [{\"marker\": {\"colorbar\": {\"outlinewidth\": 0, \"ticks\": \"\"}}, \"type\": \"scatterpolargl\"}], \"scatterternary\": [{\"marker\": {\"colorbar\": {\"outlinewidth\": 0, \"ticks\": \"\"}}, \"type\": \"scatterternary\"}], \"surface\": [{\"colorbar\": {\"outlinewidth\": 0, \"ticks\": \"\"}, \"colorscale\": [[0.0, \"#0d0887\"], [0.1111111111111111, \"#46039f\"], [0.2222222222222222, \"#7201a8\"], [0.3333333333333333, \"#9c179e\"], [0.4444444444444444, \"#bd3786\"], [0.5555555555555556, \"#d8576b\"], [0.6666666666666666, \"#ed7953\"], [0.7777777777777778, \"#fb9f3a\"], [0.8888888888888888, \"#fdca26\"], [1.0, \"#f0f921\"]], \"type\": \"surface\"}], \"table\": [{\"cells\": {\"fill\": {\"color\": \"#EBF0F8\"}, \"line\": {\"color\": \"white\"}}, \"header\": {\"fill\": {\"color\": \"#C8D4E3\"}, \"line\": {\"color\": \"white\"}}, \"type\": \"table\"}]}, \"layout\": {\"annotationdefaults\": {\"arrowcolor\": \"#2a3f5f\", \"arrowhead\": 0, \"arrowwidth\": 1}, \"coloraxis\": {\"colorbar\": {\"outlinewidth\": 0, \"ticks\": \"\"}}, \"colorscale\": {\"diverging\": [[0, \"#8e0152\"], [0.1, \"#c51b7d\"], [0.2, \"#de77ae\"], [0.3, \"#f1b6da\"], [0.4, \"#fde0ef\"], [0.5, \"#f7f7f7\"], [0.6, \"#e6f5d0\"], [0.7, \"#b8e186\"], [0.8, \"#7fbc41\"], [0.9, \"#4d9221\"], [1, \"#276419\"]], \"sequential\": [[0.0, \"#0d0887\"], [0.1111111111111111, \"#46039f\"], [0.2222222222222222, \"#7201a8\"], [0.3333333333333333, \"#9c179e\"], [0.4444444444444444, \"#bd3786\"], [0.5555555555555556, \"#d8576b\"], [0.6666666666666666, \"#ed7953\"], [0.7777777777777778, \"#fb9f3a\"], [0.8888888888888888, \"#fdca26\"], [1.0, \"#f0f921\"]], \"sequentialminus\": [[0.0, \"#0d0887\"], [0.1111111111111111, \"#46039f\"], [0.2222222222222222, \"#7201a8\"], [0.3333333333333333, \"#9c179e\"], [0.4444444444444444, \"#bd3786\"], [0.5555555555555556, \"#d8576b\"], [0.6666666666666666, \"#ed7953\"], [0.7777777777777778, \"#fb9f3a\"], [0.8888888888888888, \"#fdca26\"], [1.0, \"#f0f921\"]]}, \"colorway\": [\"#636efa\", \"#EF553B\", \"#00cc96\", \"#ab63fa\", \"#FFA15A\", \"#19d3f3\", \"#FF6692\", \"#B6E880\", \"#FF97FF\", \"#FECB52\"], \"font\": {\"color\": \"#2a3f5f\"}, \"geo\": {\"bgcolor\": \"white\", \"lakecolor\": \"white\", \"landcolor\": \"#E5ECF6\", \"showlakes\": true, \"showland\": true, \"subunitcolor\": \"white\"}, \"hoverlabel\": {\"align\": \"left\"}, \"hovermode\": \"closest\", \"mapbox\": {\"style\": \"light\"}, \"paper_bgcolor\": \"white\", \"plot_bgcolor\": \"#E5ECF6\", \"polar\": {\"angularaxis\": {\"gridcolor\": \"white\", \"linecolor\": \"white\", \"ticks\": \"\"}, \"bgcolor\": \"#E5ECF6\", \"radialaxis\": {\"gridcolor\": \"white\", \"linecolor\": \"white\", \"ticks\": \"\"}}, \"scene\": {\"xaxis\": {\"backgroundcolor\": \"#E5ECF6\", \"gridcolor\": \"white\", \"gridwidth\": 2, \"linecolor\": \"white\", \"showbackground\": true, \"ticks\": \"\", \"zerolinecolor\": \"white\"}, \"yaxis\": {\"backgroundcolor\": \"#E5ECF6\", \"gridcolor\": \"white\", \"gridwidth\": 2, \"linecolor\": \"white\", \"showbackground\": true, \"ticks\": \"\", \"zerolinecolor\": \"white\"}, \"zaxis\": {\"backgroundcolor\": \"#E5ECF6\", \"gridcolor\": \"white\", \"gridwidth\": 2, \"linecolor\": \"white\", \"showbackground\": true, \"ticks\": \"\", \"zerolinecolor\": \"white\"}}, \"shapedefaults\": {\"line\": {\"color\": \"#2a3f5f\"}}, \"ternary\": {\"aaxis\": {\"gridcolor\": \"white\", \"linecolor\": \"white\", \"ticks\": \"\"}, \"baxis\": {\"gridcolor\": \"white\", \"linecolor\": \"white\", \"ticks\": \"\"}, \"bgcolor\": \"#E5ECF6\", \"caxis\": {\"gridcolor\": \"white\", \"linecolor\": \"white\", \"ticks\": \"\"}}, \"title\": {\"x\": 0.05}, \"xaxis\": {\"automargin\": true, \"gridcolor\": \"white\", \"linecolor\": \"white\", \"ticks\": \"\", \"title\": {\"standoff\": 15}, \"zerolinecolor\": \"white\", \"zerolinewidth\": 2}, \"yaxis\": {\"automargin\": true, \"gridcolor\": \"white\", \"linecolor\": \"white\", \"ticks\": \"\", \"title\": {\"standoff\": 15}, \"zerolinecolor\": \"white\", \"zerolinewidth\": 2}}}, \"title\": {\"text\": \"DWF Schedule\"}, \"xaxis\": {\"rangeselector\": {\"buttons\": [{\"count\": 7, \"label\": \"1w\", \"step\": \"day\", \"stepmode\": \"backward\"}, {\"count\": 1, \"label\": \"1m\", \"step\": \"month\", \"stepmode\": \"backward\"}, {\"count\": 6, \"label\": \"6m\", \"step\": \"month\", \"stepmode\": \"backward\"}, {\"count\": 1, \"label\": \"YTD\", \"step\": \"year\", \"stepmode\": \"todate\"}, {\"count\": 1, \"label\": \"1y\", \"step\": \"year\", \"stepmode\": \"backward\"}, {\"step\": \"all\"}]}, \"showgrid\": true, \"type\": \"date\", \"zeroline\": false}, \"yaxis\": {\"autorange\": false, \"range\": [-1, 6], \"showgrid\": true, \"ticktext\": [\"Parkes-CDFS\", \"DECam-CDFS\", \"ASTROSAT-NGC\", \"Parkes-NGC\", \"DECam-NGC\"], \"tickvals\": [0, 1, 2, 3, 4], \"zeroline\": false}},\n",
       "                        {\"responsive\": true}\n",
       "                    ).then(function(){\n",
       "                            \n",
       "var gd = document.getElementById('eab09faf-c3db-4591-8dd9-01029d049af2');\n",
       "var x = new MutationObserver(function (mutations, observer) {{\n",
       "        var display = window.getComputedStyle(gd).display;\n",
       "        if (!display || display === 'none') {{\n",
       "            console.log([gd, 'removed!']);\n",
       "            Plotly.purge(gd);\n",
       "            observer.disconnect();\n",
       "        }}\n",
       "}});\n",
       "\n",
       "// Listen for the removal of the full notebook cells\n",
       "var notebookContainer = gd.closest('#notebook-container');\n",
       "if (notebookContainer) {{\n",
       "    x.observe(notebookContainer, {childList: true});\n",
       "}}\n",
       "\n",
       "// Listen for the clearing of the current output cell\n",
       "var outputEl = gd.closest('.output');\n",
       "if (outputEl) {{\n",
       "    x.observe(outputEl, {childList: true});\n",
       "}}\n",
       "\n",
       "                        })\n",
       "                };\n",
       "                });\n",
       "            </script>\n",
       "        </div>"
      ]
     },
     "metadata": {},
     "output_type": "display_data"
    }
   ],
   "source": [
    "# Table for diff datetime formats\n",
    "# https://www.journaldev.com/23365/python-string-to-datetime-strptime\n",
    "# Do it like this: '%Y-%m-%d %H:%M:%S' = '2016-01-01 11:30:00'\n",
    "fmt = '%Y-%m-%d %H:%M:%S'\n",
    "\n",
    "# DECam Schedule from Jeff Cooke's email \n",
    "# Parkes Schedule from https://www.parkes.atnf.csiro.au/observing/schedules/current/PK.pdf \n",
    "# Parks Scheule also from Vivek Gupta's email subject: \"Swapping of Parkes observing time for P1050 - P1066 - BL\"\n",
    "# ASTROSAT Schedule from email chain subject: \"Your Astrosat proposal A09_107 has been accepted for cycle A09\"\n",
    "Schedule_Text = \"DECam,2020-09-13 04:30:00,2020-09-13 06:00:00,UTC,NGC,;\"\\\n",
    "                \"DECam,2020-09-14 04:30:00,2020-09-14 06:00:00,UTC,NGC,;\"\\\n",
    "                \"DECam,2020-09-15 04:30:00,2020-09-15 06:00:00,UTC,NGC,;\"\\\n",
    "                \"DECam,2020-09-17 04:30:00,2020-09-17 06:00:00,UTC,NGC,;\"\\\n",
    "                \"DECam,2020-09-18 04:30:00,2020-09-18 06:00:00,UTC,NGC,;\"\\\n",
    "                \"DECam,2020-09-19 04:30:00,2020-09-19 06:00:00,UTC,NGC,;\"\\\n",
    "                \"\"\\\n",
    "                \"DECam,2020-09-13 05:30:00,2020-09-13 10:00:00,UTC,CDFS,;\"\\\n",
    "                \"DECam,2020-09-14 05:30:00,2020-09-14 10:00:00,UTC,CDFS,;\"\\\n",
    "                \"DECam,2020-09-15 05:30:00,2020-09-15 10:00:00,UTC,CDFS,;\"\\\n",
    "                \"DECam,2020-09-17 05:30:00,2020-09-17 10:00:00,UTC,CDFS,;\"\\\n",
    "                \"DECam,2020-09-18 05:30:00,2020-09-18 10:00:00,UTC,CDFS,;\"\\\n",
    "                \"DECam,2020-09-19 05:30:00,2020-09-19 10:00:00,UTC,CDFS,;\"\\\n",
    "                \"\"\\\n",
    "                \"Parkes,2020-09-13 04:00:00,2020-09-13 10:00:00,UTC,NGC,;\"\\\n",
    "                \"Parkes,2020-09-14 04:00:00,2020-09-14 10:00:00,UTC,NGC,;\"\\\n",
    "                \"Parkes,2020-09-15 04:00:00,2020-09-15 10:00:00,UTC,NGC,;\"\\\n",
    "                \"\"\\\n",
    "                \"Parkes,2020-09-13 08:00:00,2020-09-13 12:00:00,UTC,CDFS,;\"\\\n",
    "                \"Parkes,2020-09-14 08:00:00,2020-09-14 12:00:00,UTC,CDFS,;\"\\\n",
    "                \"Parkes,2020-09-15 08:00:00,2020-09-15 12:00:00,UTC,CDFS,;\"\\\n",
    "                \"\"\\\n",
    "                \"ASTROSAT,2020-09-14 06:00:00,2020-09-14 08:00:00,UTC,NGC,;\"\\\n",
    "                \"ASTROSAT,2020-09-15 06:00:00,2020-09-15 08:00:00,UTC,NGC,;\"\\\n",
    "                \"ASTROSAT,2020-09-18 06:00:00,2020-09-18 08:00:00,UTC,NGC,;\"\n",
    "Plot_Visibility_2types(Schedule_Text,in_fmt='%Y-%m-%d %H:%M:%S',out_tz='UTC')"
   ]
  },
  {
   "cell_type": "code",
   "execution_count": null,
   "metadata": {},
   "outputs": [],
   "source": []
  },
  {
   "cell_type": "code",
   "execution_count": null,
   "metadata": {},
   "outputs": [],
   "source": []
  },
  {
   "cell_type": "code",
   "execution_count": null,
   "metadata": {},
   "outputs": [],
   "source": []
  }
 ],
 "metadata": {
  "kernelspec": {
   "display_name": "Python 3",
   "language": "python",
   "name": "python3"
  },
  "language_info": {
   "codemirror_mode": {
    "name": "ipython",
    "version": 3
   },
   "file_extension": ".py",
   "mimetype": "text/x-python",
   "name": "python",
   "nbconvert_exporter": "python",
   "pygments_lexer": "ipython3",
   "version": "3.7.4"
  }
 },
 "nbformat": 4,
 "nbformat_minor": 2
}
